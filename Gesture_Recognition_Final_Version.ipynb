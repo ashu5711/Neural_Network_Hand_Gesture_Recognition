{
 "cells": [
  {
   "cell_type": "markdown",
   "metadata": {},
   "source": [
    "# Gesture Recognition \n",
    "We are going to build a 3D Conv model that will be able to predict the 5 gestures correctly. Please import the following libraries to get started."
   ]
  },
  {
   "cell_type": "code",
   "execution_count": 11,
   "metadata": {},
   "outputs": [],
   "source": [
    "import numpy as np\n",
    "import os\n",
    "from scipy.misc import imread, imresize\n",
    "import datetime\n",
    "import os\n",
    "import warnings\n",
    "warnings.filterwarnings(\"ignore\")\n",
    "import abc\n",
    "from sys import getsizeof"
   ]
  },
  {
   "cell_type": "markdown",
   "metadata": {},
   "source": [
    "We set the random seed so that the results don't vary drastically."
   ]
  },
  {
   "cell_type": "code",
   "execution_count": 12,
   "metadata": {},
   "outputs": [],
   "source": [
    "np.random.seed(30)\n",
    "import random as rn\n",
    "rn.seed(30)\n",
    "from keras import backend as K\n",
    "import tensorflow as tf\n",
    "tf.set_random_seed(30)"
   ]
  },
  {
   "cell_type": "code",
   "execution_count": 13,
   "metadata": {},
   "outputs": [],
   "source": [
    "import cv2\n",
    "import matplotlib.pyplot as plt\n",
    "% matplotlib inline"
   ]
  },
  {
   "cell_type": "markdown",
   "metadata": {},
   "source": [
    "In this block, you read the folder names for training and validation. You also set the `batch_size` here. Note that you set the batch size in such a way that you are able to use the GPU in full capacity. You keep increasing the batch size until the machine throws an error."
   ]
  },
  {
   "cell_type": "code",
   "execution_count": 14,
   "metadata": {},
   "outputs": [],
   "source": [
    "from keras.models import Sequential, Model\n",
    "from keras.layers import Dense, GRU, Flatten, TimeDistributed, Flatten, BatchNormalization, Activation\n",
    "from keras.layers.convolutional import Conv3D, MaxPooling3D, Conv2D, MaxPooling2D\n",
    "from keras.layers.recurrent import LSTM\n",
    "from keras.callbacks import ModelCheckpoint, ReduceLROnPlateau\n",
    "from keras import optimizers\n",
    "from keras.layers import Dropout"
   ]
  },
  {
   "cell_type": "code",
   "execution_count": 15,
   "metadata": {},
   "outputs": [],
   "source": [
    "project_folder='Project_data'"
   ]
  },
  {
   "cell_type": "markdown",
   "metadata": {},
   "source": [
    "##### Plotting"
   ]
  },
  {
   "cell_type": "code",
   "execution_count": 16,
   "metadata": {},
   "outputs": [],
   "source": [
    "def plot(history):\n",
    "    fig, axes = plt.subplots(nrows=1, ncols=2, figsize=(15,4))\n",
    "    axes[0].plot(history.history['loss'])   \n",
    "    axes[0].plot(history.history['val_loss'])\n",
    "    axes[0].legend(['loss','val_loss'])\n",
    "\n",
    "    axes[1].plot(history.history['categorical_accuracy'])   \n",
    "    axes[1].plot(history.history['val_categorical_accuracy'])\n",
    "    axes[1].legend(['categorical_accuracy','val_categorical_accuracy'])"
   ]
  },
  {
   "cell_type": "markdown",
   "metadata": {},
   "source": [
    "## Generator\n",
    "Overall structure of the generator has been given. In the generator, we are going to preprocess the images as you have images of 2 different dimensions as well as create a batch of video frames. You have to experiment with `img_idx`, `y`,`z` and normalization such that you get high accuracy."
   ]
  },
  {
   "cell_type": "code",
   "execution_count": 7,
   "metadata": {},
   "outputs": [],
   "source": [
    "class ModelBuilder(metaclass= abc.ABCMeta):\n",
    "    \n",
    "    def initialize_path(self,project_folder):\n",
    "        self.train_doc = np.random.permutation(open(project_folder + '/' + 'train.csv').readlines())\n",
    "        self.val_doc = np.random.permutation(open(project_folder + '/' + 'val.csv').readlines())\n",
    "        self.train_path = project_folder + '/' + 'train'\n",
    "        self.val_path =  project_folder + '/' + 'val'\n",
    "        self.num_train_sequences = len(self.train_doc)\n",
    "        self.num_val_sequences = len(self.val_doc)\n",
    "        \n",
    "    def initialize_image_properties(self,image_height=100,image_width=100):\n",
    "        self.image_height=image_height # Y dimesnion of the image\n",
    "        self.image_width=image_width # X dimension of the image\n",
    "        self.channels=3 # number of channels in images 3 for color(RGB) and 1 for Gray\n",
    "        self.num_classes=5\n",
    "        self.total_frames=30 # length/depth of the video frames\n",
    "          \n",
    "    def initialize_hyperparams(self,frames_to_sample=30,batch_size=20,num_epochs=20):\n",
    "        self.frames_to_sample=frames_to_sample\n",
    "        self.batch_size=batch_size\n",
    "        self.num_epochs=num_epochs\n",
    "        \n",
    "        \n",
    "    def generator(self,source_path, folder_list, augment=False):\n",
    "        img_idx = np.round(np.linspace(0,self.total_frames-1,self.frames_to_sample)).astype(int)\n",
    "        batch_size=self.batch_size\n",
    "        while True:\n",
    "            t = np.random.permutation(folder_list)\n",
    "            num_batches = len(t)//batch_size\n",
    "        \n",
    "            for batch in range(num_batches): \n",
    "                batch_data, batch_labels= self.one_batch_data(source_path,t,batch,batch_size,img_idx,augment)\n",
    "                yield batch_data, batch_labels \n",
    "\n",
    "            remaining_seq=len(t)%batch_size\n",
    "        \n",
    "            if (remaining_seq != 0):\n",
    "                batch_data, batch_labels= self.one_batch_data(source_path,t,num_batches,batch_size,img_idx,augment,remaining_seq)\n",
    "                yield batch_data, batch_labels \n",
    "    \n",
    "    \n",
    "    def one_batch_data(self,source_path,t,batch,batch_size,img_idx,augment,remaining_seq=0):\n",
    "    \n",
    "        seq_len = remaining_seq if remaining_seq else batch_size\n",
    "    \n",
    "        batch_data = np.zeros((seq_len,len(img_idx),self.image_height,self.image_width,self.channels)) \n",
    "        batch_labels = np.zeros((seq_len,self.num_classes)) \n",
    "    \n",
    "        if (augment): batch_data_aug = np.zeros((seq_len,len(img_idx),self.image_height,self.image_width,self.channels))\n",
    "\n",
    "        # iterate over the batch_size\n",
    "        for folder in range(seq_len): \n",
    "            imgs = os.listdir(source_path+'/'+ t[folder + (batch*batch_size)].split(';')[0])\n",
    "            #  Iterate over the frames/images of a folder to read them in\n",
    "            for idx,item in enumerate(img_idx): \n",
    "                # read all the images in the folder\n",
    "                image = imread(source_path+'/'+ t[folder + (batch*batch_size)].strip().split(';')[0]+'/'+imgs[item]).astype(np.float32)\n",
    "                image_resized=imresize(image,(self.image_height,self.image_width,3))\n",
    "            \n",
    "                # normalise \n",
    "                batch_data[folder,idx,:,:,0] = (image_resized[:,:,0])/255\n",
    "                batch_data[folder,idx,:,:,1] = (image_resized[:,:,1])/255\n",
    "                batch_data[folder,idx,:,:,2] = (image_resized[:,:,2])/255\n",
    "                \n",
    "                # augment = true\n",
    "                if (augment):\n",
    "                    shifted = cv2.warpAffine(image, \n",
    "                                             np.float32([[1, 0, np.random.randint(-30,30)],[0, 1, np.random.randint(-30,30)]]), \n",
    "                                            (image.shape[1], image.shape[0]))\n",
    "                    \n",
    "                    gray = cv2.cvtColor(shifted,cv2.COLOR_BGR2GRAY)\n",
    "\n",
    "                    x0, y0 = np.argwhere(gray > 0).min(axis=0)\n",
    "                    x1, y1 = np.argwhere(gray > 0).max(axis=0) \n",
    "                    \n",
    "                    #cropping\n",
    "                    cropped=shifted[x0:x1,y0:y1,:]\n",
    "                    \n",
    "                    #resize the image\n",
    "                    image_resized=imresize(cropped,(self.image_height,self.image_width,3))\n",
    "                    \n",
    "                   # nolmalisation\n",
    "                    batch_data_aug[folder,idx,:,:,0] = (image_resized[:,:,0])/255\n",
    "                    batch_data_aug[folder,idx,:,:,1] = (image_resized[:,:,1])/255\n",
    "                    batch_data_aug[folder,idx,:,:,2] = (image_resized[:,:,2])/255\n",
    "                \n",
    "            \n",
    "            batch_labels[folder, int(t[folder + (batch*batch_size)].strip().split(';')[2])] = 1\n",
    "            \n",
    "    \n",
    "        if (augment):\n",
    "            batch_data=np.concatenate([batch_data,batch_data_aug])\n",
    "            batch_labels=np.concatenate([batch_labels,batch_labels])\n",
    "\n",
    "        \n",
    "        return(batch_data,batch_labels)\n",
    "    \n",
    "    # train the model and save them\n",
    "    def train_model(self, model, augment_data=False):\n",
    "        train_generator = self.generator(self.train_path, self.train_doc,augment=augment_data)\n",
    "        val_generator = self.generator(self.val_path, self.val_doc)\n",
    "\n",
    "        model_name = 'model_init' + '_' + str(datetime.datetime.now()).replace(' ','').replace(':','_') + '/'\n",
    "    \n",
    "        if not os.path.exists(model_name):\n",
    "            os.mkdir(model_name)\n",
    "        \n",
    "        filepath = model_name + 'model-{epoch:05d}-{loss:.5f}-{categorical_accuracy:.5f}-{val_loss:.5f}-{val_categorical_accuracy:.5f}.h5'\n",
    "\n",
    "        checkpoint = ModelCheckpoint(filepath, monitor='val_loss', verbose=1, save_best_only=False, save_weights_only=False, mode='auto', period=1)\n",
    "        LR = ReduceLROnPlateau(monitor='val_loss', factor=0.2, verbose=1, patience=4)\n",
    "        callbacks_list = [checkpoint, LR]\n",
    "\n",
    "        if (self.num_train_sequences%self.batch_size) == 0:\n",
    "            steps_per_epoch = int(self.num_train_sequences/self.batch_size)\n",
    "        else:\n",
    "            steps_per_epoch = (self.num_train_sequences//self.batch_size) + 1\n",
    "\n",
    "        if (self.num_val_sequences%self.batch_size) == 0:\n",
    "            validation_steps = int(self.num_val_sequences/self.batch_size)\n",
    "        else:\n",
    "            validation_steps = (self.num_val_sequences//self.batch_size) + 1\n",
    "    \n",
    "        history=model.fit_generator(train_generator, steps_per_epoch=steps_per_epoch, epochs=self.num_epochs, verbose=1, \n",
    "                            callbacks=callbacks_list, validation_data=val_generator, \n",
    "                            validation_steps=validation_steps, class_weight=None, workers=1, initial_epoch=0)\n",
    "        return history\n",
    "\n",
    "        \n",
    "    @abc.abstractmethod\n",
    "    def define_model(self):\n",
    "        pass"
   ]
  },
  {
   "cell_type": "markdown",
   "metadata": {},
   "source": [
    "## Model\n",
    "Here you make the model using different functionalities that Keras provides. Remember to use `Conv3D` and `MaxPooling3D` and not `Conv2D` and `Maxpooling2D` for a 3D convolution model. You would want to use `TimeDistributed` while building a Conv2D + RNN model. Also remember that the last layer is the softmax. Design the network in such a way that the model is able to give good accuracy on the least number of parameters so that it can fit in the memory of the webcam."
   ]
  },
  {
   "cell_type": "markdown",
   "metadata": {},
   "source": [
    "## Sample Model"
   ]
  },
  {
   "cell_type": "code",
   "execution_count": 8,
   "metadata": {},
   "outputs": [],
   "source": [
    "class ModelConv3D1(ModelBuilder):\n",
    "    \n",
    "    def define_model(self):\n",
    "\n",
    "        model = Sequential()\n",
    "        model.add(Conv3D(16, (3, 3, 3), padding='same',\n",
    "                 input_shape=(self.frames_to_sample,self.image_height,self.image_width,self.channels)))\n",
    "        model.add(Activation('relu'))\n",
    "        model.add(BatchNormalization())\n",
    "        model.add(MaxPooling3D(pool_size=(2, 2, 2)))\n",
    "\n",
    "        model.add(Conv3D(32, (2, 2, 2), padding='same'))\n",
    "        model.add(Activation('relu'))\n",
    "        model.add(BatchNormalization())\n",
    "        model.add(MaxPooling3D(pool_size=(2, 2, 2)))\n",
    "\n",
    "        model.add(Conv3D(64, (2, 2, 2), padding='same'))\n",
    "        model.add(Activation('relu'))\n",
    "        model.add(BatchNormalization())\n",
    "        model.add(MaxPooling3D(pool_size=(2, 2, 2)))\n",
    "\n",
    "        model.add(Conv3D(128, (2, 2, 2), padding='same'))\n",
    "        model.add(Activation('relu'))\n",
    "        model.add(BatchNormalization())\n",
    "        model.add(MaxPooling3D(pool_size=(2, 2, 2)))\n",
    "\n",
    "        model.add(Flatten())\n",
    "        model.add(Dense(128,activation='relu'))\n",
    "        model.add(BatchNormalization())\n",
    "        model.add(Dropout(0.5))\n",
    "\n",
    "        model.add(Dense(64,activation='relu'))\n",
    "        model.add(BatchNormalization())\n",
    "        model.add(Dropout(0.25))\n",
    "\n",
    "\n",
    "        model.add(Dense(self.num_classes,activation='softmax'))\n",
    "\n",
    "        optimiser = optimizers.Adam()\n",
    "        #optimiser = 'sgd'\n",
    "        model.compile(optimizer=optimiser, loss='categorical_crossentropy', metrics=['categorical_accuracy'])\n",
    "        return model"
   ]
  },
  {
   "cell_type": "code",
   "execution_count": 34,
   "metadata": {
    "scrolled": true
   },
   "outputs": [
    {
     "name": "stdout",
     "output_type": "stream",
     "text": [
      "_________________________________________________________________\n",
      "Layer (type)                 Output Shape              Param #   \n",
      "=================================================================\n",
      "conv3d_9 (Conv3D)            (None, 30, 160, 160, 16)  1312      \n",
      "_________________________________________________________________\n",
      "activation_9 (Activation)    (None, 30, 160, 160, 16)  0         \n",
      "_________________________________________________________________\n",
      "batch_normalization_15 (Batc (None, 30, 160, 160, 16)  64        \n",
      "_________________________________________________________________\n",
      "max_pooling3d_9 (MaxPooling3 (None, 15, 80, 80, 16)    0         \n",
      "_________________________________________________________________\n",
      "conv3d_10 (Conv3D)           (None, 15, 80, 80, 32)    4128      \n",
      "_________________________________________________________________\n",
      "activation_10 (Activation)   (None, 15, 80, 80, 32)    0         \n",
      "_________________________________________________________________\n",
      "batch_normalization_16 (Batc (None, 15, 80, 80, 32)    128       \n",
      "_________________________________________________________________\n",
      "max_pooling3d_10 (MaxPooling (None, 7, 40, 40, 32)     0         \n",
      "_________________________________________________________________\n",
      "conv3d_11 (Conv3D)           (None, 7, 40, 40, 64)     16448     \n",
      "_________________________________________________________________\n",
      "activation_11 (Activation)   (None, 7, 40, 40, 64)     0         \n",
      "_________________________________________________________________\n",
      "batch_normalization_17 (Batc (None, 7, 40, 40, 64)     256       \n",
      "_________________________________________________________________\n",
      "max_pooling3d_11 (MaxPooling (None, 3, 20, 20, 64)     0         \n",
      "_________________________________________________________________\n",
      "conv3d_12 (Conv3D)           (None, 3, 20, 20, 128)    65664     \n",
      "_________________________________________________________________\n",
      "activation_12 (Activation)   (None, 3, 20, 20, 128)    0         \n",
      "_________________________________________________________________\n",
      "batch_normalization_18 (Batc (None, 3, 20, 20, 128)    512       \n",
      "_________________________________________________________________\n",
      "max_pooling3d_12 (MaxPooling (None, 1, 10, 10, 128)    0         \n",
      "_________________________________________________________________\n",
      "flatten_5 (Flatten)          (None, 12800)             0         \n",
      "_________________________________________________________________\n",
      "dense_11 (Dense)             (None, 128)               1638528   \n",
      "_________________________________________________________________\n",
      "batch_normalization_19 (Batc (None, 128)               512       \n",
      "_________________________________________________________________\n",
      "dropout_9 (Dropout)          (None, 128)               0         \n",
      "_________________________________________________________________\n",
      "dense_12 (Dense)             (None, 64)                8256      \n",
      "_________________________________________________________________\n",
      "batch_normalization_20 (Batc (None, 64)                256       \n",
      "_________________________________________________________________\n",
      "dropout_10 (Dropout)         (None, 64)                0         \n",
      "_________________________________________________________________\n",
      "dense_13 (Dense)             (None, 5)                 325       \n",
      "=================================================================\n",
      "Total params: 1,736,389\n",
      "Trainable params: 1,735,525\n",
      "Non-trainable params: 864\n",
      "_________________________________________________________________\n"
     ]
    }
   ],
   "source": [
    "conv_3d1=ModelConv3D1()\n",
    "conv_3d1.initialize_path(project_folder)\n",
    "conv_3d1.initialize_image_properties(image_height=160,image_width=160)\n",
    "conv_3d1.initialize_hyperparams(frames_to_sample=30,batch_size=40,num_epochs=1)\n",
    "conv_3d1_model=conv_3d1.define_model()\n",
    "conv_3d1_model.summary()"
   ]
  },
  {
   "cell_type": "markdown",
   "metadata": {},
   "source": [
    "## Experimenting with Image resolution, number of frames to use and batch_size"
   ]
  },
  {
   "cell_type": "code",
   "execution_count": 24,
   "metadata": {
    "collapsed": true
   },
   "outputs": [],
   "source": [
    "#conv_3d1.train_model(conv_3d1_model)"
   ]
  },
  {
   "cell_type": "markdown",
   "metadata": {},
   "source": [
    "### We had hit the limit on memory resources with image resolution of 160x160 with 30 frames and batch_size of 40...we get the below error\n",
    "\n",
    "ResourceExhaustedError: OOM when allocating tensor with shape[40,16,30,160,160] and type float on /job:localhost/replica:0/task:0/device:GPU:0 by allocator GPU_0_bfc"
   ]
  },
  {
   "cell_type": "code",
   "execution_count": 11,
   "metadata": {},
   "outputs": [
    {
     "name": "stdout",
     "output_type": "stream",
     "text": [
      "Memory util is 3.662109524011612 Gigs\n"
     ]
    }
   ],
   "source": [
    "print(\"Memory util is {} Gigs\". format(getsizeof(np.zeros((40,16,30,160,160)))/(1024*1024*1024)))"
   ]
  },
  {
   "cell_type": "markdown",
   "metadata": {},
   "source": [
    "##### So lets trade-off between these parameters"
   ]
  },
  {
   "cell_type": "markdown",
   "metadata": {
    "collapsed": true
   },
   "source": [
    "##### Below are the experiments to see how training time is affected by image resolution, number of images in sequence and batch size"
   ]
  },
  {
   "cell_type": "code",
   "execution_count": 35,
   "metadata": {},
   "outputs": [
    {
     "name": "stdout",
     "output_type": "stream",
     "text": [
      "Total Params: 1736389\n",
      "Epoch 1/3\n",
      "23/23 [==============================] - 56s 2s/step - loss: 1.4478 - categorical_accuracy: 0.4823 - val_loss: 1.8004 - val_categorical_accuracy: 0.4700\n",
      "\n",
      "Epoch 00001: saving model to model_init_2020-06-2907_34_41.679837/model-00001-1.43877-0.47511-1.80042-0.47000.h5\n",
      "Epoch 2/3\n",
      "23/23 [==============================] - 42s 2s/step - loss: 1.1171 - categorical_accuracy: 0.5589 - val_loss: 2.5266 - val_categorical_accuracy: 0.3500\n",
      "\n",
      "Epoch 00002: saving model to model_init_2020-06-2907_34_41.679837/model-00002-1.09854-0.58069-2.52664-0.35000.h5\n",
      "Epoch 3/3\n",
      "23/23 [==============================] - 48s 2s/step - loss: 0.8466 - categorical_accuracy: 0.6908 - val_loss: 0.9303 - val_categorical_accuracy: 0.6900\n",
      "\n",
      "Epoch 00003: saving model to model_init_2020-06-2907_34_41.679837/model-00003-0.86434-0.67873-0.93026-0.69000.h5\n"
     ]
    },
    {
     "data": {
      "text/plain": [
       "<keras.callbacks.History at 0x7fa798f37940>"
      ]
     },
     "execution_count": 35,
     "metadata": {},
     "output_type": "execute_result"
    }
   ],
   "source": [
    "conv_3d1=ModelConv3D1()\n",
    "conv_3d1.initialize_path(project_folder)\n",
    "conv_3d1.initialize_image_properties(image_height=160,image_width=160)\n",
    "conv_3d1.initialize_hyperparams(frames_to_sample=16,batch_size=30,num_epochs=3)\n",
    "conv_3d1_model=conv_3d1.define_model()\n",
    "print(\"Total Params:\", conv_3d1_model.count_params())\n",
    "conv_3d1.train_model(conv_3d1_model)"
   ]
  },
  {
   "cell_type": "code",
   "execution_count": 13,
   "metadata": {},
   "outputs": [
    {
     "name": "stdout",
     "output_type": "stream",
     "text": [
      "Total Params: 687813\n",
      "Epoch 1/2\n",
      "23/23 [==============================] - 155s 7s/step - loss: 1.6274 - categorical_accuracy: 0.3812 - val_loss: 1.5832 - val_categorical_accuracy: 0.3800\n",
      "\n",
      "Epoch 00001: saving model to model_init_2020-06-2811_16_21.224104/model-00001-1.62954-0.38311-1.58322-0.38000.h5\n",
      "Epoch 2/2\n",
      "23/23 [==============================] - 74s 3s/step - loss: 1.2518 - categorical_accuracy: 0.5270 - val_loss: 1.8786 - val_categorical_accuracy: 0.3600\n",
      "\n",
      "Epoch 00002: saving model to model_init_2020-06-2811_16_21.224104/model-00002-1.13139-0.54751-1.87863-0.36000.h5\n"
     ]
    },
    {
     "data": {
      "text/plain": [
       "<keras.callbacks.History at 0x7f3558237240>"
      ]
     },
     "execution_count": 13,
     "metadata": {},
     "output_type": "execute_result"
    }
   ],
   "source": [
    "conv_3d1=ModelConv3D1()\n",
    "conv_3d1.initialize_path(project_folder)\n",
    "conv_3d1.initialize_image_properties(image_height=100,image_width=100)\n",
    "conv_3d1.initialize_hyperparams(frames_to_sample=30,batch_size=30,num_epochs=2)\n",
    "conv_3d1_model=conv_3d1.define_model()\n",
    "print(\"Total Params:\", conv_3d1_model.count_params())\n",
    "conv_3d1.train_model(conv_3d1_model)"
   ]
  },
  {
   "cell_type": "code",
   "execution_count": 36,
   "metadata": {},
   "outputs": [
    {
     "name": "stdout",
     "output_type": "stream",
     "text": [
      "Total Params: 687813\n",
      "Epoch 1/2\n",
      "12/12 [==============================] - 171s 14s/step - loss: 1.8388 - categorical_accuracy: 0.3062 - val_loss: 1.6211 - val_categorical_accuracy: 0.4300\n",
      "\n",
      "Epoch 00001: saving model to model_init_2020-06-2907_39_09.359229/model-00001-1.79500-0.33032-1.62112-0.43000.h5\n",
      "Epoch 2/2\n",
      "12/12 [==============================] - 70s 6s/step - loss: 1.2382 - categorical_accuracy: 0.5277 - val_loss: 0.9269 - val_categorical_accuracy: 0.6400\n",
      "\n",
      "Epoch 00002: saving model to model_init_2020-06-2907_39_09.359229/model-00002-1.12384-0.54299-0.92693-0.64000.h5\n"
     ]
    },
    {
     "data": {
      "text/plain": [
       "<keras.callbacks.History at 0x7fa792a9a860>"
      ]
     },
     "execution_count": 36,
     "metadata": {},
     "output_type": "execute_result"
    }
   ],
   "source": [
    "conv_3d1=ModelConv3D1()\n",
    "conv_3d1.initialize_path(project_folder)\n",
    "conv_3d1.initialize_image_properties(image_height=100,image_width=100)\n",
    "conv_3d1.initialize_hyperparams(frames_to_sample=30,batch_size=60,num_epochs=2)\n",
    "conv_3d1_model=conv_3d1.define_model()\n",
    "print(\"Total Params:\", conv_3d1_model.count_params())\n",
    "conv_3d1.train_model(conv_3d1_model)"
   ]
  },
  {
   "cell_type": "code",
   "execution_count": 37,
   "metadata": {},
   "outputs": [
    {
     "name": "stdout",
     "output_type": "stream",
     "text": [
      "Total Params: 687813\n",
      "Epoch 1/2\n",
      "12/12 [==============================] - 50s 4s/step - loss: 1.9045 - categorical_accuracy: 0.3146 - val_loss: 1.6745 - val_categorical_accuracy: 0.4300\n",
      "\n",
      "Epoch 00001: saving model to model_init_2020-06-2907_43_27.251076/model-00001-1.77188-0.33937-1.67445-0.43000.h5\n",
      "Epoch 2/2\n",
      "12/12 [==============================] - 33s 3s/step - loss: 1.2699 - categorical_accuracy: 0.5450 - val_loss: 1.1780 - val_categorical_accuracy: 0.5900\n",
      "\n",
      "Epoch 00002: saving model to model_init_2020-06-2907_43_27.251076/model-00002-1.19143-0.53544-1.17803-0.59000.h5\n"
     ]
    },
    {
     "data": {
      "text/plain": [
       "<keras.callbacks.History at 0x7fa79133eac8>"
      ]
     },
     "execution_count": 37,
     "metadata": {},
     "output_type": "execute_result"
    }
   ],
   "source": [
    "conv_3d1=ModelConv3D1()\n",
    "conv_3d1.initialize_path(project_folder)\n",
    "conv_3d1.initialize_image_properties(image_height=100,image_width=100)\n",
    "conv_3d1.initialize_hyperparams(frames_to_sample=16,batch_size=60,num_epochs=2)\n",
    "conv_3d1_model=conv_3d1.define_model()\n",
    "print(\"Total Params:\", conv_3d1_model.count_params())\n",
    "conv_3d1.train_model(conv_3d1_model)"
   ]
  },
  {
   "cell_type": "code",
   "execution_count": null,
   "metadata": {},
   "outputs": [],
   "source": [
    "conv_3d1=ModelConv3D1()\n",
    "conv_3d1.initialize_path(project_folder)\n",
    "conv_3d1.initialize_image_properties(image_height=100,image_width=100)\n",
    "conv_3d1.initialize_hyperparams(frames_to_sample=16,batch_size=80,num_epochs=2)\n",
    "conv_3d1_model=conv_3d1.define_model()\n",
    "print(\"Total Params:\", conv_3d1_model.count_params())\n",
    "conv_3d1.train_model(conv_3d1_model)"
   ]
  },
  {
   "cell_type": "code",
   "execution_count": null,
   "metadata": {},
   "outputs": [],
   "source": [
    "conv_3d1=ModelConv3D1()\n",
    "conv_3d1.initialize_path(project_folder)\n",
    "conv_3d1.initialize_image_properties(image_height=160,image_width=160)\n",
    "conv_3d1.initialize_hyperparams(frames_to_sample=30,batch_size=15,num_epochs=2)\n",
    "conv_3d1_model=conv_3d1.define_model()\n",
    "print(\"Total Params:\", conv_3d1_model.count_params())\n",
    "conv_3d1.train_model(conv_3d1_model)"
   ]
  },
  {
   "cell_type": "code",
   "execution_count": null,
   "metadata": {},
   "outputs": [],
   "source": [
    "conv_3d1=ModelConv3D1()\n",
    "conv_3d1.initialize_path(project_folder)\n",
    "conv_3d1.initialize_image_properties(image_height=160,image_width=160)\n",
    "conv_3d1.initialize_hyperparams(frames_to_sample=16,batch_size=15,num_epochs=2)\n",
    "conv_3d1_model=conv_3d1.define_model()\n",
    "print(\"Total Params:\", conv_3d1_model.count_params())\n",
    "conv_3d1.train_model(conv_3d1_model)"
   ]
  },
  {
   "cell_type": "code",
   "execution_count": null,
   "metadata": {},
   "outputs": [],
   "source": [
    "conv_3d1=ModelConv3D1()\n",
    "conv_3d1.initialize_path(project_folder)\n",
    "conv_3d1.initialize_image_properties(image_height=100,image_width=100)\n",
    "conv_3d1.initialize_hyperparams(frames_to_sample=16,batch_size=15,num_epochs=2)\n",
    "conv_3d1_model=conv_3d1.define_model()\n",
    "print(\"Total Params:\", conv_3d1_model.count_params())\n",
    "conv_3d1.train_model(conv_3d1_model)"
   ]
  },
  {
   "cell_type": "code",
   "execution_count": null,
   "metadata": {},
   "outputs": [],
   "source": [
    "conv_3d1=ModelConv3D1()\n",
    "conv_3d1.initialize_path(project_folder)\n",
    "conv_3d1.initialize_image_properties(image_height=100,image_width=100)\n",
    "conv_3d1.initialize_hyperparams(frames_to_sample=16,batch_size=10,num_epochs=2)\n",
    "conv_3d1_model=conv_3d1.define_model()\n",
    "print(\"Total Params:\", conv_3d1_model.count_params())\n",
    "conv_3d1.train_model(conv_3d1_model)"
   ]
  },
  {
   "cell_type": "code",
   "execution_count": null,
   "metadata": {},
   "outputs": [],
   "source": [
    "conv_3d1=ModelConv3D1()\n",
    "conv_3d1.initialize_path(project_folder)\n",
    "conv_3d1.initialize_image_properties(image_height=100,image_width=100)\n",
    "conv_3d1.initialize_hyperparams(frames_to_sample=30,batch_size=10,num_epochs=2)\n",
    "conv_3d1_model=conv_3d1.define_model()\n",
    "print(\"Total Params:\", conv_3d1_model.count_params())\n",
    "conv_3d1.train_model(conv_3d1_model)"
   ]
  },
  {
   "cell_type": "code",
   "execution_count": null,
   "metadata": {},
   "outputs": [],
   "source": [
    "conv_3d1=ModelConv3D1()\n",
    "conv_3d1.initialize_path(project_folder)\n",
    "conv_3d1.initialize_image_properties(image_height=160,image_width=160)\n",
    "conv_3d1.initialize_hyperparams(frames_to_sample=30,batch_size=10,num_epochs=2)\n",
    "conv_3d1_model=conv_3d1.define_model()\n",
    "print(\"Total Params:\", conv_3d1_model.count_params())\n",
    "conv_3d1.train_model(conv_3d1_model)"
   ]
  },
  {
   "cell_type": "code",
   "execution_count": null,
   "metadata": {},
   "outputs": [],
   "source": [
    "conv_3d1=ModelConv3D1()\n",
    "conv_3d1.initialize_path(project_folder)\n",
    "conv_3d1.initialize_image_properties(image_height=160,image_width=160)\n",
    "conv_3d1.initialize_hyperparams(frames_to_sample=16,batch_size=10,num_epochs=2)\n",
    "conv_3d1_model=conv_3d1.define_model()\n",
    "print(\"Total Params:\", conv_3d1_model.count_params())\n",
    "conv_3d1.train_model(conv_3d1_model)"
   ]
  },
  {
   "cell_type": "code",
   "execution_count": 14,
   "metadata": {},
   "outputs": [
    {
     "name": "stdout",
     "output_type": "stream",
     "text": [
      "Total Params: 1736389\n",
      "Epoch 1/2\n",
      "17/17 [==============================] - 132s 8s/step - loss: 1.5214 - categorical_accuracy: 0.4297 - val_loss: 2.0286 - val_categorical_accuracy: 0.3700\n",
      "\n",
      "Epoch 00001: saving model to model_init_2020-06-2906_00_26.331348/model-00001-1.53451-0.42534-2.02861-0.37000.h5\n",
      "Epoch 2/2\n",
      "17/17 [==============================] - 45s 3s/step - loss: 0.9862 - categorical_accuracy: 0.5952 - val_loss: 1.1291 - val_categorical_accuracy: 0.5100\n",
      "\n",
      "Epoch 00002: saving model to model_init_2020-06-2906_00_26.331348/model-00002-0.99123-0.59276-1.12914-0.51000.h5\n"
     ]
    },
    {
     "data": {
      "text/plain": [
       "<keras.callbacks.History at 0x7fa7b1b69f28>"
      ]
     },
     "execution_count": 14,
     "metadata": {},
     "output_type": "execute_result"
    }
   ],
   "source": [
    "conv_3d1=ModelConv3D1()\n",
    "conv_3d1.initialize_path(project_folder)\n",
    "conv_3d1.initialize_image_properties(image_height=160,image_width=160)\n",
    "conv_3d1.initialize_hyperparams(frames_to_sample=16,batch_size=40,num_epochs=2)\n",
    "conv_3d1_model=conv_3d1.define_model()\n",
    "print(\"Total Params:\", conv_3d1_model.count_params())\n",
    "conv_3d1.train_model(conv_3d1_model)"
   ]
  },
  {
   "cell_type": "markdown",
   "metadata": {},
   "source": [
    "##### As we see from the above experiments image resolution and number of frames in sequence have more impact on training time than batch_size"
   ]
  },
  {
   "cell_type": "markdown",
   "metadata": {
    "collapsed": true
   },
   "source": [
    "##### So experimentations are carried with batch size fixed around 15-40 and changing the resolution and number of image per sequence based on the device memory constraints . Models are designed such that their memory foot print is less than 50 MB which corresponds to 4.3 million parameters assuming the datatype size of parameters to be 12 bytes"
   ]
  },
  {
   "cell_type": "markdown",
   "metadata": {},
   "source": [
    "# Model 1 - Base Model - No Data Augmentation Batch Size 40 and Epoch 15"
   ]
  },
  {
   "cell_type": "code",
   "execution_count": 38,
   "metadata": {},
   "outputs": [],
   "source": [
    "class ModelConv3D1(ModelBuilder):\n",
    "    \n",
    "    def define_model(self,filtersize=(3,3,3),dense_neurons=64,dropout=0.25):\n",
    "\n",
    "        model = Sequential()\n",
    "        model.add(Conv3D(16, filtersize, padding='same',\n",
    "                 input_shape=(self.frames_to_sample,self.image_height,self.image_width,self.channels)))\n",
    "        model.add(Activation('relu'))\n",
    "        model.add(BatchNormalization())\n",
    "        model.add(MaxPooling3D(pool_size=(2, 2, 2)))\n",
    "\n",
    "        model.add(Conv3D(32, filtersize, padding='same'))\n",
    "        model.add(Activation('relu'))\n",
    "        model.add(BatchNormalization())\n",
    "        model.add(MaxPooling3D(pool_size=(2, 2, 2)))\n",
    "\n",
    "        model.add(Conv3D(64, filtersize, padding='same'))\n",
    "        model.add(Activation('relu'))\n",
    "        model.add(BatchNormalization())\n",
    "        model.add(MaxPooling3D(pool_size=(2, 2, 2)))\n",
    "\n",
    "        model.add(Conv3D(128, filtersize, padding='same'))\n",
    "        model.add(Activation('relu'))\n",
    "        model.add(BatchNormalization())\n",
    "        model.add(MaxPooling3D(pool_size=(2, 2, 2)))\n",
    "\n",
    "        model.add(Flatten())\n",
    "        model.add(Dense(dense_neurons,activation='relu'))\n",
    "        model.add(BatchNormalization())\n",
    "        model.add(Dropout(dropout))\n",
    "\n",
    "        model.add(Dense(dense_neurons,activation='relu'))\n",
    "        model.add(BatchNormalization())\n",
    "        model.add(Dropout(dropout))\n",
    "\n",
    "\n",
    "        model.add(Dense(self.num_classes,activation='softmax'))\n",
    "\n",
    "        optimiser = optimizers.Adam()\n",
    "        model.compile(optimizer=optimiser, loss='categorical_crossentropy', metrics=['categorical_accuracy'])\n",
    "        return model"
   ]
  },
  {
   "cell_type": "code",
   "execution_count": 16,
   "metadata": {},
   "outputs": [
    {
     "name": "stdout",
     "output_type": "stream",
     "text": [
      "_________________________________________________________________\n",
      "Layer (type)                 Output Shape              Param #   \n",
      "=================================================================\n",
      "conv3d_17 (Conv3D)           (None, 20, 160, 160, 16)  1312      \n",
      "_________________________________________________________________\n",
      "activation_17 (Activation)   (None, 20, 160, 160, 16)  0         \n",
      "_________________________________________________________________\n",
      "batch_normalization_25 (Batc (None, 20, 160, 160, 16)  64        \n",
      "_________________________________________________________________\n",
      "max_pooling3d_17 (MaxPooling (None, 10, 80, 80, 16)    0         \n",
      "_________________________________________________________________\n",
      "conv3d_18 (Conv3D)           (None, 10, 80, 80, 32)    13856     \n",
      "_________________________________________________________________\n",
      "activation_18 (Activation)   (None, 10, 80, 80, 32)    0         \n",
      "_________________________________________________________________\n",
      "batch_normalization_26 (Batc (None, 10, 80, 80, 32)    128       \n",
      "_________________________________________________________________\n",
      "max_pooling3d_18 (MaxPooling (None, 5, 40, 40, 32)     0         \n",
      "_________________________________________________________________\n",
      "conv3d_19 (Conv3D)           (None, 5, 40, 40, 64)     55360     \n",
      "_________________________________________________________________\n",
      "activation_19 (Activation)   (None, 5, 40, 40, 64)     0         \n",
      "_________________________________________________________________\n",
      "batch_normalization_27 (Batc (None, 5, 40, 40, 64)     256       \n",
      "_________________________________________________________________\n",
      "max_pooling3d_19 (MaxPooling (None, 2, 20, 20, 64)     0         \n",
      "_________________________________________________________________\n",
      "conv3d_20 (Conv3D)           (None, 2, 20, 20, 128)    221312    \n",
      "_________________________________________________________________\n",
      "activation_20 (Activation)   (None, 2, 20, 20, 128)    0         \n",
      "_________________________________________________________________\n",
      "batch_normalization_28 (Batc (None, 2, 20, 20, 128)    512       \n",
      "_________________________________________________________________\n",
      "max_pooling3d_20 (MaxPooling (None, 1, 10, 10, 128)    0         \n",
      "_________________________________________________________________\n",
      "flatten_5 (Flatten)          (None, 12800)             0         \n",
      "_________________________________________________________________\n",
      "dense_13 (Dense)             (None, 64)                819264    \n",
      "_________________________________________________________________\n",
      "batch_normalization_29 (Batc (None, 64)                256       \n",
      "_________________________________________________________________\n",
      "dropout_9 (Dropout)          (None, 64)                0         \n",
      "_________________________________________________________________\n",
      "dense_14 (Dense)             (None, 64)                4160      \n",
      "_________________________________________________________________\n",
      "batch_normalization_30 (Batc (None, 64)                256       \n",
      "_________________________________________________________________\n",
      "dropout_10 (Dropout)         (None, 64)                0         \n",
      "_________________________________________________________________\n",
      "dense_15 (Dense)             (None, 5)                 325       \n",
      "=================================================================\n",
      "Total params: 1,117,061\n",
      "Trainable params: 1,116,325\n",
      "Non-trainable params: 736\n",
      "_________________________________________________________________\n"
     ]
    }
   ],
   "source": [
    "conv_3d1=ModelConv3D1()\n",
    "conv_3d1.initialize_path(project_folder)\n",
    "conv_3d1.initialize_image_properties(image_height=160,image_width=160)\n",
    "conv_3d1.initialize_hyperparams(frames_to_sample=20,batch_size=40,num_epochs=15)\n",
    "conv_3d1_model=conv_3d1.define_model()\n",
    "conv_3d1_model.summary()"
   ]
  },
  {
   "cell_type": "code",
   "execution_count": 17,
   "metadata": {},
   "outputs": [
    {
     "name": "stdout",
     "output_type": "stream",
     "text": [
      "Total Params: 1117061\n",
      "Epoch 1/15\n",
      "17/17 [==============================] - 73s 4s/step - loss: 1.5920 - categorical_accuracy: 0.4189 - val_loss: 2.7866 - val_categorical_accuracy: 0.3600\n",
      "\n",
      "Epoch 00001: saving model to model_init_2020-06-2811_26_53.147794/model-00001-1.60773-0.41327-2.78656-0.36000.h5\n",
      "Epoch 2/15\n",
      "17/17 [==============================] - 53s 3s/step - loss: 1.0950 - categorical_accuracy: 0.5575 - val_loss: 1.8664 - val_categorical_accuracy: 0.4700\n",
      "\n",
      "Epoch 00002: saving model to model_init_2020-06-2811_26_53.147794/model-00002-1.08568-0.56259-1.86644-0.47000.h5\n",
      "Epoch 3/15\n",
      "17/17 [==============================] - 59s 3s/step - loss: 0.8216 - categorical_accuracy: 0.6955 - val_loss: 0.9922 - val_categorical_accuracy: 0.6200\n",
      "\n",
      "Epoch 00003: saving model to model_init_2020-06-2811_26_53.147794/model-00003-0.82965-0.69231-0.99215-0.62000.h5\n",
      "Epoch 4/15\n",
      "17/17 [==============================] - 58s 3s/step - loss: 0.5935 - categorical_accuracy: 0.7720 - val_loss: 1.1964 - val_categorical_accuracy: 0.5900\n",
      "\n",
      "Epoch 00004: saving model to model_init_2020-06-2811_26_53.147794/model-00004-0.59834-0.77074-1.19643-0.59000.h5\n",
      "Epoch 5/15\n",
      "17/17 [==============================] - 58s 3s/step - loss: 0.4520 - categorical_accuracy: 0.8505 - val_loss: 1.1269 - val_categorical_accuracy: 0.6700\n",
      "\n",
      "Epoch 00005: saving model to model_init_2020-06-2811_26_53.147794/model-00005-0.45081-0.85219-1.12691-0.67000.h5\n",
      "Epoch 6/15\n",
      "17/17 [==============================] - 58s 3s/step - loss: 0.3216 - categorical_accuracy: 0.8999 - val_loss: 1.0598 - val_categorical_accuracy: 0.6600\n",
      "\n",
      "Epoch 00006: saving model to model_init_2020-06-2811_26_53.147794/model-00006-0.32580-0.89744-1.05984-0.66000.h5\n",
      "Epoch 7/15\n",
      "17/17 [==============================] - 58s 3s/step - loss: 0.2900 - categorical_accuracy: 0.9223 - val_loss: 1.4291 - val_categorical_accuracy: 0.5300\n",
      "\n",
      "Epoch 00007: saving model to model_init_2020-06-2811_26_53.147794/model-00007-0.28651-0.92459-1.42913-0.53000.h5\n",
      "\n",
      "Epoch 00007: ReduceLROnPlateau reducing learning rate to 0.00020000000949949026.\n",
      "Epoch 8/15\n",
      "17/17 [==============================] - 57s 3s/step - loss: 0.1776 - categorical_accuracy: 0.9548 - val_loss: 1.1239 - val_categorical_accuracy: 0.5800\n",
      "\n",
      "Epoch 00008: saving model to model_init_2020-06-2811_26_53.147794/model-00008-0.17766-0.95475-1.12389-0.58000.h5\n",
      "Epoch 9/15\n",
      "17/17 [==============================] - 57s 3s/step - loss: 0.1541 - categorical_accuracy: 0.9632 - val_loss: 1.0765 - val_categorical_accuracy: 0.6100\n",
      "\n",
      "Epoch 00009: saving model to model_init_2020-06-2811_26_53.147794/model-00009-0.15452-0.96229-1.07646-0.61000.h5\n",
      "Epoch 10/15\n",
      "17/17 [==============================] - 58s 3s/step - loss: 0.1377 - categorical_accuracy: 0.9779 - val_loss: 1.0406 - val_categorical_accuracy: 0.6000\n",
      "\n",
      "Epoch 00010: saving model to model_init_2020-06-2811_26_53.147794/model-00010-0.13791-0.97738-1.04058-0.60000.h5\n",
      "Epoch 11/15\n",
      "17/17 [==============================] - 58s 3s/step - loss: 0.1125 - categorical_accuracy: 0.9838 - val_loss: 0.9008 - val_categorical_accuracy: 0.6500\n",
      "\n",
      "Epoch 00011: saving model to model_init_2020-06-2811_26_53.147794/model-00011-0.11356-0.98341-0.90082-0.65000.h5\n",
      "Epoch 12/15\n",
      "17/17 [==============================] - 58s 3s/step - loss: 0.1116 - categorical_accuracy: 0.9838 - val_loss: 0.8855 - val_categorical_accuracy: 0.6400\n",
      "\n",
      "Epoch 00012: saving model to model_init_2020-06-2811_26_53.147794/model-00012-0.11175-0.98341-0.88545-0.64000.h5\n",
      "Epoch 13/15\n",
      "17/17 [==============================] - 58s 3s/step - loss: 0.1137 - categorical_accuracy: 0.9817 - val_loss: 0.8647 - val_categorical_accuracy: 0.7200\n",
      "\n",
      "Epoch 00013: saving model to model_init_2020-06-2811_26_53.147794/model-00013-0.10669-0.98341-0.86469-0.72000.h5\n",
      "Epoch 14/15\n",
      "17/17 [==============================] - 58s 3s/step - loss: 0.1011 - categorical_accuracy: 0.9882 - val_loss: 0.8608 - val_categorical_accuracy: 0.7400\n",
      "\n",
      "Epoch 00014: saving model to model_init_2020-06-2811_26_53.147794/model-00014-0.10169-0.98793-0.86077-0.74000.h5\n",
      "Epoch 15/15\n",
      "17/17 [==============================] - 59s 3s/step - loss: 0.0982 - categorical_accuracy: 0.9857 - val_loss: 0.7464 - val_categorical_accuracy: 0.7400\n",
      "\n",
      "Epoch 00015: saving model to model_init_2020-06-2811_26_53.147794/model-00015-0.09773-0.98643-0.74642-0.74000.h5\n"
     ]
    }
   ],
   "source": [
    "print(\"Total Params:\", conv_3d1_model.count_params())\n",
    "history_model1 = conv_3d1.train_model(conv_3d1_model)"
   ]
  },
  {
   "cell_type": "code",
   "execution_count": 18,
   "metadata": {},
   "outputs": [
    {
     "data": {
      "image/png": "[encoded data removed]",
      "text/plain": [
       "<Figure size 1080x288 with 2 Axes>"
      ]
     },
     "metadata": {},
     "output_type": "display_data"
    }
   ],
   "source": [
    "plot(history_model1)"
   ]
  },
  {
   "cell_type": "markdown",
   "metadata": {},
   "source": [
    "##### Model is clearly overfitting. So we need to do data augmentation"
   ]
  },
  {
   "cell_type": "markdown",
   "metadata": {},
   "source": [
    "# Model 2 - Augment Data , (3,3,3) filter & 160x160 image resolution"
   ]
  },
  {
   "cell_type": "code",
   "execution_count": 39,
   "metadata": {},
   "outputs": [
    {
     "name": "stdout",
     "output_type": "stream",
     "text": [
      "_________________________________________________________________\n",
      "Layer (type)                 Output Shape              Param #   \n",
      "=================================================================\n",
      "conv3d_25 (Conv3D)           (None, 20, 160, 160, 16)  1312      \n",
      "_________________________________________________________________\n",
      "activation_25 (Activation)   (None, 20, 160, 160, 16)  0         \n",
      "_________________________________________________________________\n",
      "batch_normalization_39 (Batc (None, 20, 160, 160, 16)  64        \n",
      "_________________________________________________________________\n",
      "max_pooling3d_25 (MaxPooling (None, 10, 80, 80, 16)    0         \n",
      "_________________________________________________________________\n",
      "conv3d_26 (Conv3D)           (None, 10, 80, 80, 32)    13856     \n",
      "_________________________________________________________________\n",
      "activation_26 (Activation)   (None, 10, 80, 80, 32)    0         \n",
      "_________________________________________________________________\n",
      "batch_normalization_40 (Batc (None, 10, 80, 80, 32)    128       \n",
      "_________________________________________________________________\n",
      "max_pooling3d_26 (MaxPooling (None, 5, 40, 40, 32)     0         \n",
      "_________________________________________________________________\n",
      "conv3d_27 (Conv3D)           (None, 5, 40, 40, 64)     55360     \n",
      "_________________________________________________________________\n",
      "activation_27 (Activation)   (None, 5, 40, 40, 64)     0         \n",
      "_________________________________________________________________\n",
      "batch_normalization_41 (Batc (None, 5, 40, 40, 64)     256       \n",
      "_________________________________________________________________\n",
      "max_pooling3d_27 (MaxPooling (None, 2, 20, 20, 64)     0         \n",
      "_________________________________________________________________\n",
      "conv3d_28 (Conv3D)           (None, 2, 20, 20, 128)    221312    \n",
      "_________________________________________________________________\n",
      "activation_28 (Activation)   (None, 2, 20, 20, 128)    0         \n",
      "_________________________________________________________________\n",
      "batch_normalization_42 (Batc (None, 2, 20, 20, 128)    512       \n",
      "_________________________________________________________________\n",
      "max_pooling3d_28 (MaxPooling (None, 1, 10, 10, 128)    0         \n",
      "_________________________________________________________________\n",
      "flatten_9 (Flatten)          (None, 12800)             0         \n",
      "_________________________________________________________________\n",
      "dense_23 (Dense)             (None, 256)               3277056   \n",
      "_________________________________________________________________\n",
      "batch_normalization_43 (Batc (None, 256)               1024      \n",
      "_________________________________________________________________\n",
      "dropout_17 (Dropout)         (None, 256)               0         \n",
      "_________________________________________________________________\n",
      "dense_24 (Dense)             (None, 256)               65792     \n",
      "_________________________________________________________________\n",
      "batch_normalization_44 (Batc (None, 256)               1024      \n",
      "_________________________________________________________________\n",
      "dropout_18 (Dropout)         (None, 256)               0         \n",
      "_________________________________________________________________\n",
      "dense_25 (Dense)             (None, 5)                 1285      \n",
      "=================================================================\n",
      "Total params: 3,638,981\n",
      "Trainable params: 3,637,477\n",
      "Non-trainable params: 1,504\n",
      "_________________________________________________________________\n"
     ]
    }
   ],
   "source": [
    "conv_3d2=ModelConv3D1()\n",
    "conv_3d2.initialize_path(project_folder)\n",
    "conv_3d2.initialize_image_properties(image_height=160,image_width=160)\n",
    "conv_3d2.initialize_hyperparams(frames_to_sample=20,batch_size=20,num_epochs=25)\n",
    "conv_3d2_model=conv_3d2.define_model(dense_neurons=256,dropout=0.5)\n",
    "conv_3d2_model.summary()"
   ]
  },
  {
   "cell_type": "code",
   "execution_count": 40,
   "metadata": {},
   "outputs": [
    {
     "name": "stdout",
     "output_type": "stream",
     "text": [
      "Total Params: 3638981\n",
      "Epoch 1/25\n",
      "34/34 [==============================] - 146s 4s/step - loss: 1.9884 - categorical_accuracy: 0.3731 - val_loss: 8.1851 - val_categorical_accuracy: 0.2300\n",
      "\n",
      "Epoch 00001: saving model to model_init_2020-06-2907_49_15.722800/model-00001-2.00071-0.37406-8.18505-0.23000.h5\n",
      "Epoch 2/25\n",
      "34/34 [==============================] - 127s 4s/step - loss: 1.4720 - categorical_accuracy: 0.4720 - val_loss: 2.7896 - val_categorical_accuracy: 0.4000\n",
      "\n",
      "Epoch 00002: saving model to model_init_2020-06-2907_49_15.722800/model-00002-1.47744-0.47134-2.78964-0.40000.h5\n",
      "Epoch 3/25\n",
      "34/34 [==============================] - 135s 4s/step - loss: 1.2252 - categorical_accuracy: 0.5695 - val_loss: 0.9047 - val_categorical_accuracy: 0.6700\n",
      "\n",
      "Epoch 00003: saving model to model_init_2020-06-2907_49_15.722800/model-00003-1.21665-0.56712-0.90468-0.67000.h5\n",
      "Epoch 4/25\n",
      "34/34 [==============================] - 135s 4s/step - loss: 1.1331 - categorical_accuracy: 0.6019 - val_loss: 2.2193 - val_categorical_accuracy: 0.4900\n",
      "\n",
      "Epoch 00004: saving model to model_init_2020-06-2907_49_15.722800/model-00004-1.10418-0.60860-2.21931-0.49000.h5\n",
      "Epoch 5/25\n",
      "34/34 [==============================] - 136s 4s/step - loss: 1.1380 - categorical_accuracy: 0.5920 - val_loss: 3.6395 - val_categorical_accuracy: 0.3500\n",
      "\n",
      "Epoch 00005: saving model to model_init_2020-06-2907_49_15.722800/model-00005-1.13087-0.59427-3.63948-0.35000.h5\n",
      "Epoch 6/25\n",
      "34/34 [==============================] - 134s 4s/step - loss: 1.0620 - categorical_accuracy: 0.6096 - val_loss: 2.0732 - val_categorical_accuracy: 0.5500\n",
      "\n",
      "Epoch 00006: saving model to model_init_2020-06-2907_49_15.722800/model-00006-1.06192-0.61237-2.07324-0.55000.h5\n",
      "Epoch 7/25\n",
      "34/34 [==============================] - 136s 4s/step - loss: 0.9281 - categorical_accuracy: 0.6505 - val_loss: 1.1653 - val_categorical_accuracy: 0.6700\n",
      "\n",
      "Epoch 00007: saving model to model_init_2020-06-2907_49_15.722800/model-00007-0.91582-0.65008-1.16525-0.67000.h5\n",
      "\n",
      "Epoch 00007: ReduceLROnPlateau reducing learning rate to 0.00020000000949949026.\n",
      "Epoch 8/25\n",
      "34/34 [==============================] - 133s 4s/step - loss: 0.7559 - categorical_accuracy: 0.7020 - val_loss: 1.0457 - val_categorical_accuracy: 0.6900\n",
      "\n",
      "Epoch 00008: saving model to model_init_2020-06-2907_49_15.722800/model-00008-0.74534-0.71116-1.04571-0.69000.h5\n",
      "Epoch 9/25\n",
      "34/34 [==============================] - 135s 4s/step - loss: 0.7401 - categorical_accuracy: 0.7322 - val_loss: 1.0781 - val_categorical_accuracy: 0.6500\n",
      "\n",
      "Epoch 00009: saving model to model_init_2020-06-2907_49_15.722800/model-00009-0.73176-0.73379-1.07806-0.65000.h5\n",
      "Epoch 10/25\n",
      "34/34 [==============================] - 135s 4s/step - loss: 0.6951 - categorical_accuracy: 0.7373 - val_loss: 0.7491 - val_categorical_accuracy: 0.7300\n",
      "\n",
      "Epoch 00010: saving model to model_init_2020-06-2907_49_15.722800/model-00010-0.65958-0.74736-0.74913-0.73000.h5\n",
      "Epoch 11/25\n",
      "34/34 [==============================] - 134s 4s/step - loss: 0.6663 - categorical_accuracy: 0.7539 - val_loss: 0.8091 - val_categorical_accuracy: 0.7300\n",
      "\n",
      "Epoch 00011: saving model to model_init_2020-06-2907_49_15.722800/model-00011-0.61569-0.76848-0.80910-0.73000.h5\n",
      "Epoch 12/25\n",
      "34/34 [==============================] - 135s 4s/step - loss: 0.6682 - categorical_accuracy: 0.7535 - val_loss: 1.0107 - val_categorical_accuracy: 0.6700\n",
      "\n",
      "Epoch 00012: saving model to model_init_2020-06-2907_49_15.722800/model-00012-0.64085-0.75566-1.01074-0.67000.h5\n",
      "Epoch 13/25\n",
      "34/34 [==============================] - 134s 4s/step - loss: 0.6028 - categorical_accuracy: 0.7697 - val_loss: 0.7745 - val_categorical_accuracy: 0.7500\n",
      "\n",
      "Epoch 00013: saving model to model_init_2020-06-2907_49_15.722800/model-00013-0.58662-0.77225-0.77454-0.75000.h5\n",
      "Epoch 14/25\n",
      "34/34 [==============================] - 134s 4s/step - loss: 0.5815 - categorical_accuracy: 0.7851 - val_loss: 0.6726 - val_categorical_accuracy: 0.7500\n",
      "\n",
      "Epoch 00014: saving model to model_init_2020-06-2907_49_15.722800/model-00014-0.58989-0.77979-0.67256-0.75000.h5\n",
      "Epoch 15/25\n",
      "34/34 [==============================] - 134s 4s/step - loss: 0.5475 - categorical_accuracy: 0.8068 - val_loss: 1.0027 - val_categorical_accuracy: 0.7000\n",
      "\n",
      "Epoch 00015: saving model to model_init_2020-06-2907_49_15.722800/model-00015-0.50824-0.81448-1.00270-0.70000.h5\n",
      "Epoch 16/25\n",
      "34/34 [==============================] - 136s 4s/step - loss: 0.5581 - categorical_accuracy: 0.8039 - val_loss: 1.0459 - val_categorical_accuracy: 0.6300\n",
      "\n",
      "Epoch 00016: saving model to model_init_2020-06-2907_49_15.722800/model-00016-0.51638-0.81146-1.04592-0.63000.h5\n",
      "Epoch 17/25\n",
      "34/34 [==============================] - 135s 4s/step - loss: 0.5164 - categorical_accuracy: 0.8021 - val_loss: 0.9679 - val_categorical_accuracy: 0.7100\n",
      "\n",
      "Epoch 00017: saving model to model_init_2020-06-2907_49_15.722800/model-00017-0.50655-0.80543-0.96787-0.71000.h5\n",
      "Epoch 18/25\n",
      "34/34 [==============================] - 134s 4s/step - loss: 0.5237 - categorical_accuracy: 0.8138 - val_loss: 0.8300 - val_categorical_accuracy: 0.7600\n",
      "\n",
      "Epoch 00018: saving model to model_init_2020-06-2907_49_15.722800/model-00018-0.49188-0.82579-0.82999-0.76000.h5\n",
      "\n",
      "Epoch 00018: ReduceLROnPlateau reducing learning rate to 4.0000001899898055e-05.\n",
      "Epoch 19/25\n",
      "34/34 [==============================] - 135s 4s/step - loss: 0.4719 - categorical_accuracy: 0.8142 - val_loss: 0.8056 - val_categorical_accuracy: 0.7200\n",
      "\n",
      "Epoch 00019: saving model to model_init_2020-06-2907_49_15.722800/model-00019-0.44597-0.82202-0.80564-0.72000.h5\n",
      "Epoch 20/25\n",
      "34/34 [==============================] - 134s 4s/step - loss: 0.4657 - categorical_accuracy: 0.8293 - val_loss: 0.6756 - val_categorical_accuracy: 0.7400\n",
      "\n",
      "Epoch 00020: saving model to model_init_2020-06-2907_49_15.722800/model-00020-0.45663-0.83333-0.67561-0.74000.h5\n",
      "Epoch 21/25\n",
      "34/34 [==============================] - 134s 4s/step - loss: 0.3738 - categorical_accuracy: 0.8602 - val_loss: 0.6919 - val_categorical_accuracy: 0.7400\n",
      "\n",
      "Epoch 00021: saving model to model_init_2020-06-2907_49_15.722800/model-00021-0.36156-0.86501-0.69191-0.74000.h5\n",
      "Epoch 22/25\n",
      "34/34 [==============================] - 132s 4s/step - loss: 0.3681 - categorical_accuracy: 0.8624 - val_loss: 0.6842 - val_categorical_accuracy: 0.7500\n",
      "\n",
      "Epoch 00022: saving model to model_init_2020-06-2907_49_15.722800/model-00022-0.37429-0.85897-0.68422-0.75000.h5\n",
      "\n",
      "Epoch 00022: ReduceLROnPlateau reducing learning rate to 8.000000525498762e-06.\n",
      "Epoch 23/25\n",
      "34/34 [==============================] - 134s 4s/step - loss: 0.3957 - categorical_accuracy: 0.8528 - val_loss: 0.6622 - val_categorical_accuracy: 0.7800\n",
      "\n",
      "Epoch 00023: saving model to model_init_2020-06-2907_49_15.722800/model-00023-0.38032-0.85747-0.66223-0.78000.h5\n",
      "Epoch 24/25\n",
      "34/34 [==============================] - 134s 4s/step - loss: 0.4234 - categorical_accuracy: 0.8495 - val_loss: 0.6421 - val_categorical_accuracy: 0.7800\n",
      "\n",
      "Epoch 00024: saving model to model_init_2020-06-2907_49_15.722800/model-00024-0.38324-0.85822-0.64208-0.78000.h5\n",
      "Epoch 25/25\n",
      "34/34 [==============================] - 132s 4s/step - loss: 0.4383 - categorical_accuracy: 0.8407 - val_loss: 0.6298 - val_categorical_accuracy: 0.7900\n",
      "\n",
      "Epoch 00025: saving model to model_init_2020-06-2907_49_15.722800/model-00025-0.37903-0.85747-0.62977-0.79000.h5\n"
     ]
    }
   ],
   "source": [
    "print(\"Total Params:\", conv_3d2_model.count_params())\n",
    "history_model2=conv_3d2.train_model(conv_3d2_model,augment_data=True)"
   ]
  },
  {
   "cell_type": "code",
   "execution_count": 41,
   "metadata": {},
   "outputs": [
    {
     "data": {
      "image/png": "[encoded data removed]",
      "text/plain": [
       "<Figure size 1080x288 with 2 Axes>"
      ]
     },
     "metadata": {},
     "output_type": "display_data"
    }
   ],
   "source": [
    "plot(history_model2)"
   ]
  },
  {
   "cell_type": "markdown",
   "metadata": {},
   "source": [
    "##### Model is not overfitting and we get a best validation accuracy of 80% and training accuracy of 85%. Next we will try to reduce the filter size and image resolution and see if get better results. Moreover since we see minor oscillations  in loss, let's try lowering the learning rate to 0.0002"
   ]
  },
  {
   "cell_type": "markdown",
   "metadata": {},
   "source": [
    "# Model 3 - Reduce filter size to (2,2,2) and image res to 120 x  120"
   ]
  },
  {
   "cell_type": "code",
   "execution_count": 9,
   "metadata": {},
   "outputs": [],
   "source": [
    "class ModelConv3D3(ModelBuilder):\n",
    "    \n",
    "    def define_model(self,filtersize=(3,3,3),dense_neurons=64,dropout=0.25):\n",
    "\n",
    "        model = Sequential()\n",
    "        model.add(Conv3D(16, filtersize, padding='same',\n",
    "                 input_shape=(self.frames_to_sample,self.image_height,self.image_width,self.channels)))\n",
    "        model.add(Activation('relu'))\n",
    "        model.add(BatchNormalization())\n",
    "        model.add(MaxPooling3D(pool_size=(2, 2, 2)))\n",
    "\n",
    "        model.add(Conv3D(32, filtersize, padding='same'))\n",
    "        model.add(Activation('relu'))\n",
    "        model.add(BatchNormalization())\n",
    "        model.add(MaxPooling3D(pool_size=(2, 2, 2)))\n",
    "\n",
    "        model.add(Conv3D(64, filtersize, padding='same'))\n",
    "        model.add(Activation('relu'))\n",
    "        model.add(BatchNormalization())\n",
    "        model.add(MaxPooling3D(pool_size=(2, 2, 2)))\n",
    "\n",
    "        model.add(Conv3D(128, filtersize, padding='same'))\n",
    "        model.add(Activation('relu'))\n",
    "        model.add(BatchNormalization())\n",
    "        model.add(MaxPooling3D(pool_size=(2, 2, 2)))\n",
    "\n",
    "        model.add(Flatten())\n",
    "        model.add(Dense(dense_neurons,activation='relu'))\n",
    "        model.add(BatchNormalization())\n",
    "        model.add(Dropout(dropout))\n",
    "\n",
    "        model.add(Dense(dense_neurons,activation='relu'))\n",
    "        model.add(BatchNormalization())\n",
    "        model.add(Dropout(dropout))\n",
    "\n",
    "\n",
    "        model.add(Dense(self.num_classes,activation='softmax'))\n",
    "\n",
    "        optimiser = optimizers.Adam(lr=0.0002)\n",
    "        model.compile(optimizer=optimiser, loss='categorical_crossentropy', metrics=['categorical_accuracy'])\n",
    "        return model"
   ]
  },
  {
   "cell_type": "code",
   "execution_count": 10,
   "metadata": {},
   "outputs": [
    {
     "name": "stdout",
     "output_type": "stream",
     "text": [
      "_________________________________________________________________\n",
      "Layer (type)                 Output Shape              Param #   \n",
      "=================================================================\n",
      "conv3d_1 (Conv3D)            (None, 16, 120, 120, 16)  400       \n",
      "_________________________________________________________________\n",
      "activation_1 (Activation)    (None, 16, 120, 120, 16)  0         \n",
      "_________________________________________________________________\n",
      "batch_normalization_1 (Batch (None, 16, 120, 120, 16)  64        \n",
      "_________________________________________________________________\n",
      "max_pooling3d_1 (MaxPooling3 (None, 8, 60, 60, 16)     0         \n",
      "_________________________________________________________________\n",
      "conv3d_2 (Conv3D)            (None, 8, 60, 60, 32)     4128      \n",
      "_________________________________________________________________\n",
      "activation_2 (Activation)    (None, 8, 60, 60, 32)     0         \n",
      "_________________________________________________________________\n",
      "batch_normalization_2 (Batch (None, 8, 60, 60, 32)     128       \n",
      "_________________________________________________________________\n",
      "max_pooling3d_2 (MaxPooling3 (None, 4, 30, 30, 32)     0         \n",
      "_________________________________________________________________\n",
      "conv3d_3 (Conv3D)            (None, 4, 30, 30, 64)     16448     \n",
      "_________________________________________________________________\n",
      "activation_3 (Activation)    (None, 4, 30, 30, 64)     0         \n",
      "_________________________________________________________________\n",
      "batch_normalization_3 (Batch (None, 4, 30, 30, 64)     256       \n",
      "_________________________________________________________________\n",
      "max_pooling3d_3 (MaxPooling3 (None, 2, 15, 15, 64)     0         \n",
      "_________________________________________________________________\n",
      "conv3d_4 (Conv3D)            (None, 2, 15, 15, 128)    65664     \n",
      "_________________________________________________________________\n",
      "activation_4 (Activation)    (None, 2, 15, 15, 128)    0         \n",
      "_________________________________________________________________\n",
      "batch_normalization_4 (Batch (None, 2, 15, 15, 128)    512       \n",
      "_________________________________________________________________\n",
      "max_pooling3d_4 (MaxPooling3 (None, 1, 7, 7, 128)      0         \n",
      "_________________________________________________________________\n",
      "flatten_1 (Flatten)          (None, 6272)              0         \n",
      "_________________________________________________________________\n",
      "dense_1 (Dense)              (None, 256)               1605888   \n",
      "_________________________________________________________________\n",
      "batch_normalization_5 (Batch (None, 256)               1024      \n",
      "_________________________________________________________________\n",
      "dropout_1 (Dropout)          (None, 256)               0         \n",
      "_________________________________________________________________\n",
      "dense_2 (Dense)              (None, 256)               65792     \n",
      "_________________________________________________________________\n",
      "batch_normalization_6 (Batch (None, 256)               1024      \n",
      "_________________________________________________________________\n",
      "dropout_2 (Dropout)          (None, 256)               0         \n",
      "_________________________________________________________________\n",
      "dense_3 (Dense)              (None, 5)                 1285      \n",
      "=================================================================\n",
      "Total params: 1,762,613\n",
      "Trainable params: 1,761,109\n",
      "Non-trainable params: 1,504\n",
      "_________________________________________________________________\n"
     ]
    }
   ],
   "source": [
    "conv_3d3=ModelConv3D3()\n",
    "conv_3d3.initialize_path(project_folder)\n",
    "conv_3d3.initialize_image_properties(image_height=120,image_width=120)\n",
    "conv_3d3.initialize_hyperparams(frames_to_sample=16,batch_size=30,num_epochs=30)\n",
    "conv_3d3_model=conv_3d3.define_model(filtersize=(2,2,2),dense_neurons=256,dropout=0.5)\n",
    "conv_3d3_model.summary()"
   ]
  },
  {
   "cell_type": "code",
   "execution_count": 11,
   "metadata": {},
   "outputs": [
    {
     "name": "stdout",
     "output_type": "stream",
     "text": [
      "Total Params: 1762613\n",
      "Epoch 1/30\n",
      "23/23 [==============================] - 215s 9s/step - loss: 2.1637 - categorical_accuracy: 0.3476 - val_loss: 1.4734 - val_categorical_accuracy: 0.4800\n",
      "\n",
      "Epoch 00001: saving model to model_init_2020-06-2910_13_03.958943/model-00001-2.17324-0.34163-1.47338-0.48000.h5\n",
      "Epoch 2/30\n",
      "23/23 [==============================] - 88s 4s/step - loss: 1.4495 - categorical_accuracy: 0.4952 - val_loss: 0.9568 - val_categorical_accuracy: 0.5800\n",
      "\n",
      "Epoch 00002: saving model to model_init_2020-06-2910_13_03.958943/model-00002-1.44637-0.50151-0.95675-0.58000.h5\n",
      "Epoch 3/30\n",
      "23/23 [==============================] - 89s 4s/step - loss: 1.1979 - categorical_accuracy: 0.5578 - val_loss: 0.9916 - val_categorical_accuracy: 0.6200\n",
      "\n",
      "Epoch 00003: saving model to model_init_2020-06-2910_13_03.958943/model-00003-1.20660-0.55354-0.99161-0.62000.h5\n",
      "Epoch 4/30\n",
      "23/23 [==============================] - 88s 4s/step - loss: 1.1235 - categorical_accuracy: 0.6103 - val_loss: 0.9475 - val_categorical_accuracy: 0.6900\n",
      "\n",
      "Epoch 00004: saving model to model_init_2020-06-2910_13_03.958943/model-00004-1.14404-0.61463-0.94754-0.69000.h5\n",
      "Epoch 5/30\n",
      "23/23 [==============================] - 89s 4s/step - loss: 1.0395 - categorical_accuracy: 0.6350 - val_loss: 0.8230 - val_categorical_accuracy: 0.6800\n",
      "\n",
      "Epoch 00005: saving model to model_init_2020-06-2910_13_03.958943/model-00005-0.97680-0.64027-0.82297-0.68000.h5\n",
      "Epoch 6/30\n",
      "23/23 [==============================] - 89s 4s/step - loss: 0.9776 - categorical_accuracy: 0.6414 - val_loss: 0.8688 - val_categorical_accuracy: 0.6900\n",
      "\n",
      "Epoch 00006: saving model to model_init_2020-06-2910_13_03.958943/model-00006-0.90176-0.65988-0.86876-0.69000.h5\n",
      "Epoch 7/30\n",
      "23/23 [==============================] - 89s 4s/step - loss: 0.7725 - categorical_accuracy: 0.7025 - val_loss: 0.8450 - val_categorical_accuracy: 0.7100\n",
      "\n",
      "Epoch 00007: saving model to model_init_2020-06-2910_13_03.958943/model-00007-0.77818-0.71041-0.84504-0.71000.h5\n",
      "Epoch 8/30\n",
      "23/23 [==============================] - 89s 4s/step - loss: 0.7365 - categorical_accuracy: 0.7438 - val_loss: 0.8293 - val_categorical_accuracy: 0.6700\n",
      "\n",
      "Epoch 00008: saving model to model_init_2020-06-2910_13_03.958943/model-00008-0.75842-0.73379-0.82927-0.67000.h5\n",
      "Epoch 9/30\n",
      "23/23 [==============================] - 89s 4s/step - loss: 0.7360 - categorical_accuracy: 0.7268 - val_loss: 0.7337 - val_categorical_accuracy: 0.7300\n",
      "\n",
      "Epoch 00009: saving model to model_init_2020-06-2910_13_03.958943/model-00009-0.68956-0.74208-0.73372-0.73000.h5\n",
      "Epoch 10/30\n",
      "23/23 [==============================] - 89s 4s/step - loss: 0.7363 - categorical_accuracy: 0.7493 - val_loss: 0.9169 - val_categorical_accuracy: 0.7000\n",
      "\n",
      "Epoch 00010: saving model to model_init_2020-06-2910_13_03.958943/model-00010-0.65282-0.76546-0.91690-0.70000.h5\n",
      "Epoch 11/30\n",
      "23/23 [==============================] - 88s 4s/step - loss: 0.7129 - categorical_accuracy: 0.7268 - val_loss: 0.8224 - val_categorical_accuracy: 0.7500\n",
      "\n",
      "Epoch 00011: saving model to model_init_2020-06-2910_13_03.958943/model-00011-0.66755-0.74208-0.82240-0.75000.h5\n",
      "Epoch 12/30\n",
      "23/23 [==============================] - 89s 4s/step - loss: 0.7185 - categorical_accuracy: 0.7490 - val_loss: 0.7505 - val_categorical_accuracy: 0.7300\n",
      "\n",
      "Epoch 00012: saving model to model_init_2020-06-2910_13_03.958943/model-00012-0.65025-0.75867-0.75046-0.73000.h5\n",
      "Epoch 13/30\n",
      "23/23 [==============================] - 89s 4s/step - loss: 0.6298 - categorical_accuracy: 0.7612 - val_loss: 0.7540 - val_categorical_accuracy: 0.7300\n",
      "\n",
      "Epoch 00013: saving model to model_init_2020-06-2910_13_03.958943/model-00013-0.64704-0.75189-0.75398-0.73000.h5\n",
      "\n",
      "Epoch 00013: ReduceLROnPlateau reducing learning rate to 3.9999998989515007e-05.\n",
      "Epoch 14/30\n",
      "23/23 [==============================] - 88s 4s/step - loss: 0.6249 - categorical_accuracy: 0.7738 - val_loss: 0.7279 - val_categorical_accuracy: 0.7500\n",
      "\n",
      "Epoch 00014: saving model to model_init_2020-06-2910_13_03.958943/model-00014-0.54736-0.80392-0.72793-0.75000.h5\n",
      "Epoch 15/30\n",
      "23/23 [==============================] - 89s 4s/step - loss: 0.6610 - categorical_accuracy: 0.7612 - val_loss: 0.7035 - val_categorical_accuracy: 0.7500\n",
      "\n",
      "Epoch 00015: saving model to model_init_2020-06-2910_13_03.958943/model-00015-0.58175-0.78431-0.70354-0.75000.h5\n",
      "Epoch 16/30\n",
      "23/23 [==============================] - 89s 4s/step - loss: 0.5689 - categorical_accuracy: 0.7966 - val_loss: 0.7050 - val_categorical_accuracy: 0.7500\n",
      "\n",
      "Epoch 00016: saving model to model_init_2020-06-2910_13_03.958943/model-00016-0.53920-0.80166-0.70499-0.75000.h5\n",
      "Epoch 17/30\n",
      "23/23 [==============================] - 89s 4s/step - loss: 0.5802 - categorical_accuracy: 0.7768 - val_loss: 0.6701 - val_categorical_accuracy: 0.7500\n",
      "\n",
      "Epoch 00017: saving model to model_init_2020-06-2910_13_03.958943/model-00017-0.53180-0.79412-0.67009-0.75000.h5\n",
      "Epoch 18/30\n",
      "23/23 [==============================] - 89s 4s/step - loss: 0.5521 - categorical_accuracy: 0.7901 - val_loss: 0.6906 - val_categorical_accuracy: 0.7500\n",
      "\n",
      "Epoch 00018: saving model to model_init_2020-06-2910_13_03.958943/model-00018-0.54801-0.79487-0.69058-0.75000.h5\n",
      "Epoch 19/30\n",
      "23/23 [==============================] - 89s 4s/step - loss: 0.5066 - categorical_accuracy: 0.7978 - val_loss: 0.6570 - val_categorical_accuracy: 0.7400\n",
      "\n",
      "Epoch 00019: saving model to model_init_2020-06-2910_13_03.958943/model-00019-0.51695-0.79638-0.65695-0.74000.h5\n",
      "Epoch 20/30\n",
      "23/23 [==============================] - 89s 4s/step - loss: 0.5369 - categorical_accuracy: 0.8017 - val_loss: 0.6350 - val_categorical_accuracy: 0.7400\n",
      "\n",
      "Epoch 00020: saving model to model_init_2020-06-2910_13_03.958943/model-00020-0.51902-0.80694-0.63498-0.74000.h5\n",
      "Epoch 21/30\n",
      "23/23 [==============================] - 89s 4s/step - loss: 0.4662 - categorical_accuracy: 0.8323 - val_loss: 0.6302 - val_categorical_accuracy: 0.7600\n",
      "\n",
      "Epoch 00021: saving model to model_init_2020-06-2910_13_03.958943/model-00021-0.46814-0.82579-0.63018-0.76000.h5\n",
      "Epoch 22/30\n",
      "23/23 [==============================] - 88s 4s/step - loss: 0.5065 - categorical_accuracy: 0.8131 - val_loss: 0.6214 - val_categorical_accuracy: 0.7600\n",
      "\n",
      "Epoch 00022: saving model to model_init_2020-06-2910_13_03.958943/model-00022-0.45953-0.83183-0.62142-0.76000.h5\n",
      "Epoch 23/30\n",
      "23/23 [==============================] - 88s 4s/step - loss: 0.5093 - categorical_accuracy: 0.8158 - val_loss: 0.6272 - val_categorical_accuracy: 0.7800\n",
      "\n",
      "Epoch 00023: saving model to model_init_2020-06-2910_13_03.958943/model-00023-0.46807-0.82805-0.62721-0.78000.h5\n",
      "Epoch 24/30\n",
      "23/23 [==============================] - 89s 4s/step - loss: 0.4961 - categorical_accuracy: 0.8153 - val_loss: 0.6146 - val_categorical_accuracy: 0.7900\n",
      "\n",
      "Epoch 00024: saving model to model_init_2020-06-2910_13_03.958943/model-00024-0.44815-0.83409-0.61456-0.79000.h5\n",
      "Epoch 25/30\n",
      "23/23 [==============================] - 89s 4s/step - loss: 0.4673 - categorical_accuracy: 0.8232 - val_loss: 0.6295 - val_categorical_accuracy: 0.7800\n",
      "\n",
      "Epoch 00025: saving model to model_init_2020-06-2910_13_03.958943/model-00025-0.47479-0.82278-0.62953-0.78000.h5\n",
      "Epoch 26/30\n",
      "23/23 [==============================] - 88s 4s/step - loss: 0.4554 - categorical_accuracy: 0.8220 - val_loss: 0.6271 - val_categorical_accuracy: 0.7800\n",
      "\n",
      "Epoch 00026: saving model to model_init_2020-06-2910_13_03.958943/model-00026-0.42336-0.82805-0.62706-0.78000.h5\n",
      "Epoch 27/30\n",
      "23/23 [==============================] - 89s 4s/step - loss: 0.4709 - categorical_accuracy: 0.8406 - val_loss: 0.6295 - val_categorical_accuracy: 0.7600\n",
      "\n",
      "Epoch 00027: saving model to model_init_2020-06-2910_13_03.958943/model-00027-0.44793-0.84087-0.62952-0.76000.h5\n",
      "Epoch 28/30\n",
      "23/23 [==============================] - 88s 4s/step - loss: 0.4765 - categorical_accuracy: 0.8354 - val_loss: 0.6284 - val_categorical_accuracy: 0.7500\n",
      "\n",
      "Epoch 00028: saving model to model_init_2020-06-2910_13_03.958943/model-00028-0.44414-0.84842-0.62843-0.75000.h5\n",
      "\n",
      "Epoch 00028: ReduceLROnPlateau reducing learning rate to 7.999999797903002e-06.\n",
      "Epoch 29/30\n",
      "23/23 [==============================] - 89s 4s/step - loss: 0.4148 - categorical_accuracy: 0.8532 - val_loss: 0.6238 - val_categorical_accuracy: 0.7500\n",
      "\n",
      "Epoch 00029: saving model to model_init_2020-06-2910_13_03.958943/model-00029-0.39232-0.86048-0.62381-0.75000.h5\n",
      "Epoch 30/30\n"
     ]
    },
    {
     "name": "stdout",
     "output_type": "stream",
     "text": [
      "23/23 [==============================] - 89s 4s/step - loss: 0.4314 - categorical_accuracy: 0.8471 - val_loss: 0.6211 - val_categorical_accuracy: 0.7600\n",
      "\n",
      "Epoch 00030: saving model to model_init_2020-06-2910_13_03.958943/model-00030-0.43578-0.84766-0.62107-0.76000.h5\n"
     ]
    }
   ],
   "source": [
    "print(\"Total Params:\", conv_3d3_model.count_params())\n",
    "history_model3=conv_3d3.train_model(conv_3d3_model,augment_data=True)"
   ]
  },
  {
   "cell_type": "code",
   "execution_count": 12,
   "metadata": {},
   "outputs": [
    {
     "data": {
      "image/png": "[encoded data removed]",
      "text/plain": [
       "<Figure size 1080x288 with 2 Axes>"
      ]
     },
     "metadata": {},
     "output_type": "display_data"
    }
   ],
   "source": [
    "plot(history_model3)"
   ]
  },
  {
   "cell_type": "markdown",
   "metadata": {},
   "source": [
    "##### Model has a  best validation accuracy of 82% and training accuracy of 76% . Also we were able to reduce the parameter size by half the earlier model. Let's trying adding more layers"
   ]
  },
  {
   "cell_type": "markdown",
   "metadata": {},
   "source": [
    "# Model 4 - Adding more layers"
   ]
  },
  {
   "cell_type": "code",
   "execution_count": 13,
   "metadata": {},
   "outputs": [],
   "source": [
    "class ModelConv3D4(ModelBuilder):\n",
    "    \n",
    "    def define_model(self,filtersize=(3,3,3),dense_neurons=64,dropout=0.25):\n",
    "\n",
    "        model = Sequential()\n",
    "        model.add(Conv3D(16, filtersize, padding='same',\n",
    "                 input_shape=(self.frames_to_sample,self.image_height,self.image_width,self.channels)))\n",
    "        model.add(Activation('relu'))\n",
    "        model.add(BatchNormalization())\n",
    "        \n",
    "        model.add(Conv3D(16, filtersize, padding='same',\n",
    "                 input_shape=(self.frames_to_sample,self.image_height,self.image_width,self.channels)))\n",
    "        model.add(Activation('relu'))\n",
    "        model.add(BatchNormalization())\n",
    "        \n",
    "        model.add(MaxPooling3D(pool_size=(2, 2, 2)))\n",
    "\n",
    "        model.add(Conv3D(32, filtersize, padding='same'))\n",
    "        model.add(Activation('relu'))\n",
    "        model.add(BatchNormalization())\n",
    "        \n",
    "        model.add(Conv3D(32, filtersize, padding='same'))\n",
    "        model.add(Activation('relu'))\n",
    "        model.add(BatchNormalization())\n",
    "        \n",
    "        model.add(MaxPooling3D(pool_size=(2, 2, 2)))\n",
    "\n",
    "        model.add(Conv3D(64, filtersize, padding='same'))\n",
    "        model.add(Activation('relu'))\n",
    "        model.add(BatchNormalization())\n",
    "        \n",
    "        model.add(Conv3D(64, filtersize, padding='same'))\n",
    "        model.add(Activation('relu'))\n",
    "        model.add(BatchNormalization())\n",
    "        \n",
    "        model.add(MaxPooling3D(pool_size=(2, 2, 2)))\n",
    "\n",
    "        model.add(Conv3D(128, filtersize, padding='same'))\n",
    "        model.add(Activation('relu'))\n",
    "        model.add(BatchNormalization())\n",
    "        \n",
    "        model.add(Conv3D(128, filtersize, padding='same'))\n",
    "        model.add(Activation('relu'))\n",
    "        model.add(BatchNormalization())\n",
    "        \n",
    "        model.add(MaxPooling3D(pool_size=(2, 2, 2)))\n",
    "        \n",
    "\n",
    "        model.add(Flatten())\n",
    "        model.add(Dense(dense_neurons,activation='relu'))\n",
    "        model.add(BatchNormalization())\n",
    "        model.add(Dropout(dropout))\n",
    "\n",
    "        model.add(Dense(dense_neurons,activation='relu'))\n",
    "        model.add(BatchNormalization())\n",
    "        model.add(Dropout(dropout))\n",
    "\n",
    "\n",
    "        model.add(Dense(self.num_classes,activation='softmax'))\n",
    "\n",
    "        optimiser = optimizers.Adam()\n",
    "        model.compile(optimizer=optimiser, loss='categorical_crossentropy', metrics=['categorical_accuracy'])\n",
    "        return model"
   ]
  },
  {
   "cell_type": "code",
   "execution_count": 14,
   "metadata": {},
   "outputs": [
    {
     "name": "stdout",
     "output_type": "stream",
     "text": [
      "_________________________________________________________________\n",
      "Layer (type)                 Output Shape              Param #   \n",
      "=================================================================\n",
      "conv3d_5 (Conv3D)            (None, 16, 120, 120, 16)  1312      \n",
      "_________________________________________________________________\n",
      "activation_5 (Activation)    (None, 16, 120, 120, 16)  0         \n",
      "_________________________________________________________________\n",
      "batch_normalization_7 (Batch (None, 16, 120, 120, 16)  64        \n",
      "_________________________________________________________________\n",
      "conv3d_6 (Conv3D)            (None, 16, 120, 120, 16)  6928      \n",
      "_________________________________________________________________\n",
      "activation_6 (Activation)    (None, 16, 120, 120, 16)  0         \n",
      "_________________________________________________________________\n",
      "batch_normalization_8 (Batch (None, 16, 120, 120, 16)  64        \n",
      "_________________________________________________________________\n",
      "max_pooling3d_5 (MaxPooling3 (None, 8, 60, 60, 16)     0         \n",
      "_________________________________________________________________\n",
      "conv3d_7 (Conv3D)            (None, 8, 60, 60, 32)     13856     \n",
      "_________________________________________________________________\n",
      "activation_7 (Activation)    (None, 8, 60, 60, 32)     0         \n",
      "_________________________________________________________________\n",
      "batch_normalization_9 (Batch (None, 8, 60, 60, 32)     128       \n",
      "_________________________________________________________________\n",
      "conv3d_8 (Conv3D)            (None, 8, 60, 60, 32)     27680     \n",
      "_________________________________________________________________\n",
      "activation_8 (Activation)    (None, 8, 60, 60, 32)     0         \n",
      "_________________________________________________________________\n",
      "batch_normalization_10 (Batc (None, 8, 60, 60, 32)     128       \n",
      "_________________________________________________________________\n",
      "max_pooling3d_6 (MaxPooling3 (None, 4, 30, 30, 32)     0         \n",
      "_________________________________________________________________\n",
      "conv3d_9 (Conv3D)            (None, 4, 30, 30, 64)     55360     \n",
      "_________________________________________________________________\n",
      "activation_9 (Activation)    (None, 4, 30, 30, 64)     0         \n",
      "_________________________________________________________________\n",
      "batch_normalization_11 (Batc (None, 4, 30, 30, 64)     256       \n",
      "_________________________________________________________________\n",
      "conv3d_10 (Conv3D)           (None, 4, 30, 30, 64)     110656    \n",
      "_________________________________________________________________\n",
      "activation_10 (Activation)   (None, 4, 30, 30, 64)     0         \n",
      "_________________________________________________________________\n",
      "batch_normalization_12 (Batc (None, 4, 30, 30, 64)     256       \n",
      "_________________________________________________________________\n",
      "max_pooling3d_7 (MaxPooling3 (None, 2, 15, 15, 64)     0         \n",
      "_________________________________________________________________\n",
      "conv3d_11 (Conv3D)           (None, 2, 15, 15, 128)    221312    \n",
      "_________________________________________________________________\n",
      "activation_11 (Activation)   (None, 2, 15, 15, 128)    0         \n",
      "_________________________________________________________________\n",
      "batch_normalization_13 (Batc (None, 2, 15, 15, 128)    512       \n",
      "_________________________________________________________________\n",
      "conv3d_12 (Conv3D)           (None, 2, 15, 15, 128)    442496    \n",
      "_________________________________________________________________\n",
      "activation_12 (Activation)   (None, 2, 15, 15, 128)    0         \n",
      "_________________________________________________________________\n",
      "batch_normalization_14 (Batc (None, 2, 15, 15, 128)    512       \n",
      "_________________________________________________________________\n",
      "max_pooling3d_8 (MaxPooling3 (None, 1, 7, 7, 128)      0         \n",
      "_________________________________________________________________\n",
      "flatten_2 (Flatten)          (None, 6272)              0         \n",
      "_________________________________________________________________\n",
      "dense_4 (Dense)              (None, 256)               1605888   \n",
      "_________________________________________________________________\n",
      "batch_normalization_15 (Batc (None, 256)               1024      \n",
      "_________________________________________________________________\n",
      "dropout_3 (Dropout)          (None, 256)               0         \n",
      "_________________________________________________________________\n",
      "dense_5 (Dense)              (None, 256)               65792     \n",
      "_________________________________________________________________\n",
      "batch_normalization_16 (Batc (None, 256)               1024      \n",
      "_________________________________________________________________\n",
      "dropout_4 (Dropout)          (None, 256)               0         \n",
      "_________________________________________________________________\n",
      "dense_6 (Dense)              (None, 5)                 1285      \n",
      "=================================================================\n",
      "Total params: 2,556,533\n",
      "Trainable params: 2,554,549\n",
      "Non-trainable params: 1,984\n",
      "_________________________________________________________________\n"
     ]
    }
   ],
   "source": [
    "conv_3d4=ModelConv3D4()\n",
    "conv_3d4.initialize_path(project_folder)\n",
    "conv_3d4.initialize_image_properties(image_height=120,image_width=120)\n",
    "conv_3d4.initialize_hyperparams(frames_to_sample=16,batch_size=20,num_epochs=30)\n",
    "conv_3d4_model=conv_3d4.define_model(filtersize=(3,3,3),dense_neurons=256,dropout=0.5)\n",
    "conv_3d4_model.summary()"
   ]
  },
  {
   "cell_type": "code",
   "execution_count": null,
   "metadata": {},
   "outputs": [],
   "source": [
    "print(\"Total Params:\", conv_3d4_model.count_params())\n",
    "history_model4=conv_3d4.train_model(conv_3d4_model,augment_data=True)"
   ]
  },
  {
   "cell_type": "code",
   "execution_count": null,
   "metadata": {},
   "outputs": [],
   "source": [
    "plot(history_model4)"
   ]
  },
  {
   "cell_type": "markdown",
   "metadata": {},
   "source": [
    "##### With more layers we dont see much performance improvement. We get a best validation accuracy of 76% . Let's try adding dropouts at the convolution layers"
   ]
  },
  {
   "cell_type": "markdown",
   "metadata": {},
   "source": [
    "# Model 5 Adding dropout at convolution layers"
   ]
  },
  {
   "cell_type": "code",
   "execution_count": null,
   "metadata": {},
   "outputs": [],
   "source": [
    "class ModelConv3D5(ModelBuilder):\n",
    "    \n",
    "    def define_model(self,filtersize=(3,3,3),dense_neurons=64,dropout=0.25):\n",
    "\n",
    "        model = Sequential()\n",
    "        model.add(Conv3D(16, filtersize, padding='same',\n",
    "                 input_shape=(self.frames_to_sample,self.image_height,self.image_width,self.channels)))\n",
    "        model.add(Activation('relu'))\n",
    "        model.add(BatchNormalization())\n",
    "        \n",
    "        model.add(Conv3D(16, filtersize, padding='same',\n",
    "                 input_shape=(self.frames_to_sample,self.image_height,self.image_width,self.channels)))\n",
    "        model.add(Activation('relu'))\n",
    "        model.add(BatchNormalization())\n",
    "        \n",
    "        model.add(MaxPooling3D(pool_size=(2, 2, 2)))\n",
    "        model.add(Dropout(dropout))\n",
    "\n",
    "        model.add(Conv3D(32, filtersize, padding='same'))\n",
    "        model.add(Activation('relu'))\n",
    "        model.add(BatchNormalization())\n",
    "        \n",
    "        model.add(Conv3D(32, filtersize, padding='same'))\n",
    "        model.add(Activation('relu'))\n",
    "        model.add(BatchNormalization())\n",
    "        \n",
    "        model.add(MaxPooling3D(pool_size=(2, 2, 2)))\n",
    "        model.add(Dropout(dropout))\n",
    "\n",
    "        model.add(Conv3D(64, filtersize, padding='same'))\n",
    "        model.add(Activation('relu'))\n",
    "        model.add(BatchNormalization())\n",
    "        \n",
    "        model.add(Conv3D(64, filtersize, padding='same'))\n",
    "        model.add(Activation('relu'))\n",
    "        model.add(BatchNormalization())\n",
    "        \n",
    "        model.add(MaxPooling3D(pool_size=(2, 2, 2)))\n",
    "        model.add(Dropout(dropout))\n",
    "\n",
    "        model.add(Conv3D(128, filtersize, padding='same'))\n",
    "        model.add(Activation('relu'))\n",
    "        model.add(BatchNormalization())\n",
    "        \n",
    "        model.add(Conv3D(128, filtersize, padding='same'))\n",
    "        model.add(Activation('relu'))\n",
    "        model.add(BatchNormalization())\n",
    "        \n",
    "        model.add(MaxPooling3D(pool_size=(2, 2, 2)))\n",
    "        model.add(Dropout(dropout))\n",
    "        \n",
    "        model.add(Flatten())\n",
    "        model.add(Dense(dense_neurons,activation='relu'))\n",
    "        model.add(BatchNormalization())\n",
    "        model.add(Dropout(dropout))\n",
    "\n",
    "        model.add(Dense(dense_neurons,activation='relu'))\n",
    "        model.add(BatchNormalization())\n",
    "        model.add(Dropout(dropout))\n",
    "\n",
    "\n",
    "        model.add(Dense(self.num_classes,activation='softmax'))\n",
    "\n",
    "        optimiser = optimizers.Adam()\n",
    "        model.compile(optimizer=optimiser, loss='categorical_crossentropy', metrics=['categorical_accuracy'])\n",
    "        return model"
   ]
  },
  {
   "cell_type": "code",
   "execution_count": null,
   "metadata": {},
   "outputs": [],
   "source": [
    "conv_3d5=ModelConv3D5()\n",
    "conv_3d5.initialize_path(project_folder)\n",
    "conv_3d5.initialize_image_properties(image_height=120,image_width=120)\n",
    "conv_3d5.initialize_hyperparams(frames_to_sample=16,batch_size=20,num_epochs=22)\n",
    "conv_3d5_model=conv_3d5.define_model(filtersize=(3,3,3),dense_neurons=256,dropout=0.25)\n",
    "conv_3d5_model.summary()"
   ]
  },
  {
   "cell_type": "code",
   "execution_count": null,
   "metadata": {},
   "outputs": [],
   "source": [
    "print(\"Total Params:\", conv_3d5_model.count_params())\n",
    "history_model5=conv_3d5.train_model(conv_3d5_model,augment_data=True)"
   ]
  },
  {
   "cell_type": "code",
   "execution_count": null,
   "metadata": {},
   "outputs": [],
   "source": [
    "plot(history_model5)"
   ]
  },
  {
   "cell_type": "markdown",
   "metadata": {
    "collapsed": true
   },
   "source": [
    "##### Adding dropouts has further reduced validation accuracy as its not to learn  generalizable features"
   ]
  },
  {
   "cell_type": "markdown",
   "metadata": {},
   "source": [
    "##### All models experimental models above have more than 1 million parameters. Let's try to reduce the model size and see the performance"
   ]
  },
  {
   "cell_type": "markdown",
   "metadata": {},
   "source": [
    "# Model 7 - reducing the number of parameters"
   ]
  },
  {
   "cell_type": "code",
   "execution_count": null,
   "metadata": {},
   "outputs": [],
   "source": [
    "class ModelConv3D7(ModelBuilder):\n",
    "    \n",
    "    def define_model(self,dense_neurons=64,dropout=0.25):\n",
    "\n",
    "        model = Sequential()\n",
    "        model.add(Conv3D(16, (3, 3, 3), padding='same',\n",
    "                 input_shape=(self.frames_to_sample,self.image_height,self.image_width,self.channels)))\n",
    "        model.add(Activation('relu'))\n",
    "        model.add(BatchNormalization())\n",
    "        model.add(MaxPooling3D(pool_size=(2, 2, 2)))\n",
    "\n",
    "        model.add(Conv3D(32, (3, 3, 3), padding='same'))\n",
    "        model.add(Activation('relu'))\n",
    "        model.add(BatchNormalization())\n",
    "        model.add(MaxPooling3D(pool_size=(2, 2, 2)))\n",
    "\n",
    "        model.add(Conv3D(64, (2, 2, 2), padding='same'))\n",
    "        model.add(Activation('relu'))\n",
    "        model.add(BatchNormalization())\n",
    "        model.add(MaxPooling3D(pool_size=(2, 2, 2)))\n",
    "\n",
    "        model.add(Conv3D(128, (2, 2, 2), padding='same'))\n",
    "        model.add(Activation('relu'))\n",
    "        model.add(BatchNormalization())\n",
    "        model.add(MaxPooling3D(pool_size=(2, 2, 2)))\n",
    "        \n",
    "        model.add(Flatten())\n",
    "        model.add(Dense(dense_neurons,activation='relu'))\n",
    "        model.add(BatchNormalization())\n",
    "        model.add(Dropout(dropout))\n",
    "\n",
    "        model.add(Dense(dense_neurons,activation='relu'))\n",
    "        model.add(BatchNormalization())\n",
    "        model.add(Dropout(dropout))\n",
    "\n",
    "        model.add(Dense(self.num_classes,activation='softmax'))\n",
    "\n",
    "        optimiser = optimizers.Adam(lr=0.0002)\n",
    "        model.compile(optimizer=optimiser, loss='categorical_crossentropy', metrics=['categorical_accuracy'])\n",
    "        return model"
   ]
  },
  {
   "cell_type": "code",
   "execution_count": null,
   "metadata": {},
   "outputs": [],
   "source": [
    "conv_3d7=ModelConv3D7()\n",
    "conv_3d7.initialize_path(project_folder)\n",
    "conv_3d7.initialize_image_properties(image_height=120,image_width=120)\n",
    "conv_3d7.initialize_hyperparams(frames_to_sample=16,batch_size=20,num_epochs=25)\n",
    "conv_3d7_model=conv_3d7.define_model(dense_neurons=64,dropout=0.25)\n",
    "conv_3d7_model.summary()"
   ]
  },
  {
   "cell_type": "code",
   "execution_count": null,
   "metadata": {},
   "outputs": [],
   "source": [
    "print(\"Total Params:\", conv_3d7_model.count_params())\n",
    "history_model7=conv_3d7.train_model(conv_3d7_model,augment_data=True)"
   ]
  },
  {
   "cell_type": "code",
   "execution_count": null,
   "metadata": {},
   "outputs": [],
   "source": [
    "plot(history_model7)"
   ]
  },
  {
   "cell_type": "markdown",
   "metadata": {},
   "source": [
    "###### For the above low memory foot print model the best validation accuracy of 77%"
   ]
  },
  {
   "cell_type": "markdown",
   "metadata": {},
   "source": [
    "# Model 8 - reducing the number of parameters"
   ]
  },
  {
   "cell_type": "code",
   "execution_count": 8,
   "metadata": {},
   "outputs": [],
   "source": [
    "class ModelConv3D8(ModelBuilder):\n",
    "    \n",
    "    def define_model(self,dense_neurons=64,dropout=0.25):\n",
    "\n",
    "        model = Sequential()\n",
    "        model.add(Conv3D(8, (3, 3, 3), padding='same',\n",
    "                 input_shape=(self.frames_to_sample,self.image_height,self.image_width,self.channels)))\n",
    "        model.add(Activation('relu'))\n",
    "        model.add(BatchNormalization())\n",
    "        model.add(MaxPooling3D(pool_size=(2, 2, 2)))\n",
    "\n",
    "        model.add(Conv3D(16, (3, 3, 3), padding='same'))\n",
    "        model.add(Activation('relu'))\n",
    "        model.add(BatchNormalization())\n",
    "        model.add(MaxPooling3D(pool_size=(2, 2, 2)))\n",
    "\n",
    "        model.add(Conv3D(32, (2, 2, 2), padding='same'))\n",
    "        model.add(Activation('relu'))\n",
    "        model.add(BatchNormalization())\n",
    "        model.add(MaxPooling3D(pool_size=(2, 2, 2)))\n",
    "\n",
    "        model.add(Conv3D(64, (2, 2, 2), padding='same'))\n",
    "        model.add(Activation('relu'))\n",
    "        model.add(BatchNormalization())\n",
    "        model.add(MaxPooling3D(pool_size=(2, 2, 2)))\n",
    "        \n",
    "        model.add(Flatten())\n",
    "        model.add(Dense(dense_neurons,activation='relu'))\n",
    "        model.add(BatchNormalization())\n",
    "        model.add(Dropout(dropout))\n",
    "\n",
    "        model.add(Dense(dense_neurons,activation='relu'))\n",
    "        model.add(BatchNormalization())\n",
    "        model.add(Dropout(dropout))\n",
    "\n",
    "        model.add(Dense(self.num_classes,activation='softmax'))\n",
    "\n",
    "        optimiser = optimizers.Adam(lr=0.0002)\n",
    "        model.compile(optimizer=optimiser, loss='categorical_crossentropy', metrics=['categorical_accuracy'])\n",
    "        return model"
   ]
  },
  {
   "cell_type": "code",
   "execution_count": 9,
   "metadata": {},
   "outputs": [
    {
     "name": "stdout",
     "output_type": "stream",
     "text": [
      "_________________________________________________________________\n",
      "Layer (type)                 Output Shape              Param #   \n",
      "=================================================================\n",
      "conv3d_1 (Conv3D)            (None, 16, 120, 120, 8)   656       \n",
      "_________________________________________________________________\n",
      "activation_1 (Activation)    (None, 16, 120, 120, 8)   0         \n",
      "_________________________________________________________________\n",
      "batch_normalization_1 (Batch (None, 16, 120, 120, 8)   32        \n",
      "_________________________________________________________________\n",
      "max_pooling3d_1 (MaxPooling3 (None, 8, 60, 60, 8)      0         \n",
      "_________________________________________________________________\n",
      "conv3d_2 (Conv3D)            (None, 8, 60, 60, 16)     3472      \n",
      "_________________________________________________________________\n",
      "activation_2 (Activation)    (None, 8, 60, 60, 16)     0         \n",
      "_________________________________________________________________\n",
      "batch_normalization_2 (Batch (None, 8, 60, 60, 16)     64        \n",
      "_________________________________________________________________\n",
      "max_pooling3d_2 (MaxPooling3 (None, 4, 30, 30, 16)     0         \n",
      "_________________________________________________________________\n",
      "conv3d_3 (Conv3D)            (None, 4, 30, 30, 32)     4128      \n",
      "_________________________________________________________________\n",
      "activation_3 (Activation)    (None, 4, 30, 30, 32)     0         \n",
      "_________________________________________________________________\n",
      "batch_normalization_3 (Batch (None, 4, 30, 30, 32)     128       \n",
      "_________________________________________________________________\n",
      "max_pooling3d_3 (MaxPooling3 (None, 2, 15, 15, 32)     0         \n",
      "_________________________________________________________________\n",
      "conv3d_4 (Conv3D)            (None, 2, 15, 15, 64)     16448     \n",
      "_________________________________________________________________\n",
      "activation_4 (Activation)    (None, 2, 15, 15, 64)     0         \n",
      "_________________________________________________________________\n",
      "batch_normalization_4 (Batch (None, 2, 15, 15, 64)     256       \n",
      "_________________________________________________________________\n",
      "max_pooling3d_4 (MaxPooling3 (None, 1, 7, 7, 64)       0         \n",
      "_________________________________________________________________\n",
      "flatten_1 (Flatten)          (None, 3136)              0         \n",
      "_________________________________________________________________\n",
      "dense_1 (Dense)              (None, 64)                200768    \n",
      "_________________________________________________________________\n",
      "batch_normalization_5 (Batch (None, 64)                256       \n",
      "_________________________________________________________________\n",
      "dropout_1 (Dropout)          (None, 64)                0         \n",
      "_________________________________________________________________\n",
      "dense_2 (Dense)              (None, 64)                4160      \n",
      "_________________________________________________________________\n",
      "batch_normalization_6 (Batch (None, 64)                256       \n",
      "_________________________________________________________________\n",
      "dropout_2 (Dropout)          (None, 64)                0         \n",
      "_________________________________________________________________\n",
      "dense_3 (Dense)              (None, 5)                 325       \n",
      "=================================================================\n",
      "Total params: 230,949\n",
      "Trainable params: 230,453\n",
      "Non-trainable params: 496\n",
      "_________________________________________________________________\n"
     ]
    }
   ],
   "source": [
    "conv_3d8=ModelConv3D8()\n",
    "conv_3d8.initialize_path(project_folder)\n",
    "conv_3d8.initialize_image_properties(image_height=120,image_width=120)\n",
    "conv_3d8.initialize_hyperparams(frames_to_sample=16,batch_size=20,num_epochs=30)\n",
    "conv_3d8_model=conv_3d8.define_model(dense_neurons=64,dropout=0.25)\n",
    "conv_3d8_model.summary()"
   ]
  },
  {
   "cell_type": "code",
   "execution_count": 10,
   "metadata": {},
   "outputs": [
    {
     "name": "stdout",
     "output_type": "stream",
     "text": [
      "Total Params: 230949\n",
      "Epoch 1/30\n",
      "34/34 [==============================] - 195s 6s/step - loss: 1.9963 - categorical_accuracy: 0.2984 - val_loss: 1.4679 - val_categorical_accuracy: 0.4200\n",
      "\n",
      "Epoch 00001: saving model to model_init_2020-06-2912_47_58.459129/model-00001-1.99611-0.29336-1.46791-0.42000.h5\n",
      "Epoch 2/30\n",
      "34/34 [==============================] - 87s 3s/step - loss: 1.4230 - categorical_accuracy: 0.4673 - val_loss: 1.3935 - val_categorical_accuracy: 0.4500\n",
      "\n",
      "Epoch 00002: saving model to model_init_2020-06-2912_47_58.459129/model-00002-1.41976-0.46229-1.39352-0.45000.h5\n",
      "Epoch 3/30\n",
      "34/34 [==============================] - 88s 3s/step - loss: 1.2244 - categorical_accuracy: 0.5166 - val_loss: 1.1085 - val_categorical_accuracy: 0.5800\n",
      "\n",
      "Epoch 00003: saving model to model_init_2020-06-2912_47_58.459129/model-00003-1.20733-0.52941-1.10854-0.58000.h5\n",
      "Epoch 4/30\n",
      "34/34 [==============================] - 89s 3s/step - loss: 1.1195 - categorical_accuracy: 0.5728 - val_loss: 1.0179 - val_categorical_accuracy: 0.6500\n",
      "\n",
      "Epoch 00004: saving model to model_init_2020-06-2912_47_58.459129/model-00004-1.08966-0.58296-1.01790-0.65000.h5\n",
      "Epoch 5/30\n",
      "34/34 [==============================] - 87s 3s/step - loss: 0.9912 - categorical_accuracy: 0.6074 - val_loss: 1.1050 - val_categorical_accuracy: 0.5600\n",
      "\n",
      "Epoch 00005: saving model to model_init_2020-06-2912_47_58.459129/model-00005-1.00395-0.60181-1.10499-0.56000.h5\n",
      "Epoch 6/30\n",
      "34/34 [==============================] - 88s 3s/step - loss: 0.9211 - categorical_accuracy: 0.6383 - val_loss: 0.9625 - val_categorical_accuracy: 0.6100\n",
      "\n",
      "Epoch 00006: saving model to model_init_2020-06-2912_47_58.459129/model-00006-0.92361-0.64178-0.96247-0.61000.h5\n",
      "Epoch 7/30\n",
      "34/34 [==============================] - 88s 3s/step - loss: 0.8696 - categorical_accuracy: 0.6681 - val_loss: 0.8421 - val_categorical_accuracy: 0.6800\n",
      "\n",
      "Epoch 00007: saving model to model_init_2020-06-2912_47_58.459129/model-00007-0.86163-0.66817-0.84210-0.68000.h5\n",
      "Epoch 8/30\n",
      "34/34 [==============================] - 88s 3s/step - loss: 0.7964 - categorical_accuracy: 0.6880 - val_loss: 0.9173 - val_categorical_accuracy: 0.6600\n",
      "\n",
      "Epoch 00008: saving model to model_init_2020-06-2912_47_58.459129/model-00008-0.78616-0.68854-0.91730-0.66000.h5\n",
      "Epoch 9/30\n",
      "34/34 [==============================] - 87s 3s/step - loss: 0.7542 - categorical_accuracy: 0.7233 - val_loss: 0.8289 - val_categorical_accuracy: 0.6600\n",
      "\n",
      "Epoch 00009: saving model to model_init_2020-06-2912_47_58.459129/model-00009-0.74967-0.72474-0.82895-0.66000.h5\n",
      "Epoch 10/30\n",
      "34/34 [==============================] - 87s 3s/step - loss: 0.7230 - categorical_accuracy: 0.7329 - val_loss: 0.7890 - val_categorical_accuracy: 0.6600\n",
      "\n",
      "Epoch 00010: saving model to model_init_2020-06-2912_47_58.459129/model-00010-0.72707-0.73454-0.78901-0.66000.h5\n",
      "Epoch 11/30\n",
      "34/34 [==============================] - 87s 3s/step - loss: 0.6988 - categorical_accuracy: 0.7491 - val_loss: 0.7421 - val_categorical_accuracy: 0.7200\n",
      "\n",
      "Epoch 00011: saving model to model_init_2020-06-2912_47_58.459129/model-00011-0.67159-0.75113-0.74207-0.72000.h5\n",
      "Epoch 12/30\n",
      "34/34 [==============================] - 87s 3s/step - loss: 0.6684 - categorical_accuracy: 0.7487 - val_loss: 0.7698 - val_categorical_accuracy: 0.7300\n",
      "\n",
      "Epoch 00012: saving model to model_init_2020-06-2912_47_58.459129/model-00012-0.64870-0.75490-0.76984-0.73000.h5\n",
      "Epoch 13/30\n",
      "34/34 [==============================] - 86s 3s/step - loss: 0.6178 - categorical_accuracy: 0.7748 - val_loss: 0.8682 - val_categorical_accuracy: 0.6700\n",
      "\n",
      "Epoch 00013: saving model to model_init_2020-06-2912_47_58.459129/model-00013-0.60867-0.77753-0.86823-0.67000.h5\n",
      "Epoch 14/30\n",
      "34/34 [==============================] - 87s 3s/step - loss: 0.5627 - categorical_accuracy: 0.8061 - val_loss: 0.9247 - val_categorical_accuracy: 0.6700\n",
      "\n",
      "Epoch 00014: saving model to model_init_2020-06-2912_47_58.459129/model-00014-0.55160-0.81373-0.92470-0.67000.h5\n",
      "Epoch 15/30\n",
      "34/34 [==============================] - 87s 3s/step - loss: 0.5794 - categorical_accuracy: 0.7892 - val_loss: 0.8088 - val_categorical_accuracy: 0.7100\n",
      "\n",
      "Epoch 00015: saving model to model_init_2020-06-2912_47_58.459129/model-00015-0.55073-0.79638-0.80877-0.71000.h5\n",
      "\n",
      "Epoch 00015: ReduceLROnPlateau reducing learning rate to 3.9999998989515007e-05.\n",
      "Epoch 16/30\n",
      "34/34 [==============================] - 87s 3s/step - loss: 0.4821 - categorical_accuracy: 0.8238 - val_loss: 0.7449 - val_categorical_accuracy: 0.7000\n",
      "\n",
      "Epoch 00016: saving model to model_init_2020-06-2912_47_58.459129/model-00016-0.48671-0.82353-0.74493-0.70000.h5\n",
      "Epoch 17/30\n",
      "34/34 [==============================] - 87s 3s/step - loss: 0.5112 - categorical_accuracy: 0.8065 - val_loss: 0.7040 - val_categorical_accuracy: 0.7600\n",
      "\n",
      "Epoch 00017: saving model to model_init_2020-06-2912_47_58.459129/model-00017-0.51860-0.80166-0.70398-0.76000.h5\n",
      "Epoch 18/30\n",
      "34/34 [==============================] - 87s 3s/step - loss: 0.5581 - categorical_accuracy: 0.7921 - val_loss: 0.7031 - val_categorical_accuracy: 0.7800\n",
      "\n",
      "Epoch 00018: saving model to model_init_2020-06-2912_47_58.459129/model-00018-0.50664-0.80769-0.70310-0.78000.h5\n",
      "Epoch 19/30\n",
      "34/34 [==============================] - 87s 3s/step - loss: 0.5274 - categorical_accuracy: 0.8105 - val_loss: 0.6872 - val_categorical_accuracy: 0.7600\n",
      "\n",
      "Epoch 00019: saving model to model_init_2020-06-2912_47_58.459129/model-00019-0.51826-0.81825-0.68722-0.76000.h5\n",
      "Epoch 20/30\n",
      "34/34 [==============================] - 87s 3s/step - loss: 0.5012 - categorical_accuracy: 0.8072 - val_loss: 0.6886 - val_categorical_accuracy: 0.7400\n",
      "\n",
      "Epoch 00020: saving model to model_init_2020-06-2912_47_58.459129/model-00020-0.49722-0.81071-0.68858-0.74000.h5\n",
      "Epoch 21/30\n",
      "34/34 [==============================] - 87s 3s/step - loss: 0.5256 - categorical_accuracy: 0.8219 - val_loss: 0.7046 - val_categorical_accuracy: 0.7400\n",
      "\n",
      "Epoch 00021: saving model to model_init_2020-06-2912_47_58.459129/model-00021-0.49663-0.82579-0.70457-0.74000.h5\n",
      "Epoch 22/30\n",
      "34/34 [==============================] - 88s 3s/step - loss: 0.5463 - categorical_accuracy: 0.8010 - val_loss: 0.6933 - val_categorical_accuracy: 0.7300\n",
      "\n",
      "Epoch 00022: saving model to model_init_2020-06-2912_47_58.459129/model-00022-0.52009-0.80845-0.69335-0.73000.h5\n",
      "Epoch 23/30\n",
      "34/34 [==============================] - 88s 3s/step - loss: 0.4778 - categorical_accuracy: 0.8352 - val_loss: 0.7010 - val_categorical_accuracy: 0.7400\n",
      "\n",
      "Epoch 00023: saving model to model_init_2020-06-2912_47_58.459129/model-00023-0.45442-0.83937-0.70100-0.74000.h5\n",
      "\n",
      "Epoch 00023: ReduceLROnPlateau reducing learning rate to 7.999999797903002e-06.\n",
      "Epoch 24/30\n",
      "34/34 [==============================] - 88s 3s/step - loss: 0.4953 - categorical_accuracy: 0.8219 - val_loss: 0.6936 - val_categorical_accuracy: 0.7400\n",
      "\n",
      "Epoch 00024: saving model to model_init_2020-06-2912_47_58.459129/model-00024-0.48884-0.82579-0.69359-0.74000.h5\n",
      "Epoch 25/30\n",
      "34/34 [==============================] - 87s 3s/step - loss: 0.5320 - categorical_accuracy: 0.8135 - val_loss: 0.6920 - val_categorical_accuracy: 0.7200\n",
      "\n",
      "Epoch 00025: saving model to model_init_2020-06-2912_47_58.459129/model-00025-0.50304-0.82127-0.69205-0.72000.h5\n",
      "Epoch 26/30\n",
      "34/34 [==============================] - 86s 3s/step - loss: 0.4707 - categorical_accuracy: 0.8392 - val_loss: 0.6898 - val_categorical_accuracy: 0.7400\n",
      "\n",
      "Epoch 00026: saving model to model_init_2020-06-2912_47_58.459129/model-00026-0.45764-0.84766-0.68984-0.74000.h5\n",
      "Epoch 27/30\n",
      "34/34 [==============================] - 87s 3s/step - loss: 0.4510 - categorical_accuracy: 0.8444 - val_loss: 0.6895 - val_categorical_accuracy: 0.7400\n",
      "\n",
      "Epoch 00027: saving model to model_init_2020-06-2912_47_58.459129/model-00027-0.44947-0.84465-0.68950-0.74000.h5\n",
      "\n",
      "Epoch 00027: ReduceLROnPlateau reducing learning rate to 1.5999999959603884e-06.\n",
      "Epoch 28/30\n",
      "34/34 [==============================] - 87s 3s/step - loss: 0.4825 - categorical_accuracy: 0.8326 - val_loss: 0.6871 - val_categorical_accuracy: 0.7300\n",
      "\n",
      "Epoch 00028: saving model to model_init_2020-06-2912_47_58.459129/model-00028-0.46442-0.84087-0.68705-0.73000.h5\n",
      "Epoch 29/30\n",
      "34/34 [==============================] - 87s 3s/step - loss: 0.4686 - categorical_accuracy: 0.8396 - val_loss: 0.6871 - val_categorical_accuracy: 0.7200\n"
     ]
    },
    {
     "name": "stdout",
     "output_type": "stream",
     "text": [
      "\n",
      "Epoch 00029: saving model to model_init_2020-06-2912_47_58.459129/model-00029-0.47108-0.83560-0.68714-0.72000.h5\n",
      "Epoch 30/30\n",
      "34/34 [==============================] - 88s 3s/step - loss: 0.5127 - categorical_accuracy: 0.8138 - val_loss: 0.6872 - val_categorical_accuracy: 0.7100\n",
      "\n",
      "Epoch 00030: saving model to model_init_2020-06-2912_47_58.459129/model-00030-0.46764-0.82579-0.68724-0.71000.h5\n"
     ]
    }
   ],
   "source": [
    "print(\"Total Params:\", conv_3d8_model.count_params())\n",
    "history_model8=conv_3d8.train_model(conv_3d8_model,augment_data=True)"
   ]
  },
  {
   "cell_type": "code",
   "execution_count": 11,
   "metadata": {},
   "outputs": [
    {
     "data": {
      "image/png": "[encoded data removed]",
      "text/plain": [
       "<Figure size 1080x288 with 2 Axes>"
      ]
     },
     "metadata": {},
     "output_type": "display_data"
    }
   ],
   "source": [
    "plot(history_model8)"
   ]
  },
  {
   "cell_type": "markdown",
   "metadata": {
    "collapsed": true
   },
   "source": [
    "###### For the above low memory foot print model the best validation accuracy of 78%\n",
    "For the above low memory foot print model the best validation accuracy of 78%"
   ]
  },
  {
   "cell_type": "markdown",
   "metadata": {},
   "source": [
    "# Model 9 - CNN- LSTM Model"
   ]
  },
  {
   "cell_type": "code",
   "execution_count": 23,
   "metadata": {},
   "outputs": [],
   "source": [
    "class RNNCNN1(ModelBuilder):\n",
    "    \n",
    "    def define_model(self,lstm_cells=64,dense_neurons=64,dropout=0.25):\n",
    "\n",
    "        model = Sequential()\n",
    "\n",
    "        model.add(TimeDistributed(Conv2D(16, (3, 3) , padding='same', activation='relu'),\n",
    "                                  input_shape=(self.frames_to_sample,self.image_height,self.image_width,self.channels)))\n",
    "        model.add(TimeDistributed(BatchNormalization()))\n",
    "        model.add(TimeDistributed(MaxPooling2D((2, 2))))\n",
    "        \n",
    "        model.add(TimeDistributed(Conv2D(32, (3, 3) , padding='same', activation='relu')))\n",
    "        model.add(TimeDistributed(BatchNormalization()))\n",
    "        model.add(TimeDistributed(MaxPooling2D((2, 2))))\n",
    "        \n",
    "        model.add(TimeDistributed(Conv2D(64, (3, 3) , padding='same', activation='relu')))\n",
    "        model.add(TimeDistributed(BatchNormalization()))\n",
    "        model.add(TimeDistributed(MaxPooling2D((2, 2))))\n",
    "        \n",
    "        model.add(TimeDistributed(Conv2D(128, (3, 3) , padding='same', activation='relu')))\n",
    "        model.add(TimeDistributed(BatchNormalization()))\n",
    "        model.add(TimeDistributed(MaxPooling2D((2, 2))))\n",
    "        \n",
    "        model.add(TimeDistributed(Conv2D(256, (3, 3) , padding='same', activation='relu')))\n",
    "        model.add(TimeDistributed(BatchNormalization()))\n",
    "        model.add(TimeDistributed(MaxPooling2D((2, 2))))\n",
    "\n",
    "\n",
    "        model.add(TimeDistributed(Flatten()))\n",
    "\n",
    "\n",
    "        model.add(LSTM(lstm_cells))\n",
    "        model.add(Dropout(dropout))\n",
    "        \n",
    "        model.add(Dense(dense_neurons,activation='relu'))\n",
    "        model.add(Dropout(dropout))\n",
    "        \n",
    "        model.add(Dense(self.num_classes, activation='softmax'))\n",
    "        optimiser = optimizers.Adam()\n",
    "        model.compile(optimizer=optimiser, loss='categorical_crossentropy', metrics=['categorical_accuracy'])\n",
    "        return model"
   ]
  },
  {
   "cell_type": "code",
   "execution_count": 24,
   "metadata": {},
   "outputs": [
    {
     "name": "stdout",
     "output_type": "stream",
     "text": [
      "_________________________________________________________________\n",
      "Layer (type)                 Output Shape              Param #   \n",
      "=================================================================\n",
      "time_distributed_1 (TimeDist (None, 18, 120, 120, 16)  448       \n",
      "_________________________________________________________________\n",
      "time_distributed_2 (TimeDist (None, 18, 120, 120, 16)  64        \n",
      "_________________________________________________________________\n",
      "time_distributed_3 (TimeDist (None, 18, 60, 60, 16)    0         \n",
      "_________________________________________________________________\n",
      "time_distributed_4 (TimeDist (None, 18, 60, 60, 32)    4640      \n",
      "_________________________________________________________________\n",
      "time_distributed_5 (TimeDist (None, 18, 60, 60, 32)    128       \n",
      "_________________________________________________________________\n",
      "time_distributed_6 (TimeDist (None, 18, 30, 30, 32)    0         \n",
      "_________________________________________________________________\n",
      "time_distributed_7 (TimeDist (None, 18, 30, 30, 64)    18496     \n",
      "_________________________________________________________________\n",
      "time_distributed_8 (TimeDist (None, 18, 30, 30, 64)    256       \n",
      "_________________________________________________________________\n",
      "time_distributed_9 (TimeDist (None, 18, 15, 15, 64)    0         \n",
      "_________________________________________________________________\n",
      "time_distributed_10 (TimeDis (None, 18, 15, 15, 128)   73856     \n",
      "_________________________________________________________________\n",
      "time_distributed_11 (TimeDis (None, 18, 15, 15, 128)   512       \n",
      "_________________________________________________________________\n",
      "time_distributed_12 (TimeDis (None, 18, 7, 7, 128)     0         \n",
      "_________________________________________________________________\n",
      "time_distributed_13 (TimeDis (None, 18, 7, 7, 256)     295168    \n",
      "_________________________________________________________________\n",
      "time_distributed_14 (TimeDis (None, 18, 7, 7, 256)     1024      \n",
      "_________________________________________________________________\n",
      "time_distributed_15 (TimeDis (None, 18, 3, 3, 256)     0         \n",
      "_________________________________________________________________\n",
      "time_distributed_16 (TimeDis (None, 18, 2304)          0         \n",
      "_________________________________________________________________\n",
      "lstm_1 (LSTM)                (None, 128)               1245696   \n",
      "_________________________________________________________________\n",
      "dropout_13 (Dropout)         (None, 128)               0         \n",
      "_________________________________________________________________\n",
      "dense_19 (Dense)             (None, 128)               16512     \n",
      "_________________________________________________________________\n",
      "dropout_14 (Dropout)         (None, 128)               0         \n",
      "_________________________________________________________________\n",
      "dense_20 (Dense)             (None, 5)                 645       \n",
      "=================================================================\n",
      "Total params: 1,657,445\n",
      "Trainable params: 1,656,453\n",
      "Non-trainable params: 992\n",
      "_________________________________________________________________\n"
     ]
    }
   ],
   "source": [
    "rnn_cnn1=RNNCNN1()\n",
    "rnn_cnn1.initialize_path(project_folder)\n",
    "rnn_cnn1.initialize_image_properties(image_height=120,image_width=120)\n",
    "rnn_cnn1.initialize_hyperparams(frames_to_sample=18,batch_size=20,num_epochs=20)\n",
    "rnn_cnn1_model=rnn_cnn1.define_model(lstm_cells=128,dense_neurons=128,dropout=0.25)\n",
    "rnn_cnn1_model.summary()"
   ]
  },
  {
   "cell_type": "code",
   "execution_count": 25,
   "metadata": {},
   "outputs": [
    {
     "name": "stdout",
     "output_type": "stream",
     "text": [
      "Total Params: 1657445\n",
      "Epoch 1/20\n",
      "34/34 [==============================] - 106s 3s/step - loss: 1.4563 - categorical_accuracy: 0.3503 - val_loss: 1.3878 - val_categorical_accuracy: 0.4500\n",
      "\n",
      "Epoch 00001: saving model to model_init_2020-06-2812_28_46.005692/model-00001-1.46697-0.34238-1.38780-0.45000.h5\n",
      "Epoch 2/20\n",
      "34/34 [==============================] - 95s 3s/step - loss: 1.2039 - categorical_accuracy: 0.4893 - val_loss: 1.2085 - val_categorical_accuracy: 0.4800\n",
      "\n",
      "Epoch 00002: saving model to model_init_2020-06-2812_28_46.005692/model-00002-1.18971-0.50151-1.20846-0.48000.h5\n",
      "Epoch 3/20\n",
      "34/34 [==============================] - 100s 3s/step - loss: 1.0805 - categorical_accuracy: 0.5493 - val_loss: 1.1427 - val_categorical_accuracy: 0.6000\n",
      "\n",
      "Epoch 00003: saving model to model_init_2020-06-2812_28_46.005692/model-00003-1.09232-0.54223-1.14269-0.60000.h5\n",
      "Epoch 4/20\n",
      "34/34 [==============================] - 101s 3s/step - loss: 0.9016 - categorical_accuracy: 0.6420 - val_loss: 0.9640 - val_categorical_accuracy: 0.6700\n",
      "\n",
      "Epoch 00004: saving model to model_init_2020-06-2812_28_46.005692/model-00004-0.90878-0.63725-0.96403-0.67000.h5\n",
      "Epoch 5/20\n",
      "34/34 [==============================] - 101s 3s/step - loss: 0.7666 - categorical_accuracy: 0.6939 - val_loss: 1.0675 - val_categorical_accuracy: 0.5500\n",
      "\n",
      "Epoch 00005: saving model to model_init_2020-06-2812_28_46.005692/model-00005-0.76267-0.69457-1.06753-0.55000.h5\n",
      "Epoch 6/20\n",
      "34/34 [==============================] - 101s 3s/step - loss: 0.7652 - categorical_accuracy: 0.6865 - val_loss: 1.4480 - val_categorical_accuracy: 0.4200\n",
      "\n",
      "Epoch 00006: saving model to model_init_2020-06-2812_28_46.005692/model-00006-0.76575-0.68703-1.44804-0.42000.h5\n",
      "Epoch 7/20\n",
      "34/34 [==============================] - 101s 3s/step - loss: 0.7138 - categorical_accuracy: 0.7138 - val_loss: 1.1733 - val_categorical_accuracy: 0.6000\n",
      "\n",
      "Epoch 00007: saving model to model_init_2020-06-2812_28_46.005692/model-00007-0.72630-0.70664-1.17330-0.60000.h5\n",
      "Epoch 8/20\n",
      "34/34 [==============================] - 101s 3s/step - loss: 0.6728 - categorical_accuracy: 0.7480 - val_loss: 1.3296 - val_categorical_accuracy: 0.5300\n",
      "\n",
      "Epoch 00008: saving model to model_init_2020-06-2812_28_46.005692/model-00008-0.63269-0.76244-1.32956-0.53000.h5\n",
      "\n",
      "Epoch 00008: ReduceLROnPlateau reducing learning rate to 0.00020000000949949026.\n",
      "Epoch 9/20\n",
      "34/34 [==============================] - 99s 3s/step - loss: 0.4754 - categorical_accuracy: 0.8205 - val_loss: 1.0027 - val_categorical_accuracy: 0.6100\n",
      "\n",
      "Epoch 00009: saving model to model_init_2020-06-2812_28_46.005692/model-00009-0.45750-0.82428-1.00271-0.61000.h5\n",
      "Epoch 10/20\n",
      "34/34 [==============================] - 100s 3s/step - loss: 0.4055 - categorical_accuracy: 0.8521 - val_loss: 0.8299 - val_categorical_accuracy: 0.6900\n",
      "\n",
      "Epoch 00010: saving model to model_init_2020-06-2812_28_46.005692/model-00010-0.38509-0.85671-0.82991-0.69000.h5\n",
      "Epoch 11/20\n",
      "34/34 [==============================] - 100s 3s/step - loss: 0.3445 - categorical_accuracy: 0.8808 - val_loss: 0.7856 - val_categorical_accuracy: 0.7000\n",
      "\n",
      "Epoch 00011: saving model to model_init_2020-06-2812_28_46.005692/model-00011-0.34973-0.87783-0.78565-0.70000.h5\n",
      "Epoch 12/20\n",
      "34/34 [==============================] - 100s 3s/step - loss: 0.3000 - categorical_accuracy: 0.8955 - val_loss: 0.5651 - val_categorical_accuracy: 0.7600\n",
      "\n",
      "Epoch 00012: saving model to model_init_2020-06-2812_28_46.005692/model-00012-0.30450-0.89291-0.56507-0.76000.h5\n",
      "Epoch 13/20\n",
      "34/34 [==============================] - 101s 3s/step - loss: 0.2779 - categorical_accuracy: 0.9014 - val_loss: 0.5752 - val_categorical_accuracy: 0.8100\n",
      "\n",
      "Epoch 00013: saving model to model_init_2020-06-2812_28_46.005692/model-00013-0.28214-0.89894-0.57522-0.81000.h5\n",
      "Epoch 14/20\n",
      "34/34 [==============================] - 100s 3s/step - loss: 0.2540 - categorical_accuracy: 0.9088 - val_loss: 0.5551 - val_categorical_accuracy: 0.7800\n",
      "\n",
      "Epoch 00014: saving model to model_init_2020-06-2812_28_46.005692/model-00014-0.24445-0.91478-0.55508-0.78000.h5\n",
      "Epoch 15/20\n",
      "34/34 [==============================] - 101s 3s/step - loss: 0.2951 - categorical_accuracy: 0.9095 - val_loss: 0.5847 - val_categorical_accuracy: 0.8100\n",
      "\n",
      "Epoch 00015: saving model to model_init_2020-06-2812_28_46.005692/model-00015-0.26457-0.91554-0.58469-0.81000.h5\n",
      "Epoch 16/20\n",
      "34/34 [==============================] - 101s 3s/step - loss: 0.2331 - categorical_accuracy: 0.9168 - val_loss: 0.5715 - val_categorical_accuracy: 0.8100\n",
      "\n",
      "Epoch 00016: saving model to model_init_2020-06-2812_28_46.005692/model-00016-0.22358-0.92308-0.57148-0.81000.h5\n",
      "Epoch 17/20\n",
      "34/34 [==============================] - 100s 3s/step - loss: 0.2126 - categorical_accuracy: 0.9389 - val_loss: 0.5619 - val_categorical_accuracy: 0.8000\n",
      "\n",
      "Epoch 00017: saving model to model_init_2020-06-2812_28_46.005692/model-00017-0.21307-0.93741-0.56186-0.80000.h5\n",
      "Epoch 18/20\n",
      "34/34 [==============================] - 101s 3s/step - loss: 0.2039 - categorical_accuracy: 0.9367 - val_loss: 0.6882 - val_categorical_accuracy: 0.7600\n",
      "\n",
      "Epoch 00018: saving model to model_init_2020-06-2812_28_46.005692/model-00018-0.18440-0.94344-0.68817-0.76000.h5\n",
      "\n",
      "Epoch 00018: ReduceLROnPlateau reducing learning rate to 4.0000001899898055e-05.\n",
      "Epoch 19/20\n",
      "34/34 [==============================] - 101s 3s/step - loss: 0.1641 - categorical_accuracy: 0.9507 - val_loss: 0.5740 - val_categorical_accuracy: 0.8000\n",
      "\n",
      "Epoch 00019: saving model to model_init_2020-06-2812_28_46.005692/model-00019-0.16532-0.94947-0.57399-0.80000.h5\n",
      "Epoch 20/20\n",
      "34/34 [==============================] - 101s 3s/step - loss: 0.1614 - categorical_accuracy: 0.9566 - val_loss: 0.5688 - val_categorical_accuracy: 0.8100\n",
      "\n",
      "Epoch 00020: saving model to model_init_2020-06-2812_28_46.005692/model-00020-0.16215-0.95551-0.56878-0.81000.h5\n"
     ]
    }
   ],
   "source": [
    "print(\"Total Params:\", rnn_cnn1_model.count_params())\n",
    "history_model9=rnn_cnn1.train_model(rnn_cnn1_model,augment_data=True)"
   ]
  },
  {
   "cell_type": "code",
   "execution_count": 26,
   "metadata": {},
   "outputs": [
    {
     "data": {
      "image/png": "[encoded data removed]",
      "text/plain": [
       "<Figure size 1080x288 with 2 Axes>"
      ]
     },
     "metadata": {},
     "output_type": "display_data"
    }
   ],
   "source": [
    "plot(history_model9)"
   ]
  },
  {
   "cell_type": "markdown",
   "metadata": {
    "collapsed": true
   },
   "source": [
    "##### For CNN - LSTM model we get a best validation accuracy of 75%"
   ]
  },
  {
   "cell_type": "markdown",
   "metadata": {},
   "source": [
    "### As we see more cases of overfitting, lets augment the data with slight rotation as well and run the same set of models again"
   ]
  },
  {
   "cell_type": "markdown",
   "metadata": {},
   "source": [
    "# More Augmentation"
   ]
  },
  {
   "cell_type": "code",
   "execution_count": 17,
   "metadata": {},
   "outputs": [],
   "source": [
    "class ModelBuilderMoreAugmentation(metaclass= abc.ABCMeta):\n",
    "    \n",
    "    def initialize_path(self,project_folder):\n",
    "        self.train_doc = np.random.permutation(open(project_folder + '/' + 'train.csv').readlines())\n",
    "        self.val_doc = np.random.permutation(open(project_folder + '/' + 'val.csv').readlines())\n",
    "        self.train_path = project_folder + '/' + 'train'\n",
    "        self.val_path =  project_folder + '/' + 'val'\n",
    "        self.num_train_sequences = len(self.train_doc)\n",
    "        self.num_val_sequences = len(self.val_doc)\n",
    "        \n",
    "    def initialize_image_properties(self,image_height=100,image_width=100):\n",
    "        self.image_height=image_height\n",
    "        self.image_width=image_width\n",
    "        self.channels=3\n",
    "        self.num_classes=5\n",
    "        self.total_frames=30\n",
    "          \n",
    "    def initialize_hyperparams(self,frames_to_sample=30,batch_size=20,num_epochs=20):\n",
    "        self.frames_to_sample=frames_to_sample\n",
    "        self.batch_size=batch_size\n",
    "        self.num_epochs=num_epochs\n",
    "        \n",
    "        \n",
    "    def generator(self,source_path, folder_list, augment=False):\n",
    "        img_idx = np.round(np.linspace(0,self.total_frames-1,self.frames_to_sample)).astype(int)\n",
    "        batch_size=self.batch_size\n",
    "        while True:\n",
    "            t = np.random.permutation(folder_list)\n",
    "            num_batches = len(t)//batch_size\n",
    "        \n",
    "            for batch in range(num_batches): \n",
    "                batch_data, batch_labels= self.one_batch_data(source_path,t,batch,batch_size,img_idx,augment)\n",
    "                yield batch_data, batch_labels \n",
    "\n",
    "            remaining_seq=len(t)%batch_size\n",
    "        \n",
    "            if (remaining_seq != 0):\n",
    "                batch_data, batch_labels= self.one_batch_data(source_path,t,num_batches,batch_size,img_idx,augment,remaining_seq)\n",
    "                yield batch_data, batch_labels \n",
    "    \n",
    "    \n",
    "    def one_batch_data(self,source_path,t,batch,batch_size,img_idx,augment,remaining_seq=0):\n",
    "    \n",
    "        seq_len = remaining_seq if remaining_seq else batch_size\n",
    "    \n",
    "        batch_data = np.zeros((seq_len,len(img_idx),self.image_height,self.image_width,self.channels)) \n",
    "        batch_labels = np.zeros((seq_len,self.num_classes)) \n",
    "    \n",
    "        if (augment): batch_data_aug = np.zeros((seq_len,len(img_idx),self.image_height,self.image_width,self.channels))\n",
    "\n",
    "        \n",
    "        for folder in range(seq_len): \n",
    "            imgs = os.listdir(source_path+'/'+ t[folder + (batch*batch_size)].split(';')[0]) \n",
    "            for idx,item in enumerate(img_idx): \n",
    "                image = imread(source_path+'/'+ t[folder + (batch*batch_size)].strip().split(';')[0]+'/'+imgs[item]).astype(np.float32)\n",
    "                image_resized=imresize(image,(self.image_height,self.image_width,3))\n",
    "            \n",
    "\n",
    "                batch_data[folder,idx,:,:,0] = (image_resized[:,:,0])/255\n",
    "                batch_data[folder,idx,:,:,1] = (image_resized[:,:,1])/255\n",
    "                batch_data[folder,idx,:,:,2] = (image_resized[:,:,2])/255\n",
    "            \n",
    "                if (augment):\n",
    "                    shifted = cv2.warpAffine(image, \n",
    "                                             np.float32([[1, 0, np.random.randint(-30,30)],[0, 1, np.random.randint(-30,30)]]), \n",
    "                                            (image.shape[1], image.shape[0]))\n",
    "                    \n",
    "                    gray = cv2.cvtColor(shifted,cv2.COLOR_BGR2GRAY)\n",
    "\n",
    "                    x0, y0 = np.argwhere(gray > 0).min(axis=0)\n",
    "                    x1, y1 = np.argwhere(gray > 0).max(axis=0) \n",
    "                    \n",
    "                    cropped=shifted[x0:x1,y0:y1,:]\n",
    "                    \n",
    "                    image_resized=imresize(cropped,(self.image_height,self.image_width,3))\n",
    "                    \n",
    "                    M = cv2.getRotationMatrix2D((self.image_width//2,self.image_height//2),\n",
    "                                                np.random.randint(-10,10), 1.0)\n",
    "                    rotated = cv2.warpAffine(image_resized, M, (self.image_width, self.image_height))\n",
    "                    \n",
    "                    #shifted = cv2.warpAffine(image_resized, \n",
    "                    #                        np.float32([[1, 0, np.random.randint(-3,3)],[0, 1, np.random.randint(-3,3)]]), \n",
    "                    #                        (image_resized.shape[1], image_resized.shape[0]))\n",
    "            \n",
    "                    batch_data_aug[folder,idx,:,:,0] = (rotated[:,:,0])/255\n",
    "                    batch_data_aug[folder,idx,:,:,1] = (rotated[:,:,1])/255\n",
    "                    batch_data_aug[folder,idx,:,:,2] = (rotated[:,:,2])/255\n",
    "                \n",
    "            \n",
    "            batch_labels[folder, int(t[folder + (batch*batch_size)].strip().split(';')[2])] = 1\n",
    "            \n",
    "    \n",
    "        if (augment):\n",
    "            batch_data=np.concatenate([batch_data,batch_data_aug])\n",
    "            batch_labels=np.concatenate([batch_labels,batch_labels])\n",
    "\n",
    "        \n",
    "        return(batch_data,batch_labels)\n",
    "    \n",
    "    \n",
    "    def train_model(self, model, augment_data=False):\n",
    "        train_generator = self.generator(self.train_path, self.train_doc,augment=augment_data)\n",
    "        val_generator = self.generator(self.val_path, self.val_doc)\n",
    "\n",
    "        model_name = 'model_init' + '_' + str(datetime.datetime.now()).replace(' ','').replace(':','_') + '/'\n",
    "    \n",
    "        if not os.path.exists(model_name):\n",
    "            os.mkdir(model_name)\n",
    "        \n",
    "        filepath = model_name + 'model-{epoch:05d}-{loss:.5f}-{categorical_accuracy:.5f}-{val_loss:.5f}-{val_categorical_accuracy:.5f}.h5'\n",
    "\n",
    "        checkpoint = ModelCheckpoint(filepath, monitor='val_loss', verbose=1, save_best_only=False, save_weights_only=False, mode='auto', period=1)\n",
    "        LR = ReduceLROnPlateau(monitor='val_loss', factor=0.2, verbose=1, patience=4)\n",
    "        callbacks_list = [checkpoint, LR]\n",
    "\n",
    "        if (self.num_train_sequences%self.batch_size) == 0:\n",
    "            steps_per_epoch = int(self.num_train_sequences/self.batch_size)\n",
    "        else:\n",
    "            steps_per_epoch = (self.num_train_sequences//self.batch_size) + 1\n",
    "\n",
    "        if (self.num_val_sequences%self.batch_size) == 0:\n",
    "            validation_steps = int(self.num_val_sequences/self.batch_size)\n",
    "        else:\n",
    "            validation_steps = (self.num_val_sequences//self.batch_size) + 1\n",
    "    \n",
    "        history=model.fit_generator(train_generator, steps_per_epoch=steps_per_epoch, epochs=self.num_epochs, verbose=1, \n",
    "                            callbacks=callbacks_list, validation_data=val_generator, \n",
    "                            validation_steps=validation_steps, class_weight=None, workers=1, initial_epoch=0)\n",
    "        return history\n",
    "\n",
    "        \n",
    "    @abc.abstractmethod\n",
    "    def define_model(self):\n",
    "        pass"
   ]
  },
  {
   "cell_type": "markdown",
   "metadata": {},
   "source": [
    "# Model 10 - (3,3,3) Filter & 160x160 Image resolution - similar to Model 2"
   ]
  },
  {
   "cell_type": "code",
   "execution_count": 13,
   "metadata": {},
   "outputs": [],
   "source": [
    "class ModelConv3D10(ModelBuilderMoreAugmentation):\n",
    "    \n",
    "    def define_model(self,filtersize=(3,3,3),dense_neurons=64,dropout=0.25):\n",
    "\n",
    "        model = Sequential()\n",
    "        model.add(Conv3D(16, filtersize, padding='same',\n",
    "                 input_shape=(self.frames_to_sample,self.image_height,self.image_width,self.channels)))\n",
    "        model.add(Activation('relu'))\n",
    "        model.add(BatchNormalization())\n",
    "        model.add(MaxPooling3D(pool_size=(2, 2, 2)))\n",
    "\n",
    "        model.add(Conv3D(32, filtersize, padding='same'))\n",
    "        model.add(Activation('relu'))\n",
    "        model.add(BatchNormalization())\n",
    "        model.add(MaxPooling3D(pool_size=(2, 2, 2)))\n",
    "\n",
    "        model.add(Conv3D(64, filtersize, padding='same'))\n",
    "        model.add(Activation('relu'))\n",
    "        model.add(BatchNormalization())\n",
    "        model.add(MaxPooling3D(pool_size=(2, 2, 2)))\n",
    "\n",
    "        model.add(Conv3D(128, filtersize, padding='same'))\n",
    "        model.add(Activation('relu'))\n",
    "        model.add(BatchNormalization())\n",
    "        model.add(MaxPooling3D(pool_size=(2, 2, 2)))\n",
    "\n",
    "        model.add(Flatten())\n",
    "        model.add(Dense(dense_neurons,activation='relu'))\n",
    "        model.add(BatchNormalization())\n",
    "        model.add(Dropout(dropout))\n",
    "\n",
    "        model.add(Dense(dense_neurons,activation='relu'))\n",
    "        model.add(BatchNormalization())\n",
    "        model.add(Dropout(dropout))\n",
    "\n",
    "\n",
    "        model.add(Dense(self.num_classes,activation='softmax'))\n",
    "\n",
    "        optimiser = optimizers.Adam(lr=0.0002)\n",
    "        model.compile(optimizer=optimiser, loss='categorical_crossentropy', metrics=['categorical_accuracy'])\n",
    "        return model"
   ]
  },
  {
   "cell_type": "code",
   "execution_count": 14,
   "metadata": {},
   "outputs": [
    {
     "name": "stdout",
     "output_type": "stream",
     "text": [
      "_________________________________________________________________\n",
      "Layer (type)                 Output Shape              Param #   \n",
      "=================================================================\n",
      "conv3d_5 (Conv3D)            (None, 20, 160, 160, 16)  1312      \n",
      "_________________________________________________________________\n",
      "activation_5 (Activation)    (None, 20, 160, 160, 16)  0         \n",
      "_________________________________________________________________\n",
      "batch_normalization_7 (Batch (None, 20, 160, 160, 16)  64        \n",
      "_________________________________________________________________\n",
      "max_pooling3d_5 (MaxPooling3 (None, 10, 80, 80, 16)    0         \n",
      "_________________________________________________________________\n",
      "conv3d_6 (Conv3D)            (None, 10, 80, 80, 32)    13856     \n",
      "_________________________________________________________________\n",
      "activation_6 (Activation)    (None, 10, 80, 80, 32)    0         \n",
      "_________________________________________________________________\n",
      "batch_normalization_8 (Batch (None, 10, 80, 80, 32)    128       \n",
      "_________________________________________________________________\n",
      "max_pooling3d_6 (MaxPooling3 (None, 5, 40, 40, 32)     0         \n",
      "_________________________________________________________________\n",
      "conv3d_7 (Conv3D)            (None, 5, 40, 40, 64)     55360     \n",
      "_________________________________________________________________\n",
      "activation_7 (Activation)    (None, 5, 40, 40, 64)     0         \n",
      "_________________________________________________________________\n",
      "batch_normalization_9 (Batch (None, 5, 40, 40, 64)     256       \n",
      "_________________________________________________________________\n",
      "max_pooling3d_7 (MaxPooling3 (None, 2, 20, 20, 64)     0         \n",
      "_________________________________________________________________\n",
      "conv3d_8 (Conv3D)            (None, 2, 20, 20, 128)    221312    \n",
      "_________________________________________________________________\n",
      "activation_8 (Activation)    (None, 2, 20, 20, 128)    0         \n",
      "_________________________________________________________________\n",
      "batch_normalization_10 (Batc (None, 2, 20, 20, 128)    512       \n",
      "_________________________________________________________________\n",
      "max_pooling3d_8 (MaxPooling3 (None, 1, 10, 10, 128)    0         \n",
      "_________________________________________________________________\n",
      "flatten_2 (Flatten)          (None, 12800)             0         \n",
      "_________________________________________________________________\n",
      "dense_4 (Dense)              (None, 256)               3277056   \n",
      "_________________________________________________________________\n",
      "batch_normalization_11 (Batc (None, 256)               1024      \n",
      "_________________________________________________________________\n",
      "dropout_3 (Dropout)          (None, 256)               0         \n",
      "_________________________________________________________________\n",
      "dense_5 (Dense)              (None, 256)               65792     \n",
      "_________________________________________________________________\n",
      "batch_normalization_12 (Batc (None, 256)               1024      \n",
      "_________________________________________________________________\n",
      "dropout_4 (Dropout)          (None, 256)               0         \n",
      "_________________________________________________________________\n",
      "dense_6 (Dense)              (None, 5)                 1285      \n",
      "=================================================================\n",
      "Total params: 3,638,981\n",
      "Trainable params: 3,637,477\n",
      "Non-trainable params: 1,504\n",
      "_________________________________________________________________\n"
     ]
    }
   ],
   "source": [
    "conv_3d10=ModelConv3D10()\n",
    "conv_3d10.initialize_path(project_folder)\n",
    "conv_3d10.initialize_image_properties(image_height=160,image_width=160)\n",
    "conv_3d10.initialize_hyperparams(frames_to_sample=20,batch_size=20,num_epochs=30)\n",
    "conv_3d10_model=conv_3d10.define_model(dense_neurons=256,dropout=0.5)\n",
    "conv_3d10_model.summary()"
   ]
  },
  {
   "cell_type": "code",
   "execution_count": 15,
   "metadata": {},
   "outputs": [
    {
     "name": "stdout",
     "output_type": "stream",
     "text": [
      "Total Params: 3638981\n",
      "Epoch 1/30\n",
      "34/34 [==============================] - 215s 6s/step - loss: 1.9990 - categorical_accuracy: 0.3830 - val_loss: 1.2481 - val_categorical_accuracy: 0.5600\n",
      "\n",
      "Epoch 00001: saving model to model_init_2020-06-2913_33_34.503632/model-00001-1.98846-0.38009-1.24807-0.56000.h5\n",
      "Epoch 2/30\n",
      "34/34 [==============================] - 132s 4s/step - loss: 1.4689 - categorical_accuracy: 0.4809 - val_loss: 1.0117 - val_categorical_accuracy: 0.5900\n",
      "\n",
      "Epoch 00002: saving model to model_init_2020-06-2913_33_34.503632/model-00002-1.48850-0.47210-1.01168-0.59000.h5\n",
      "Epoch 3/30\n",
      "34/34 [==============================] - 136s 4s/step - loss: 1.4553 - categorical_accuracy: 0.5110 - val_loss: 1.0097 - val_categorical_accuracy: 0.6200\n",
      "\n",
      "Epoch 00003: saving model to model_init_2020-06-2913_33_34.503632/model-00003-1.41811-0.51961-1.00969-0.62000.h5\n",
      "Epoch 4/30\n",
      "34/34 [==============================] - 136s 4s/step - loss: 1.1830 - categorical_accuracy: 0.5740 - val_loss: 1.1507 - val_categorical_accuracy: 0.6300\n",
      "\n",
      "Epoch 00004: saving model to model_init_2020-06-2913_33_34.503632/model-00004-1.16950-0.57994-1.15072-0.63000.h5\n",
      "Epoch 5/30\n",
      "34/34 [==============================] - 136s 4s/step - loss: 1.0849 - categorical_accuracy: 0.6074 - val_loss: 1.0741 - val_categorical_accuracy: 0.6100\n",
      "\n",
      "Epoch 00005: saving model to model_init_2020-06-2913_33_34.503632/model-00005-1.05003-0.61840-1.07405-0.61000.h5\n",
      "Epoch 6/30\n",
      "34/34 [==============================] - 134s 4s/step - loss: 1.0202 - categorical_accuracy: 0.6258 - val_loss: 0.9732 - val_categorical_accuracy: 0.6800\n",
      "\n",
      "Epoch 00006: saving model to model_init_2020-06-2913_33_34.503632/model-00006-1.01253-0.62896-0.97318-0.68000.h5\n",
      "Epoch 7/30\n",
      "34/34 [==============================] - 136s 4s/step - loss: 0.9893 - categorical_accuracy: 0.6358 - val_loss: 0.9671 - val_categorical_accuracy: 0.6600\n",
      "\n",
      "Epoch 00007: saving model to model_init_2020-06-2913_33_34.503632/model-00007-0.97428-0.64329-0.96715-0.66000.h5\n",
      "Epoch 8/30\n",
      "34/34 [==============================] - 136s 4s/step - loss: 0.8501 - categorical_accuracy: 0.6843 - val_loss: 0.8078 - val_categorical_accuracy: 0.7000\n",
      "\n",
      "Epoch 00008: saving model to model_init_2020-06-2913_33_34.503632/model-00008-0.86408-0.67647-0.80775-0.70000.h5\n",
      "Epoch 9/30\n",
      "34/34 [==============================] - 135s 4s/step - loss: 0.8587 - categorical_accuracy: 0.6865 - val_loss: 1.3929 - val_categorical_accuracy: 0.6200\n",
      "\n",
      "Epoch 00009: saving model to model_init_2020-06-2913_33_34.503632/model-00009-0.84751-0.69532-1.39292-0.62000.h5\n",
      "Epoch 10/30\n",
      "34/34 [==============================] - 136s 4s/step - loss: 0.7676 - categorical_accuracy: 0.7230 - val_loss: 0.8363 - val_categorical_accuracy: 0.6600\n",
      "\n",
      "Epoch 00010: saving model to model_init_2020-06-2913_33_34.503632/model-00010-0.76631-0.72851-0.83634-0.66000.h5\n",
      "Epoch 11/30\n",
      "34/34 [==============================] - 135s 4s/step - loss: 0.7314 - categorical_accuracy: 0.7369 - val_loss: 1.1161 - val_categorical_accuracy: 0.5900\n",
      "\n",
      "Epoch 00011: saving model to model_init_2020-06-2913_33_34.503632/model-00011-0.74108-0.73454-1.11612-0.59000.h5\n",
      "Epoch 12/30\n",
      "34/34 [==============================] - 134s 4s/step - loss: 0.8038 - categorical_accuracy: 0.7156 - val_loss: 1.0840 - val_categorical_accuracy: 0.6300\n",
      "\n",
      "Epoch 00012: saving model to model_init_2020-06-2913_33_34.503632/model-00012-0.74050-0.72926-1.08397-0.63000.h5\n",
      "\n",
      "Epoch 00012: ReduceLROnPlateau reducing learning rate to 3.9999998989515007e-05.\n",
      "Epoch 13/30\n",
      "34/34 [==============================] - 135s 4s/step - loss: 0.6295 - categorical_accuracy: 0.7586 - val_loss: 0.9326 - val_categorical_accuracy: 0.6900\n",
      "\n",
      "Epoch 00013: saving model to model_init_2020-06-2913_33_34.503632/model-00013-0.60982-0.76923-0.93256-0.69000.h5\n",
      "Epoch 14/30\n",
      "34/34 [==============================] - 134s 4s/step - loss: 0.6372 - categorical_accuracy: 0.7575 - val_loss: 0.9038 - val_categorical_accuracy: 0.6900\n",
      "\n",
      "Epoch 00014: saving model to model_init_2020-06-2913_33_34.503632/model-00014-0.59583-0.76395-0.90381-0.69000.h5\n",
      "Epoch 15/30\n",
      "34/34 [==============================] - 134s 4s/step - loss: 0.5897 - categorical_accuracy: 0.7888 - val_loss: 0.7644 - val_categorical_accuracy: 0.7200\n",
      "\n",
      "Epoch 00015: saving model to model_init_2020-06-2913_33_34.503632/model-00015-0.57621-0.79186-0.76438-0.72000.h5\n",
      "Epoch 16/30\n",
      "34/34 [==============================] - 135s 4s/step - loss: 0.5691 - categorical_accuracy: 0.7903 - val_loss: 0.7193 - val_categorical_accuracy: 0.7400\n",
      "\n",
      "Epoch 00016: saving model to model_init_2020-06-2913_33_34.503632/model-00016-0.56076-0.79336-0.71928-0.74000.h5\n",
      "Epoch 17/30\n",
      "34/34 [==============================] - 135s 4s/step - loss: 0.5406 - categorical_accuracy: 0.7877 - val_loss: 0.7726 - val_categorical_accuracy: 0.7400\n",
      "\n",
      "Epoch 00017: saving model to model_init_2020-06-2913_33_34.503632/model-00017-0.53424-0.79487-0.77255-0.74000.h5\n",
      "Epoch 18/30\n",
      "34/34 [==============================] - 134s 4s/step - loss: 0.4829 - categorical_accuracy: 0.8043 - val_loss: 0.7265 - val_categorical_accuracy: 0.7400\n",
      "\n",
      "Epoch 00018: saving model to model_init_2020-06-2913_33_34.503632/model-00018-0.48330-0.80769-0.72647-0.74000.h5\n",
      "Epoch 19/30\n",
      "34/34 [==============================] - 134s 4s/step - loss: 0.5575 - categorical_accuracy: 0.8024 - val_loss: 0.7389 - val_categorical_accuracy: 0.7400\n",
      "\n",
      "Epoch 00019: saving model to model_init_2020-06-2913_33_34.503632/model-00019-0.53278-0.80995-0.73890-0.74000.h5\n",
      "Epoch 20/30\n",
      "34/34 [==============================] - 135s 4s/step - loss: 0.4946 - categorical_accuracy: 0.8205 - val_loss: 0.7268 - val_categorical_accuracy: 0.7300\n",
      "\n",
      "Epoch 00020: saving model to model_init_2020-06-2913_33_34.503632/model-00020-0.48200-0.82428-0.72677-0.73000.h5\n",
      "\n",
      "Epoch 00020: ReduceLROnPlateau reducing learning rate to 7.999999797903002e-06.\n",
      "Epoch 21/30\n",
      "34/34 [==============================] - 135s 4s/step - loss: 0.5191 - categorical_accuracy: 0.8171 - val_loss: 0.7278 - val_categorical_accuracy: 0.7200\n",
      "\n",
      "Epoch 00021: saving model to model_init_2020-06-2913_33_34.503632/model-00021-0.51238-0.81674-0.72785-0.72000.h5\n",
      "Epoch 22/30\n",
      "34/34 [==============================] - 136s 4s/step - loss: 0.4907 - categorical_accuracy: 0.8083 - val_loss: 0.7278 - val_categorical_accuracy: 0.7400\n",
      "\n",
      "Epoch 00022: saving model to model_init_2020-06-2913_33_34.503632/model-00022-0.46905-0.81599-0.72783-0.74000.h5\n",
      "Epoch 23/30\n",
      "34/34 [==============================] - 136s 4s/step - loss: 0.5056 - categorical_accuracy: 0.8171 - val_loss: 0.7269 - val_categorical_accuracy: 0.7400\n",
      "\n",
      "Epoch 00023: saving model to model_init_2020-06-2913_33_34.503632/model-00023-0.48559-0.81674-0.72690-0.74000.h5\n",
      "Epoch 24/30\n",
      "34/34 [==============================] - 136s 4s/step - loss: 0.4928 - categorical_accuracy: 0.8341 - val_loss: 0.7196 - val_categorical_accuracy: 0.7600\n",
      "\n",
      "Epoch 00024: saving model to model_init_2020-06-2913_33_34.503632/model-00024-0.44888-0.83409-0.71963-0.76000.h5\n",
      "\n",
      "Epoch 00024: ReduceLROnPlateau reducing learning rate to 1.5999999959603884e-06.\n",
      "Epoch 25/30\n",
      "34/34 [==============================] - 134s 4s/step - loss: 0.4786 - categorical_accuracy: 0.8260 - val_loss: 0.7154 - val_categorical_accuracy: 0.7600\n",
      "\n",
      "Epoch 00025: saving model to model_init_2020-06-2913_33_34.503632/model-00025-0.47201-0.82579-0.71538-0.76000.h5\n",
      "Epoch 26/30\n",
      "34/34 [==============================] - 136s 4s/step - loss: 0.4707 - categorical_accuracy: 0.8330 - val_loss: 0.7141 - val_categorical_accuracy: 0.7700\n",
      "\n",
      "Epoch 00026: saving model to model_init_2020-06-2913_33_34.503632/model-00026-0.46544-0.83710-0.71407-0.77000.h5\n",
      "Epoch 27/30\n",
      "34/34 [==============================] - 137s 4s/step - loss: 0.4940 - categorical_accuracy: 0.8267 - val_loss: 0.7158 - val_categorical_accuracy: 0.7600\n",
      "\n",
      "Epoch 00027: saving model to model_init_2020-06-2913_33_34.503632/model-00027-0.48915-0.82655-0.71578-0.76000.h5\n",
      "Epoch 28/30\n",
      "34/34 [==============================] - 137s 4s/step - loss: 0.4637 - categorical_accuracy: 0.8238 - val_loss: 0.7138 - val_categorical_accuracy: 0.7600\n",
      "\n",
      "Epoch 00028: saving model to model_init_2020-06-2913_33_34.503632/model-00028-0.46081-0.82353-0.71381-0.76000.h5\n",
      "Epoch 29/30\n",
      "34/34 [==============================] - 136s 4s/step - loss: 0.4544 - categorical_accuracy: 0.8411 - val_loss: 0.7107 - val_categorical_accuracy: 0.7600\n",
      "\n",
      "Epoch 00029: saving model to model_init_2020-06-2913_33_34.503632/model-00029-0.41076-0.85370-0.71071-0.76000.h5\n",
      "Epoch 30/30\n",
      "34/34 [==============================] - 137s 4s/step - loss: 0.4443 - categorical_accuracy: 0.8458 - val_loss: 0.7136 - val_categorical_accuracy: 0.7600\n",
      "\n",
      "Epoch 00030: saving model to model_init_2020-06-2913_33_34.503632/model-00030-0.44000-0.84615-0.71356-0.76000.h5\n"
     ]
    }
   ],
   "source": [
    "print(\"Total Params:\", conv_3d10_model.count_params())\n",
    "history_model10=conv_3d10.train_model(conv_3d10_model,augment_data=True)"
   ]
  },
  {
   "cell_type": "code",
   "execution_count": 16,
   "metadata": {},
   "outputs": [
    {
     "data": {
      "image/png": "[encoded data removed]",
      "text/plain": [
       "<Figure size 1080x288 with 2 Axes>"
      ]
     },
     "metadata": {},
     "output_type": "display_data"
    }
   ],
   "source": [
    "plot(history_model10)"
   ]
  },
  {
   "cell_type": "markdown",
   "metadata": {},
   "source": [
    "# Model 11 - (2,2,2) Filter  & 120x120 Image resolution - similar to Model 3"
   ]
  },
  {
   "cell_type": "code",
   "execution_count": 10,
   "metadata": {},
   "outputs": [],
   "source": [
    "class ModelConv3D11(ModelBuilderMoreAugmentation):\n",
    "    \n",
    "    def define_model(self,filtersize=(3,3,3),dense_neurons=64,dropout=0.25):\n",
    "\n",
    "        model = Sequential()\n",
    "        model.add(Conv3D(16, filtersize, padding='same',\n",
    "                 input_shape=(self.frames_to_sample,self.image_height,self.image_width,self.channels)))\n",
    "        model.add(Activation('relu'))\n",
    "        model.add(BatchNormalization())\n",
    "        model.add(MaxPooling3D(pool_size=(2, 2, 2)))\n",
    "\n",
    "        model.add(Conv3D(32, filtersize, padding='same'))\n",
    "        model.add(Activation('relu'))\n",
    "        model.add(BatchNormalization())\n",
    "        model.add(MaxPooling3D(pool_size=(2, 2, 2)))\n",
    "\n",
    "        model.add(Conv3D(64, filtersize, padding='same'))\n",
    "        model.add(Activation('relu'))\n",
    "        model.add(BatchNormalization())\n",
    "        model.add(MaxPooling3D(pool_size=(2, 2, 2)))\n",
    "\n",
    "        model.add(Conv3D(128, filtersize, padding='same'))\n",
    "        model.add(Activation('relu'))\n",
    "        model.add(BatchNormalization())\n",
    "        model.add(MaxPooling3D(pool_size=(2, 2, 2)))\n",
    "\n",
    "        model.add(Flatten())\n",
    "        model.add(Dense(dense_neurons,activation='relu'))\n",
    "        model.add(BatchNormalization())\n",
    "        model.add(Dropout(dropout))\n",
    "\n",
    "        model.add(Dense(dense_neurons,activation='relu'))\n",
    "        model.add(BatchNormalization())\n",
    "        model.add(Dropout(dropout))\n",
    "\n",
    "\n",
    "        model.add(Dense(self.num_classes,activation='softmax'))\n",
    "\n",
    "        optimiser = optimizers.Adam(lr=0.0002)\n",
    "        model.compile(optimizer=optimiser, loss='categorical_crossentropy', metrics=['categorical_accuracy'])\n",
    "        return model"
   ]
  },
  {
   "cell_type": "code",
   "execution_count": 11,
   "metadata": {},
   "outputs": [
    {
     "name": "stdout",
     "output_type": "stream",
     "text": [
      "_________________________________________________________________\n",
      "Layer (type)                 Output Shape              Param #   \n",
      "=================================================================\n",
      "conv3d_1 (Conv3D)            (None, 16, 120, 120, 16)  400       \n",
      "_________________________________________________________________\n",
      "activation_1 (Activation)    (None, 16, 120, 120, 16)  0         \n",
      "_________________________________________________________________\n",
      "batch_normalization_1 (Batch (None, 16, 120, 120, 16)  64        \n",
      "_________________________________________________________________\n",
      "max_pooling3d_1 (MaxPooling3 (None, 8, 60, 60, 16)     0         \n",
      "_________________________________________________________________\n",
      "conv3d_2 (Conv3D)            (None, 8, 60, 60, 32)     4128      \n",
      "_________________________________________________________________\n",
      "activation_2 (Activation)    (None, 8, 60, 60, 32)     0         \n",
      "_________________________________________________________________\n",
      "batch_normalization_2 (Batch (None, 8, 60, 60, 32)     128       \n",
      "_________________________________________________________________\n",
      "max_pooling3d_2 (MaxPooling3 (None, 4, 30, 30, 32)     0         \n",
      "_________________________________________________________________\n",
      "conv3d_3 (Conv3D)            (None, 4, 30, 30, 64)     16448     \n",
      "_________________________________________________________________\n",
      "activation_3 (Activation)    (None, 4, 30, 30, 64)     0         \n",
      "_________________________________________________________________\n",
      "batch_normalization_3 (Batch (None, 4, 30, 30, 64)     256       \n",
      "_________________________________________________________________\n",
      "max_pooling3d_3 (MaxPooling3 (None, 2, 15, 15, 64)     0         \n",
      "_________________________________________________________________\n",
      "conv3d_4 (Conv3D)            (None, 2, 15, 15, 128)    65664     \n",
      "_________________________________________________________________\n",
      "activation_4 (Activation)    (None, 2, 15, 15, 128)    0         \n",
      "_________________________________________________________________\n",
      "batch_normalization_4 (Batch (None, 2, 15, 15, 128)    512       \n",
      "_________________________________________________________________\n",
      "max_pooling3d_4 (MaxPooling3 (None, 1, 7, 7, 128)      0         \n",
      "_________________________________________________________________\n",
      "flatten_1 (Flatten)          (None, 6272)              0         \n",
      "_________________________________________________________________\n",
      "dense_1 (Dense)              (None, 256)               1605888   \n",
      "_________________________________________________________________\n",
      "batch_normalization_5 (Batch (None, 256)               1024      \n",
      "_________________________________________________________________\n",
      "dropout_1 (Dropout)          (None, 256)               0         \n",
      "_________________________________________________________________\n",
      "dense_2 (Dense)              (None, 256)               65792     \n",
      "_________________________________________________________________\n",
      "batch_normalization_6 (Batch (None, 256)               1024      \n",
      "_________________________________________________________________\n",
      "dropout_2 (Dropout)          (None, 256)               0         \n",
      "_________________________________________________________________\n",
      "dense_3 (Dense)              (None, 5)                 1285      \n",
      "=================================================================\n",
      "Total params: 1,762,613\n",
      "Trainable params: 1,761,109\n",
      "Non-trainable params: 1,504\n",
      "_________________________________________________________________\n"
     ]
    }
   ],
   "source": [
    "conv_3d11=ModelConv3D11()\n",
    "conv_3d11.initialize_path(project_folder)\n",
    "conv_3d11.initialize_image_properties(image_height=120,image_width=120)\n",
    "conv_3d11.initialize_hyperparams(frames_to_sample=16,batch_size=30,num_epochs=30)\n",
    "conv_3d11_model=conv_3d11.define_model(filtersize=(2,2,2),dense_neurons=256,dropout=0.5)\n",
    "conv_3d11_model.summary()"
   ]
  },
  {
   "cell_type": "code",
   "execution_count": null,
   "metadata": {},
   "outputs": [
    {
     "name": "stdout",
     "output_type": "stream",
     "text": [
      "Total Params: 1762613\n",
      "Epoch 1/30\n"
     ]
    }
   ],
   "source": [
    "print(\"Total Params:\", conv_3d11_model.count_params())\n",
    "history_model11=conv_3d11.train_model(conv_3d11_model,augment_data=True)"
   ]
  },
  {
   "cell_type": "code",
   "execution_count": 25,
   "metadata": {},
   "outputs": [
    {
     "data": {
      "image/png": "[encoded data removed]",
      "text/plain": [
       "<Figure size 1080x288 with 2 Axes>"
      ]
     },
     "metadata": {},
     "output_type": "display_data"
    }
   ],
   "source": [
    "plot(history_model11)"
   ]
  },
  {
   "cell_type": "markdown",
   "metadata": {},
   "source": [
    "# Model 12 - Adding more layers - Similar to model 4"
   ]
  },
  {
   "cell_type": "code",
   "execution_count": null,
   "metadata": {},
   "outputs": [],
   "source": [
    "class ModelConv3D12(ModelBuilderMoreAugmentation):\n",
    "    \n",
    "    def define_model(self,filtersize=(3,3,3),dense_neurons=64,dropout=0.25):\n",
    "\n",
    "        model = Sequential()\n",
    "        model.add(Conv3D(16, filtersize, padding='same',\n",
    "                 input_shape=(self.frames_to_sample,self.image_height,self.image_width,self.channels)))\n",
    "        model.add(Activation('relu'))\n",
    "        model.add(BatchNormalization())\n",
    "        \n",
    "        model.add(Conv3D(16, filtersize, padding='same',\n",
    "                 input_shape=(self.frames_to_sample,self.image_height,self.image_width,self.channels)))\n",
    "        model.add(Activation('relu'))\n",
    "        model.add(BatchNormalization())\n",
    "        \n",
    "        model.add(MaxPooling3D(pool_size=(2, 2, 2)))\n",
    "\n",
    "        model.add(Conv3D(32, filtersize, padding='same'))\n",
    "        model.add(Activation('relu'))\n",
    "        model.add(BatchNormalization())\n",
    "        \n",
    "        model.add(Conv3D(32, filtersize, padding='same'))\n",
    "        model.add(Activation('relu'))\n",
    "        model.add(BatchNormalization())\n",
    "        \n",
    "        model.add(MaxPooling3D(pool_size=(2, 2, 2)))\n",
    "\n",
    "        model.add(Conv3D(64, filtersize, padding='same'))\n",
    "        model.add(Activation('relu'))\n",
    "        model.add(BatchNormalization())\n",
    "        \n",
    "        model.add(Conv3D(64, filtersize, padding='same'))\n",
    "        model.add(Activation('relu'))\n",
    "        model.add(BatchNormalization())\n",
    "        \n",
    "        model.add(MaxPooling3D(pool_size=(2, 2, 2)))\n",
    "\n",
    "        model.add(Conv3D(128, filtersize, padding='same'))\n",
    "        model.add(Activation('relu'))\n",
    "        model.add(BatchNormalization())\n",
    "        \n",
    "        model.add(Conv3D(128, filtersize, padding='same'))\n",
    "        model.add(Activation('relu'))\n",
    "        model.add(BatchNormalization())\n",
    "        \n",
    "        model.add(MaxPooling3D(pool_size=(2, 2, 2)))\n",
    "        \n",
    "\n",
    "        model.add(Flatten())\n",
    "        model.add(Dense(dense_neurons,activation='relu'))\n",
    "        model.add(BatchNormalization())\n",
    "        model.add(Dropout(dropout))\n",
    "\n",
    "        model.add(Dense(dense_neurons,activation='relu'))\n",
    "        model.add(BatchNormalization())\n",
    "        model.add(Dropout(dropout))\n",
    "\n",
    "\n",
    "        model.add(Dense(self.num_classes,activation='softmax'))\n",
    "\n",
    "        optimiser = optimizers.Adam(lr=0.0002)\n",
    "        model.compile(optimizer=optimiser, loss='categorical_crossentropy', metrics=['categorical_accuracy'])\n",
    "        return model"
   ]
  },
  {
   "cell_type": "code",
   "execution_count": null,
   "metadata": {},
   "outputs": [],
   "source": [
    "conv_3d12=ModelConv3D12()\n",
    "conv_3d12.initialize_path(project_folder)\n",
    "conv_3d12.initialize_image_properties(image_height=120,image_width=120)\n",
    "conv_3d12.initialize_hyperparams(frames_to_sample=16,batch_size=20,num_epochs=30)\n",
    "conv_3d12_model=conv_3d12.define_model(filtersize=(3,3,3),dense_neurons=256,dropout=0.5)\n",
    "conv_3d12_model.summary()"
   ]
  },
  {
   "cell_type": "code",
   "execution_count": null,
   "metadata": {},
   "outputs": [],
   "source": [
    "print(\"Total Params:\", conv_3d12_model.count_params())\n",
    "history_model12=conv_3d12.train_model(conv_3d12_model,augment_data=True)"
   ]
  },
  {
   "cell_type": "code",
   "execution_count": 15,
   "metadata": {},
   "outputs": [
    {
     "data": {
      "image/png": "[encoded data removed]",
      "text/plain": [
       "<Figure size 1080x288 with 2 Axes>"
      ]
     },
     "metadata": {},
     "output_type": "display_data"
    }
   ],
   "source": [
    "plot(history_model12)"
   ]
  },
  {
   "cell_type": "markdown",
   "metadata": {},
   "source": [
    "# Model 13 - Adding dropouts - Similar to Model 5"
   ]
  },
  {
   "cell_type": "code",
   "execution_count": null,
   "metadata": {},
   "outputs": [],
   "source": [
    "class ModelConv3D13(ModelBuilderMoreAugmentation):\n",
    "    \n",
    "    def define_model(self,filtersize=(3,3,3),dense_neurons=64,dropout=0.25):\n",
    "\n",
    "        model = Sequential()\n",
    "        model.add(Conv3D(16, filtersize, padding='same',\n",
    "                 input_shape=(self.frames_to_sample,self.image_height,self.image_width,self.channels)))\n",
    "        model.add(Activation('relu'))\n",
    "        model.add(BatchNormalization())\n",
    "        \n",
    "        model.add(Conv3D(16, filtersize, padding='same',\n",
    "                 input_shape=(self.frames_to_sample,self.image_height,self.image_width,self.channels)))\n",
    "        model.add(Activation('relu'))\n",
    "        model.add(BatchNormalization())\n",
    "        \n",
    "        model.add(MaxPooling3D(pool_size=(2, 2, 2)))\n",
    "        model.add(Dropout(dropout))\n",
    "\n",
    "        model.add(Conv3D(32, filtersize, padding='same'))\n",
    "        model.add(Activation('relu'))\n",
    "        model.add(BatchNormalization())\n",
    "        \n",
    "        model.add(Conv3D(32, filtersize, padding='same'))\n",
    "        model.add(Activation('relu'))\n",
    "        model.add(BatchNormalization())\n",
    "        \n",
    "        model.add(MaxPooling3D(pool_size=(2, 2, 2)))\n",
    "        model.add(Dropout(dropout))\n",
    "\n",
    "        model.add(Conv3D(64, filtersize, padding='same'))\n",
    "        model.add(Activation('relu'))\n",
    "        model.add(BatchNormalization())\n",
    "        \n",
    "        model.add(Conv3D(64, filtersize, padding='same'))\n",
    "        model.add(Activation('relu'))\n",
    "        model.add(BatchNormalization())\n",
    "        \n",
    "        model.add(MaxPooling3D(pool_size=(2, 2, 2)))\n",
    "        model.add(Dropout(dropout))\n",
    "\n",
    "        model.add(Conv3D(128, filtersize, padding='same'))\n",
    "        model.add(Activation('relu'))\n",
    "        model.add(BatchNormalization())\n",
    "        \n",
    "        model.add(Conv3D(128, filtersize, padding='same'))\n",
    "        model.add(Activation('relu'))\n",
    "        model.add(BatchNormalization())\n",
    "        \n",
    "        model.add(MaxPooling3D(pool_size=(2, 2, 2)))\n",
    "        model.add(Dropout(dropout))\n",
    "        \n",
    "        model.add(Flatten())\n",
    "        model.add(Dense(dense_neurons,activation='relu'))\n",
    "        model.add(BatchNormalization())\n",
    "        model.add(Dropout(dropout))\n",
    "\n",
    "        model.add(Dense(dense_neurons,activation='relu'))\n",
    "        model.add(BatchNormalization())\n",
    "        model.add(Dropout(dropout))\n",
    "\n",
    "\n",
    "        model.add(Dense(self.num_classes,activation='softmax'))\n",
    "\n",
    "        optimiser = optimizers.Adam(lr=0.0002)\n",
    "        model.compile(optimizer=optimiser, loss='categorical_crossentropy', metrics=['categorical_accuracy'])\n",
    "        return model"
   ]
  },
  {
   "cell_type": "code",
   "execution_count": null,
   "metadata": {},
   "outputs": [],
   "source": [
    "conv_3d13=ModelConv3D13()\n",
    "conv_3d13.initialize_path(project_folder)\n",
    "conv_3d13.initialize_image_properties(image_height=120,image_width=120)\n",
    "conv_3d13.initialize_hyperparams(frames_to_sample=16,batch_size=20,num_epochs=25)\n",
    "conv_3d13_model=conv_3d13.define_model(filtersize=(3,3,3),dense_neurons=256,dropout=0.25)\n",
    "conv_3d13_model.summary()"
   ]
  },
  {
   "cell_type": "code",
   "execution_count": null,
   "metadata": {},
   "outputs": [],
   "source": [
    "print(\"Total Params:\", conv_3d13_model.count_params())\n",
    "history_model13=conv_3d13.train_model(conv_3d13_model,augment_data=True)"
   ]
  },
  {
   "cell_type": "code",
   "execution_count": 44,
   "metadata": {},
   "outputs": [
    {
     "data": {
      "image/png": "[encoded data removed]",
      "text/plain": [
       "<Figure size 1080x288 with 2 Axes>"
      ]
     },
     "metadata": {},
     "output_type": "display_data"
    }
   ],
   "source": [
    "plot(history_model13)"
   ]
  },
  {
   "cell_type": "markdown",
   "metadata": {},
   "source": [
    "# Model 14 - reducing network parameters - Similar to Model 6"
   ]
  },
  {
   "cell_type": "code",
   "execution_count": null,
   "metadata": {},
   "outputs": [],
   "source": [
    "class ModelConv3D14(ModelBuilderMoreAugmentation):\n",
    "    \n",
    "    def define_model(self,dense_neurons=64,dropout=0.25):\n",
    "\n",
    "        model = Sequential()\n",
    "        model.add(Conv3D(16, (3, 3, 3), padding='same',\n",
    "                 input_shape=(self.frames_to_sample,self.image_height,self.image_width,self.channels)))\n",
    "        model.add(Activation('relu'))\n",
    "        model.add(BatchNormalization())\n",
    "        model.add(MaxPooling3D(pool_size=(2, 2, 2)))\n",
    "\n",
    "        model.add(Conv3D(32, (2, 2, 2), padding='same'))\n",
    "        model.add(Activation('relu'))\n",
    "        model.add(BatchNormalization())\n",
    "        model.add(MaxPooling3D(pool_size=(2, 2, 2)))\n",
    "\n",
    "        model.add(Conv3D(64, (2, 2, 2), padding='same'))\n",
    "        model.add(Activation('relu'))\n",
    "        model.add(BatchNormalization())\n",
    "        model.add(MaxPooling3D(pool_size=(2, 2, 2)))\n",
    "\n",
    "        model.add(Conv3D(128, (2, 2, 2), padding='same'))\n",
    "        model.add(Activation('relu'))\n",
    "        model.add(BatchNormalization())\n",
    "        model.add(MaxPooling3D(pool_size=(2, 2, 2)))\n",
    "        \n",
    "        model.add(Flatten())\n",
    "        model.add(Dense(dense_neurons,activation='relu'))\n",
    "        model.add(BatchNormalization())\n",
    "        model.add(Dropout(dropout))\n",
    "\n",
    "        model.add(Dense(dense_neurons,activation='relu'))\n",
    "        model.add(BatchNormalization())\n",
    "        model.add(Dropout(dropout))\n",
    "\n",
    "        model.add(Dense(self.num_classes,activation='softmax'))\n",
    "\n",
    "        optimiser = optimizers.Adam(lr=0.0002)\n",
    "        model.compile(optimizer=optimiser, loss='categorical_crossentropy', metrics=['categorical_accuracy'])\n",
    "        return model"
   ]
  },
  {
   "cell_type": "code",
   "execution_count": 46,
   "metadata": {},
   "outputs": [
    {
     "name": "stdout",
     "output_type": "stream",
     "text": [
      "_________________________________________________________________\n",
      "Layer (type)                 Output Shape              Param #   \n",
      "=================================================================\n",
      "conv3d_73 (Conv3D)           (None, 16, 100, 100, 16)  1312      \n",
      "_________________________________________________________________\n",
      "activation_73 (Activation)   (None, 16, 100, 100, 16)  0         \n",
      "_________________________________________________________________\n",
      "batch_normalization_107 (Bat (None, 16, 100, 100, 16)  64        \n",
      "_________________________________________________________________\n",
      "max_pooling3d_69 (MaxPooling (None, 8, 50, 50, 16)     0         \n",
      "_________________________________________________________________\n",
      "conv3d_74 (Conv3D)           (None, 8, 50, 50, 32)     4128      \n",
      "_________________________________________________________________\n",
      "activation_74 (Activation)   (None, 8, 50, 50, 32)     0         \n",
      "_________________________________________________________________\n",
      "batch_normalization_108 (Bat (None, 8, 50, 50, 32)     128       \n",
      "_________________________________________________________________\n",
      "max_pooling3d_70 (MaxPooling (None, 4, 25, 25, 32)     0         \n",
      "_________________________________________________________________\n",
      "conv3d_75 (Conv3D)           (None, 4, 25, 25, 64)     16448     \n",
      "_________________________________________________________________\n",
      "activation_75 (Activation)   (None, 4, 25, 25, 64)     0         \n",
      "_________________________________________________________________\n",
      "batch_normalization_109 (Bat (None, 4, 25, 25, 64)     256       \n",
      "_________________________________________________________________\n",
      "max_pooling3d_71 (MaxPooling (None, 2, 12, 12, 64)     0         \n",
      "_________________________________________________________________\n",
      "conv3d_76 (Conv3D)           (None, 2, 12, 12, 128)    65664     \n",
      "_________________________________________________________________\n",
      "activation_76 (Activation)   (None, 2, 12, 12, 128)    0         \n",
      "_________________________________________________________________\n",
      "batch_normalization_110 (Bat (None, 2, 12, 12, 128)    512       \n",
      "_________________________________________________________________\n",
      "max_pooling3d_72 (MaxPooling (None, 1, 6, 6, 128)      0         \n",
      "_________________________________________________________________\n",
      "flatten_18 (Flatten)         (None, 4608)              0         \n",
      "_________________________________________________________________\n",
      "dense_52 (Dense)             (None, 128)               589952    \n",
      "_________________________________________________________________\n",
      "batch_normalization_111 (Bat (None, 128)               512       \n",
      "_________________________________________________________________\n",
      "dropout_39 (Dropout)         (None, 128)               0         \n",
      "_________________________________________________________________\n",
      "dense_53 (Dense)             (None, 128)               16512     \n",
      "_________________________________________________________________\n",
      "batch_normalization_112 (Bat (None, 128)               512       \n",
      "_________________________________________________________________\n",
      "dropout_40 (Dropout)         (None, 128)               0         \n",
      "_________________________________________________________________\n",
      "dense_54 (Dense)             (None, 5)                 645       \n",
      "=================================================================\n",
      "Total params: 696,645\n",
      "Trainable params: 695,653\n",
      "Non-trainable params: 992\n",
      "_________________________________________________________________\n"
     ]
    }
   ],
   "source": [
    "conv_3d14=ModelConv3D14()\n",
    "conv_3d14.initialize_path(project_folder)\n",
    "conv_3d14.initialize_image_properties(image_height=100,image_width=100)\n",
    "conv_3d14.initialize_hyperparams(frames_to_sample=16,batch_size=20,num_epochs=30)\n",
    "conv_3d14_model=conv_3d14.define_model(dense_neurons=128,dropout=0.25)\n",
    "conv_3d14_model.summary()"
   ]
  },
  {
   "cell_type": "code",
   "execution_count": null,
   "metadata": {},
   "outputs": [],
   "source": [
    "print(\"Total Params:\", conv_3d14_model.count_params())\n",
    "history_model14=conv_3d14.train_model(conv_3d14_model,augment_data=True)"
   ]
  },
  {
   "cell_type": "code",
   "execution_count": 48,
   "metadata": {},
   "outputs": [
    {
     "data": {
      "image/png": "[encoded data removed]",
      "text/plain": [
       "<Figure size 1080x288 with 2 Axes>"
      ]
     },
     "metadata": {},
     "output_type": "display_data"
    }
   ],
   "source": [
    "plot(history_model14)"
   ]
  },
  {
   "cell_type": "markdown",
   "metadata": {},
   "source": [
    "# Model 15 - reducing network parameters - Similar to model 7"
   ]
  },
  {
   "cell_type": "code",
   "execution_count": null,
   "metadata": {},
   "outputs": [],
   "source": [
    "class ModelConv3D15(ModelBuilderMoreAugmentation):\n",
    "    \n",
    "    def define_model(self,dense_neurons=64,dropout=0.25):\n",
    "\n",
    "        model = Sequential()\n",
    "        model.add(Conv3D(16, (3, 3, 3), padding='same',\n",
    "                 input_shape=(self.frames_to_sample,self.image_height,self.image_width,self.channels)))\n",
    "        model.add(Activation('relu'))\n",
    "        model.add(BatchNormalization())\n",
    "        model.add(MaxPooling3D(pool_size=(2, 2, 2)))\n",
    "\n",
    "        model.add(Conv3D(32, (3, 3, 3), padding='same'))\n",
    "        model.add(Activation('relu'))\n",
    "        model.add(BatchNormalization())\n",
    "        model.add(MaxPooling3D(pool_size=(2, 2, 2)))\n",
    "\n",
    "        model.add(Conv3D(64, (2, 2, 2), padding='same'))\n",
    "        model.add(Activation('relu'))\n",
    "        model.add(BatchNormalization())\n",
    "        model.add(MaxPooling3D(pool_size=(2, 2, 2)))\n",
    "\n",
    "        model.add(Conv3D(128, (2, 2, 2), padding='same'))\n",
    "        model.add(Activation('relu'))\n",
    "        model.add(BatchNormalization())\n",
    "        model.add(MaxPooling3D(pool_size=(2, 2, 2)))\n",
    "        \n",
    "        model.add(Flatten())\n",
    "        model.add(Dense(dense_neurons,activation='relu'))\n",
    "        model.add(BatchNormalization())\n",
    "        model.add(Dropout(dropout))\n",
    "\n",
    "        model.add(Dense(dense_neurons,activation='relu'))\n",
    "        model.add(BatchNormalization())\n",
    "        model.add(Dropout(dropout))\n",
    "\n",
    "        model.add(Dense(self.num_classes,activation='softmax'))\n",
    "\n",
    "        optimiser = optimizers.Adam(lr=0.0002)\n",
    "        model.compile(optimizer=optimiser, loss='categorical_crossentropy', metrics=['categorical_accuracy'])\n",
    "        return model"
   ]
  },
  {
   "cell_type": "code",
   "execution_count": null,
   "metadata": {},
   "outputs": [],
   "source": [
    "conv_3d15=ModelConv3D15()\n",
    "conv_3d15.initialize_path(project_folder)\n",
    "conv_3d15.initialize_image_properties(image_height=120,image_width=120)\n",
    "conv_3d15.initialize_hyperparams(frames_to_sample=16,batch_size=20,num_epochs=25)\n",
    "conv_3d15_model=conv_3d15.define_model(dense_neurons=64,dropout=0.25)\n",
    "conv_3d15_model.summary()"
   ]
  },
  {
   "cell_type": "code",
   "execution_count": null,
   "metadata": {},
   "outputs": [],
   "source": [
    "print(\"Total Params:\", conv_3d15_model.count_params())\n",
    "history_model15=conv_3d15.train_model(conv_3d15_model,augment_data=True)"
   ]
  },
  {
   "cell_type": "code",
   "execution_count": 53,
   "metadata": {},
   "outputs": [
    {
     "data": {
      "image/png": "[encoded data removed]",
      "text/plain": [
       "<Figure size 1080x288 with 2 Axes>"
      ]
     },
     "metadata": {},
     "output_type": "display_data"
    }
   ],
   "source": [
    "plot(history_model15)"
   ]
  },
  {
   "cell_type": "markdown",
   "metadata": {},
   "source": [
    "# Model 16 - reducing network parameters - Similar to Model 8"
   ]
  },
  {
   "cell_type": "code",
   "execution_count": 32,
   "metadata": {},
   "outputs": [],
   "source": [
    "class ModelConv3D16(ModelBuilderMoreAugmentation):\n",
    "    \n",
    "    def define_model(self,dense_neurons=64,dropout=0.25):\n",
    "\n",
    "        model = Sequential()\n",
    "        model.add(Conv3D(8, (3, 3, 3), padding='same',\n",
    "                 input_shape=(self.frames_to_sample,self.image_height,self.image_width,self.channels)))\n",
    "        model.add(Activation('relu'))\n",
    "        model.add(BatchNormalization())\n",
    "        model.add(MaxPooling3D(pool_size=(2, 2, 2)))\n",
    "\n",
    "        model.add(Conv3D(16, (3, 3, 3), padding='same'))\n",
    "        model.add(Activation('relu'))\n",
    "        model.add(BatchNormalization())\n",
    "        model.add(MaxPooling3D(pool_size=(2, 2, 2)))\n",
    "\n",
    "        model.add(Conv3D(32, (2, 2, 2), padding='same'))\n",
    "        model.add(Activation('relu'))\n",
    "        model.add(BatchNormalization())\n",
    "        model.add(MaxPooling3D(pool_size=(2, 2, 2)))\n",
    "\n",
    "        model.add(Conv3D(64, (2, 2, 2), padding='same'))\n",
    "        model.add(Activation('relu'))\n",
    "        model.add(BatchNormalization())\n",
    "        model.add(MaxPooling3D(pool_size=(2, 2, 2)))\n",
    "        \n",
    "        model.add(Flatten())\n",
    "        model.add(Dense(dense_neurons,activation='relu'))\n",
    "        model.add(BatchNormalization())\n",
    "        model.add(Dropout(dropout))\n",
    "\n",
    "        model.add(Dense(dense_neurons,activation='relu'))\n",
    "        model.add(BatchNormalization())\n",
    "        model.add(Dropout(dropout))\n",
    "\n",
    "        model.add(Dense(self.num_classes,activation='softmax'))\n",
    "\n",
    "        optimiser = optimizers.Adam(lr=0.0002)\n",
    "        model.compile(optimizer=optimiser, loss='categorical_crossentropy', metrics=['categorical_accuracy'])\n",
    "        return model"
   ]
  },
  {
   "cell_type": "code",
   "execution_count": 33,
   "metadata": {},
   "outputs": [
    {
     "name": "stdout",
     "output_type": "stream",
     "text": [
      "_________________________________________________________________\n",
      "Layer (type)                 Output Shape              Param #   \n",
      "=================================================================\n",
      "conv3d_29 (Conv3D)           (None, 16, 120, 120, 8)   656       \n",
      "_________________________________________________________________\n",
      "activation_29 (Activation)   (None, 16, 120, 120, 8)   0         \n",
      "_________________________________________________________________\n",
      "batch_normalization_48 (Batc (None, 16, 120, 120, 8)   32        \n",
      "_________________________________________________________________\n",
      "max_pooling3d_29 (MaxPooling (None, 8, 60, 60, 8)      0         \n",
      "_________________________________________________________________\n",
      "conv3d_30 (Conv3D)           (None, 8, 60, 60, 16)     3472      \n",
      "_________________________________________________________________\n",
      "activation_30 (Activation)   (None, 8, 60, 60, 16)     0         \n",
      "_________________________________________________________________\n",
      "batch_normalization_49 (Batc (None, 8, 60, 60, 16)     64        \n",
      "_________________________________________________________________\n",
      "max_pooling3d_30 (MaxPooling (None, 4, 30, 30, 16)     0         \n",
      "_________________________________________________________________\n",
      "conv3d_31 (Conv3D)           (None, 4, 30, 30, 32)     4128      \n",
      "_________________________________________________________________\n",
      "activation_31 (Activation)   (None, 4, 30, 30, 32)     0         \n",
      "_________________________________________________________________\n",
      "batch_normalization_50 (Batc (None, 4, 30, 30, 32)     128       \n",
      "_________________________________________________________________\n",
      "max_pooling3d_31 (MaxPooling (None, 2, 15, 15, 32)     0         \n",
      "_________________________________________________________________\n",
      "conv3d_32 (Conv3D)           (None, 2, 15, 15, 64)     16448     \n",
      "_________________________________________________________________\n",
      "activation_32 (Activation)   (None, 2, 15, 15, 64)     0         \n",
      "_________________________________________________________________\n",
      "batch_normalization_51 (Batc (None, 2, 15, 15, 64)     256       \n",
      "_________________________________________________________________\n",
      "max_pooling3d_32 (MaxPooling (None, 1, 7, 7, 64)       0         \n",
      "_________________________________________________________________\n",
      "flatten_9 (Flatten)          (None, 3136)              0         \n",
      "_________________________________________________________________\n",
      "dense_24 (Dense)             (None, 64)                200768    \n",
      "_________________________________________________________________\n",
      "batch_normalization_52 (Batc (None, 64)                256       \n",
      "_________________________________________________________________\n",
      "dropout_17 (Dropout)         (None, 64)                0         \n",
      "_________________________________________________________________\n",
      "dense_25 (Dense)             (None, 64)                4160      \n",
      "_________________________________________________________________\n",
      "batch_normalization_53 (Batc (None, 64)                256       \n",
      "_________________________________________________________________\n",
      "dropout_18 (Dropout)         (None, 64)                0         \n",
      "_________________________________________________________________\n",
      "dense_26 (Dense)             (None, 5)                 325       \n",
      "=================================================================\n",
      "Total params: 230,949\n",
      "Trainable params: 230,453\n",
      "Non-trainable params: 496\n",
      "_________________________________________________________________\n"
     ]
    }
   ],
   "source": [
    "conv_3d16=ModelConv3D16()\n",
    "conv_3d16.initialize_path(project_folder)\n",
    "conv_3d16.initialize_image_properties(image_height=120,image_width=120)\n",
    "conv_3d16.initialize_hyperparams(frames_to_sample=16,batch_size=20,num_epochs=30)\n",
    "conv_3d16_model=conv_3d16.define_model(dense_neurons=64,dropout=0.25)\n",
    "conv_3d16_model.summary()"
   ]
  },
  {
   "cell_type": "code",
   "execution_count": null,
   "metadata": {},
   "outputs": [
    {
     "name": "stdout",
     "output_type": "stream",
     "text": [
      "Total Params: 230949\n",
      "Epoch 1/30\n",
      "34/34 [==============================] - 95s 3s/step - loss: 2.1196 - categorical_accuracy: 0.2546 - val_loss: 1.5233 - val_categorical_accuracy: 0.3600\n",
      "\n",
      "Epoch 00001: saving model to model_init_2020-06-2814_15_54.027004/model-00001-2.12388-0.26094-1.52334-0.36000.h5\n",
      "Epoch 2/30\n",
      "34/34 [==============================] - 85s 3s/step - loss: 1.6238 - categorical_accuracy: 0.3911 - val_loss: 1.3446 - val_categorical_accuracy: 0.4800\n",
      "\n",
      "Epoch 00002: saving model to model_init_2020-06-2814_15_54.027004/model-00002-1.62066-0.39668-1.34462-0.48000.h5\n",
      "Epoch 3/30\n",
      "34/34 [==============================] - 90s 3s/step - loss: 1.3551 - categorical_accuracy: 0.4787 - val_loss: 1.1946 - val_categorical_accuracy: 0.5500\n",
      "\n",
      "Epoch 00003: saving model to model_init_2020-06-2814_15_54.027004/model-00003-1.35901-0.47813-1.19464-0.55000.h5\n",
      "Epoch 4/30\n",
      "34/34 [==============================] - 91s 3s/step - loss: 1.2762 - categorical_accuracy: 0.4974 - val_loss: 1.2090 - val_categorical_accuracy: 0.5500\n",
      "\n",
      "Epoch 00004: saving model to model_init_2020-06-2814_15_54.027004/model-00004-1.26985-0.50151-1.20905-0.55000.h5\n",
      "Epoch 5/30\n",
      "34/34 [==============================] - 91s 3s/step - loss: 1.1674 - categorical_accuracy: 0.5522 - val_loss: 1.0230 - val_categorical_accuracy: 0.6200\n",
      "\n",
      "Epoch 00005: saving model to model_init_2020-06-2814_15_54.027004/model-00005-1.18750-0.54525-1.02298-0.62000.h5\n",
      "Epoch 6/30\n",
      "34/34 [==============================] - 91s 3s/step - loss: 1.1241 - categorical_accuracy: 0.5780 - val_loss: 0.9994 - val_categorical_accuracy: 0.6100\n",
      "\n",
      "Epoch 00006: saving model to model_init_2020-06-2814_15_54.027004/model-00006-1.11027-0.57994-0.99936-0.61000.h5\n",
      "Epoch 7/30\n",
      "34/34 [==============================] - 91s 3s/step - loss: 1.0367 - categorical_accuracy: 0.6041 - val_loss: 1.0110 - val_categorical_accuracy: 0.6300\n",
      "\n",
      "Epoch 00007: saving model to model_init_2020-06-2814_15_54.027004/model-00007-1.02202-0.61086-1.01097-0.63000.h5\n",
      "Epoch 8/30\n",
      "34/34 [==============================] - 90s 3s/step - loss: 1.0354 - categorical_accuracy: 0.5968 - val_loss: 1.0559 - val_categorical_accuracy: 0.6000\n",
      "\n",
      "Epoch 00008: saving model to model_init_2020-06-2814_15_54.027004/model-00008-1.02565-0.60332-1.05593-0.60000.h5\n",
      "Epoch 9/30\n",
      "34/34 [==============================] - 90s 3s/step - loss: 0.9170 - categorical_accuracy: 0.6549 - val_loss: 1.0153 - val_categorical_accuracy: 0.5900\n",
      "\n",
      "Epoch 00009: saving model to model_init_2020-06-2814_15_54.027004/model-00009-0.91407-0.65460-1.01535-0.59000.h5\n",
      "Epoch 10/30\n",
      "34/34 [==============================] - 91s 3s/step - loss: 0.9132 - categorical_accuracy: 0.6472 - val_loss: 0.9727 - val_categorical_accuracy: 0.5900\n",
      "\n",
      "Epoch 00010: saving model to model_init_2020-06-2814_15_54.027004/model-00010-0.89114-0.65083-0.97272-0.59000.h5\n",
      "Epoch 11/30\n",
      "34/34 [==============================] - 91s 3s/step - loss: 0.8518 - categorical_accuracy: 0.6681 - val_loss: 0.9709 - val_categorical_accuracy: 0.6200\n",
      "\n",
      "Epoch 00011: saving model to model_init_2020-06-2814_15_54.027004/model-00011-0.83001-0.67647-0.97089-0.62000.h5\n",
      "Epoch 12/30\n",
      "34/34 [==============================] - 91s 3s/step - loss: 0.8304 - categorical_accuracy: 0.6766 - val_loss: 0.9674 - val_categorical_accuracy: 0.6600\n",
      "\n",
      "Epoch 00012: saving model to model_init_2020-06-2814_15_54.027004/model-00012-0.82020-0.68100-0.96744-0.66000.h5\n",
      "Epoch 13/30\n",
      "34/34 [==============================] - 90s 3s/step - loss: 0.8208 - categorical_accuracy: 0.7082 - val_loss: 0.9325 - val_categorical_accuracy: 0.6200\n",
      "\n",
      "Epoch 00013: saving model to model_init_2020-06-2814_15_54.027004/model-00013-0.78852-0.71342-0.93253-0.62000.h5\n",
      "Epoch 14/30\n",
      "34/34 [==============================] - 90s 3s/step - loss: 0.7456 - categorical_accuracy: 0.7252 - val_loss: 0.9026 - val_categorical_accuracy: 0.6600\n",
      "\n",
      "Epoch 00014: saving model to model_init_2020-06-2814_15_54.027004/model-00014-0.73425-0.73077-0.90262-0.66000.h5\n",
      "Epoch 15/30\n",
      "20/34 [================>.............] - ETA: 37s - loss: 0.7166 - categorical_accuracy: 0.7175"
     ]
    }
   ],
   "source": [
    "print(\"Total Params:\", conv_3d16_model.count_params())\n",
    "history_model16=conv_3d16.train_model(conv_3d16_model,augment_data=True)"
   ]
  },
  {
   "cell_type": "code",
   "execution_count": null,
   "metadata": {},
   "outputs": [],
   "source": [
    "plot(history_model16)"
   ]
  },
  {
   "cell_type": "markdown",
   "metadata": {},
   "source": [
    "# Model 17 - CNN LSTM with GRU - Similar to Model 9"
   ]
  },
  {
   "cell_type": "code",
   "execution_count": 18,
   "metadata": {},
   "outputs": [],
   "source": [
    "class RNNCNN2(ModelBuilderMoreAugmentation):\n",
    "    \n",
    "    def define_model(self,lstm_cells=64,dense_neurons=64,dropout=0.25):\n",
    "\n",
    "        model = Sequential()\n",
    "\n",
    "        model.add(TimeDistributed(Conv2D(16, (3, 3) , padding='same', activation='relu'),\n",
    "                                  input_shape=(self.frames_to_sample,self.image_height,self.image_width,self.channels)))\n",
    "        model.add(TimeDistributed(BatchNormalization()))\n",
    "        model.add(TimeDistributed(MaxPooling2D((2, 2))))\n",
    "        \n",
    "        model.add(TimeDistributed(Conv2D(32, (3, 3) , padding='same', activation='relu')))\n",
    "        model.add(TimeDistributed(BatchNormalization()))\n",
    "        model.add(TimeDistributed(MaxPooling2D((2, 2))))\n",
    "        \n",
    "        model.add(TimeDistributed(Conv2D(64, (3, 3) , padding='same', activation='relu')))\n",
    "        model.add(TimeDistributed(BatchNormalization()))\n",
    "        model.add(TimeDistributed(MaxPooling2D((2, 2))))\n",
    "        \n",
    "        model.add(TimeDistributed(Conv2D(128, (3, 3) , padding='same', activation='relu')))\n",
    "        model.add(TimeDistributed(BatchNormalization()))\n",
    "        model.add(TimeDistributed(MaxPooling2D((2, 2))))\n",
    "        \n",
    "\n",
    "        model.add(TimeDistributed(Flatten()))\n",
    "\n",
    "\n",
    "        model.add(GRU(lstm_cells))\n",
    "        model.add(Dropout(dropout))\n",
    "        \n",
    "        model.add(Dense(dense_neurons,activation='relu'))\n",
    "        model.add(Dropout(dropout))\n",
    "        \n",
    "        model.add(Dense(self.num_classes, activation='softmax'))\n",
    "        optimiser = optimizers.Adam(lr=0.0002)\n",
    "        model.compile(optimizer=optimiser, loss='categorical_crossentropy', metrics=['categorical_accuracy'])\n",
    "        return model"
   ]
  },
  {
   "cell_type": "code",
   "execution_count": 19,
   "metadata": {},
   "outputs": [
    {
     "name": "stdout",
     "output_type": "stream",
     "text": [
      "_________________________________________________________________\n",
      "Layer (type)                 Output Shape              Param #   \n",
      "=================================================================\n",
      "time_distributed_14 (TimeDis (None, 18, 120, 120, 16)  448       \n",
      "_________________________________________________________________\n",
      "time_distributed_15 (TimeDis (None, 18, 120, 120, 16)  64        \n",
      "_________________________________________________________________\n",
      "time_distributed_16 (TimeDis (None, 18, 60, 60, 16)    0         \n",
      "_________________________________________________________________\n",
      "time_distributed_17 (TimeDis (None, 18, 60, 60, 32)    4640      \n",
      "_________________________________________________________________\n",
      "time_distributed_18 (TimeDis (None, 18, 60, 60, 32)    128       \n",
      "_________________________________________________________________\n",
      "time_distributed_19 (TimeDis (None, 18, 30, 30, 32)    0         \n",
      "_________________________________________________________________\n",
      "time_distributed_20 (TimeDis (None, 18, 30, 30, 64)    18496     \n",
      "_________________________________________________________________\n",
      "time_distributed_21 (TimeDis (None, 18, 30, 30, 64)    256       \n",
      "_________________________________________________________________\n",
      "time_distributed_22 (TimeDis (None, 18, 15, 15, 64)    0         \n",
      "_________________________________________________________________\n",
      "time_distributed_23 (TimeDis (None, 18, 15, 15, 128)   73856     \n",
      "_________________________________________________________________\n",
      "time_distributed_24 (TimeDis (None, 18, 15, 15, 128)   512       \n",
      "_________________________________________________________________\n",
      "time_distributed_25 (TimeDis (None, 18, 7, 7, 128)     0         \n",
      "_________________________________________________________________\n",
      "time_distributed_26 (TimeDis (None, 18, 6272)          0         \n",
      "_________________________________________________________________\n",
      "gru_2 (GRU)                  (None, 128)               2457984   \n",
      "_________________________________________________________________\n",
      "dropout_3 (Dropout)          (None, 128)               0         \n",
      "_________________________________________________________________\n",
      "dense_3 (Dense)              (None, 128)               16512     \n",
      "_________________________________________________________________\n",
      "dropout_4 (Dropout)          (None, 128)               0         \n",
      "_________________________________________________________________\n",
      "dense_4 (Dense)              (None, 5)                 645       \n",
      "=================================================================\n",
      "Total params: 2,573,541\n",
      "Trainable params: 2,573,061\n",
      "Non-trainable params: 480\n",
      "_________________________________________________________________\n"
     ]
    }
   ],
   "source": [
    "rnn_cnn2=RNNCNN2()\n",
    "rnn_cnn2.initialize_path(project_folder)\n",
    "rnn_cnn2.initialize_image_properties(image_height=120,image_width=120)\n",
    "rnn_cnn2.initialize_hyperparams(frames_to_sample=18,batch_size=20,num_epochs=20)\n",
    "rnn_cnn2_model=rnn_cnn2.define_model(lstm_cells=128,dense_neurons=128,dropout=0.25)\n",
    "rnn_cnn2_model.summary()"
   ]
  },
  {
   "cell_type": "code",
   "execution_count": 20,
   "metadata": {},
   "outputs": [
    {
     "name": "stdout",
     "output_type": "stream",
     "text": [
      "Total Params: 2573541\n",
      "Epoch 1/20\n",
      "34/34 [==============================] - 106s 3s/step - loss: 1.4769 - categorical_accuracy: 0.3550 - val_loss: 1.0626 - val_categorical_accuracy: 0.5700\n",
      "\n",
      "Epoch 00001: saving model to model_init_2020-06-2917_24_13.411851/model-00001-1.47812-0.35143-1.06259-0.57000.h5\n",
      "Epoch 2/20\n",
      "34/34 [==============================] - 101s 3s/step - loss: 1.0949 - categorical_accuracy: 0.5500 - val_loss: 0.9619 - val_categorical_accuracy: 0.6300\n",
      "\n",
      "Epoch 00002: saving model to model_init_2020-06-2917_24_13.411851/model-00002-1.08821-0.55128-0.96188-0.63000.h5\n",
      "Epoch 3/20\n",
      "34/34 [==============================] - 102s 3s/step - loss: 0.8765 - categorical_accuracy: 0.6593 - val_loss: 1.0073 - val_categorical_accuracy: 0.6400\n",
      "\n",
      "Epoch 00003: saving model to model_init_2020-06-2917_24_13.411851/model-00003-0.89057-0.65083-1.00725-0.64000.h5\n",
      "Epoch 4/20\n",
      "34/34 [==============================] - 102s 3s/step - loss: 0.6847 - categorical_accuracy: 0.7469 - val_loss: 0.8452 - val_categorical_accuracy: 0.6800\n",
      "\n",
      "Epoch 00004: saving model to model_init_2020-06-2917_24_13.411851/model-00004-0.69375-0.74057-0.84520-0.68000.h5\n",
      "Epoch 5/20\n",
      "34/34 [==============================] - 101s 3s/step - loss: 0.6215 - categorical_accuracy: 0.7612 - val_loss: 0.7554 - val_categorical_accuracy: 0.6900\n",
      "\n",
      "Epoch 00005: saving model to model_init_2020-06-2917_24_13.411851/model-00005-0.61405-0.76772-0.75541-0.69000.h5\n",
      "Epoch 6/20\n",
      "34/34 [==============================] - 101s 3s/step - loss: 0.4945 - categorical_accuracy: 0.8377 - val_loss: 0.7531 - val_categorical_accuracy: 0.7500\n",
      "\n",
      "Epoch 00006: saving model to model_init_2020-06-2917_24_13.411851/model-00006-0.49712-0.83786-0.75307-0.75000.h5\n",
      "Epoch 7/20\n",
      "34/34 [==============================] - 101s 3s/step - loss: 0.4265 - categorical_accuracy: 0.8609 - val_loss: 0.6988 - val_categorical_accuracy: 0.7600\n",
      "\n",
      "Epoch 00007: saving model to model_init_2020-06-2917_24_13.411851/model-00007-0.41343-0.86576-0.69878-0.76000.h5\n",
      "Epoch 8/20\n",
      "34/34 [==============================] - 102s 3s/step - loss: 0.3571 - categorical_accuracy: 0.8870 - val_loss: 0.7225 - val_categorical_accuracy: 0.7300\n",
      "\n",
      "Epoch 00008: saving model to model_init_2020-06-2917_24_13.411851/model-00008-0.35785-0.88839-0.72255-0.73000.h5\n",
      "Epoch 9/20\n",
      "34/34 [==============================] - 101s 3s/step - loss: 0.2994 - categorical_accuracy: 0.9010 - val_loss: 0.7965 - val_categorical_accuracy: 0.7100\n",
      "\n",
      "Epoch 00009: saving model to model_init_2020-06-2917_24_13.411851/model-00009-0.29917-0.90271-0.79654-0.71000.h5\n",
      "Epoch 10/20\n",
      "34/34 [==============================] - 102s 3s/step - loss: 0.3238 - categorical_accuracy: 0.8823 - val_loss: 0.8202 - val_categorical_accuracy: 0.7100\n",
      "\n",
      "Epoch 00010: saving model to model_init_2020-06-2917_24_13.411851/model-00010-0.31589-0.88763-0.82025-0.71000.h5\n",
      "Epoch 11/20\n",
      "34/34 [==============================] - 102s 3s/step - loss: 0.2124 - categorical_accuracy: 0.9330 - val_loss: 0.7775 - val_categorical_accuracy: 0.7600\n",
      "\n",
      "Epoch 00011: saving model to model_init_2020-06-2917_24_13.411851/model-00011-0.21543-0.93137-0.77747-0.76000.h5\n",
      "\n",
      "Epoch 00011: ReduceLROnPlateau reducing learning rate to 3.9999998989515007e-05.\n",
      "Epoch 12/20\n",
      "34/34 [==============================] - 102s 3s/step - loss: 0.1773 - categorical_accuracy: 0.9496 - val_loss: 0.7125 - val_categorical_accuracy: 0.7900\n",
      "\n",
      "Epoch 00012: saving model to model_init_2020-06-2917_24_13.411851/model-00012-0.17630-0.95249-0.71246-0.79000.h5\n",
      "Epoch 13/20\n",
      "34/34 [==============================] - 102s 3s/step - loss: 0.1370 - categorical_accuracy: 0.9691 - val_loss: 0.7114 - val_categorical_accuracy: 0.7700\n",
      "\n",
      "Epoch 00013: saving model to model_init_2020-06-2917_24_13.411851/model-00013-0.13902-0.96833-0.71141-0.77000.h5\n",
      "Epoch 14/20\n",
      "34/34 [==============================] - 102s 3s/step - loss: 0.1283 - categorical_accuracy: 0.9662 - val_loss: 0.7006 - val_categorical_accuracy: 0.7900\n",
      "\n",
      "Epoch 00014: saving model to model_init_2020-06-2917_24_13.411851/model-00014-0.13006-0.96531-0.70056-0.79000.h5\n",
      "Epoch 15/20\n",
      "34/34 [==============================] - 102s 3s/step - loss: 0.1384 - categorical_accuracy: 0.9691 - val_loss: 0.7021 - val_categorical_accuracy: 0.8000\n",
      "\n",
      "Epoch 00015: saving model to model_init_2020-06-2917_24_13.411851/model-00015-0.13267-0.96833-0.70205-0.80000.h5\n",
      "\n",
      "Epoch 00015: ReduceLROnPlateau reducing learning rate to 7.999999797903002e-06.\n",
      "Epoch 16/20\n",
      "34/34 [==============================] - 101s 3s/step - loss: 0.1302 - categorical_accuracy: 0.9709 - val_loss: 0.6984 - val_categorical_accuracy: 0.8000\n",
      "\n",
      "Epoch 00016: saving model to model_init_2020-06-2917_24_13.411851/model-00016-0.11827-0.97436-0.69836-0.80000.h5\n",
      "Epoch 17/20\n",
      "34/34 [==============================] - 101s 3s/step - loss: 0.1211 - categorical_accuracy: 0.9720 - val_loss: 0.6916 - val_categorical_accuracy: 0.7900\n",
      "\n",
      "Epoch 00017: saving model to model_init_2020-06-2917_24_13.411851/model-00017-0.11878-0.97134-0.69157-0.79000.h5\n",
      "Epoch 18/20\n",
      "34/34 [==============================] - 102s 3s/step - loss: 0.1071 - categorical_accuracy: 0.9765 - val_loss: 0.6922 - val_categorical_accuracy: 0.7900\n",
      "\n",
      "Epoch 00018: saving model to model_init_2020-06-2917_24_13.411851/model-00018-0.10721-0.97587-0.69221-0.79000.h5\n",
      "Epoch 19/20\n",
      "34/34 [==============================] - 102s 3s/step - loss: 0.1103 - categorical_accuracy: 0.9746 - val_loss: 0.6900 - val_categorical_accuracy: 0.7900\n",
      "\n",
      "Epoch 00019: saving model to model_init_2020-06-2917_24_13.411851/model-00019-0.10922-0.97813-0.68998-0.79000.h5\n",
      "Epoch 20/20\n",
      "34/34 [==============================] - 102s 3s/step - loss: 0.0969 - categorical_accuracy: 0.9845 - val_loss: 0.6909 - val_categorical_accuracy: 0.7900\n",
      "\n",
      "Epoch 00020: saving model to model_init_2020-06-2917_24_13.411851/model-00020-0.09758-0.98416-0.69093-0.79000.h5\n"
     ]
    }
   ],
   "source": [
    "print(\"Total Params:\", rnn_cnn2_model.count_params())\n",
    "history_model17=rnn_cnn2.train_model(rnn_cnn2_model,augment_data=True)"
   ]
  },
  {
   "cell_type": "code",
   "execution_count": 21,
   "metadata": {},
   "outputs": [
    {
     "data": {
      "image/png": "[encoded data removed]",
      "text/plain": [
       "<Figure size 1080x288 with 2 Axes>"
      ]
     },
     "metadata": {},
     "output_type": "display_data"
    }
   ],
   "source": [
    "plot(history_model17)"
   ]
  },
  {
   "cell_type": "markdown",
   "metadata": {
    "collapsed": true
   },
   "source": [
    "### We see that overfitting is considerably less when we do more augmentation. However there is not much improvement on accuracy"
   ]
  },
  {
   "cell_type": "markdown",
   "metadata": {
    "collapsed": true
   },
   "source": [
    "# Model 18 - Transfer Learning"
   ]
  },
  {
   "cell_type": "code",
   "execution_count": 17,
   "metadata": {},
   "outputs": [],
   "source": [
    "from keras.applications import mobilenet"
   ]
  },
  {
   "cell_type": "code",
   "execution_count": 21,
   "metadata": {},
   "outputs": [],
   "source": [
    "mobilenet_transfer = mobilenet.MobileNet(weights='imagenet', include_top=False)\n",
    "\n",
    "class RNNCNN_TL(ModelBuilderMoreAugmentation):\n",
    "    \n",
    "    def define_model(self,lstm_cells=64,dense_neurons=64,dropout=0.25):\n",
    "        \n",
    "        model = Sequential()\n",
    "        model.add(TimeDistributed(mobilenet_transfer,input_shape=(self.frames_to_sample,self.image_height,self.image_width,self.channels)))\n",
    "        \n",
    "        \n",
    "        for layer in model.layers:\n",
    "            layer.trainable = False\n",
    "        \n",
    "        \n",
    "        model.add(TimeDistributed(BatchNormalization()))\n",
    "        model.add(TimeDistributed(MaxPooling2D((2, 2))))\n",
    "        model.add(TimeDistributed(Flatten()))\n",
    "\n",
    "        model.add(LSTM(lstm_cells))\n",
    "        model.add(Dropout(dropout))\n",
    "        \n",
    "        model.add(Dense(dense_neurons,activation='relu'))\n",
    "        model.add(Dropout(dropout))\n",
    "        \n",
    "        model.add(Dense(self.num_classes, activation='softmax'))\n",
    "        \n",
    "        \n",
    "        optimiser = optimizers.Adam()\n",
    "        model.compile(optimizer=optimiser, loss='categorical_crossentropy', metrics=['categorical_accuracy'])\n",
    "        return model"
   ]
  },
  {
   "cell_type": "code",
   "execution_count": 22,
   "metadata": {},
   "outputs": [
    {
     "name": "stdout",
     "output_type": "stream",
     "text": [
      "_________________________________________________________________\n",
      "Layer (type)                 Output Shape              Param #   \n",
      "=================================================================\n",
      "time_distributed_5 (TimeDist (None, 16, 3, 3, 1024)    3228864   \n",
      "_________________________________________________________________\n",
      "time_distributed_6 (TimeDist (None, 16, 3, 3, 1024)    4096      \n",
      "_________________________________________________________________\n",
      "time_distributed_7 (TimeDist (None, 16, 1, 1, 1024)    0         \n",
      "_________________________________________________________________\n",
      "time_distributed_8 (TimeDist (None, 16, 1024)          0         \n",
      "_________________________________________________________________\n",
      "lstm_1 (LSTM)                (None, 128)               590336    \n",
      "_________________________________________________________________\n",
      "dropout_7 (Dropout)          (None, 128)               0         \n",
      "_________________________________________________________________\n",
      "dense_9 (Dense)              (None, 128)               16512     \n",
      "_________________________________________________________________\n",
      "dropout_8 (Dropout)          (None, 128)               0         \n",
      "_________________________________________________________________\n",
      "dense_10 (Dense)             (None, 5)                 645       \n",
      "=================================================================\n",
      "Total params: 3,840,453\n",
      "Trainable params: 609,541\n",
      "Non-trainable params: 3,230,912\n",
      "_________________________________________________________________\n"
     ]
    }
   ],
   "source": [
    "rnn_cnn_tl=RNNCNN_TL()\n",
    "rnn_cnn_tl.initialize_path(project_folder)\n",
    "rnn_cnn_tl.initialize_image_properties(image_height=120,image_width=120)\n",
    "rnn_cnn_tl.initialize_hyperparams(frames_to_sample=16,batch_size=5,num_epochs=20)\n",
    "rnn_cnn_tl_model=rnn_cnn_tl.define_model(lstm_cells=128,dense_neurons=128,dropout=0.25)\n",
    "rnn_cnn_tl_model.summary()"
   ]
  },
  {
   "cell_type": "code",
   "execution_count": null,
   "metadata": {},
   "outputs": [
    {
     "name": "stdout",
     "output_type": "stream",
     "text": [
      "Total Params: 3840453\n",
      "Epoch 1/20\n",
      "133/133 [==============================] - 94s 709ms/step - loss: 1.4609 - categorical_accuracy: 0.3569 - val_loss: 1.4939 - val_categorical_accuracy: 0.3500\n",
      "\n",
      "Epoch 00001: saving model to model_init_2020-06-2906_36_43.668259/model-00001-1.46220-0.35596-1.49393-0.35000.h5\n",
      "Epoch 2/20\n",
      "133/133 [==============================] - 86s 647ms/step - loss: 1.2337 - categorical_accuracy: 0.4837 - val_loss: 1.2254 - val_categorical_accuracy: 0.4700\n",
      "\n",
      "Epoch 00002: saving model to model_init_2020-06-2906_36_43.668259/model-00002-1.23525-0.48265-1.22542-0.47000.h5\n",
      "Epoch 3/20\n",
      "133/133 [==============================] - 89s 667ms/step - loss: 1.0476 - categorical_accuracy: 0.5902 - val_loss: 1.2570 - val_categorical_accuracy: 0.5100\n",
      "\n",
      "Epoch 00003: saving model to model_init_2020-06-2906_36_43.668259/model-00003-1.04786-0.59050-1.25701-0.51000.h5\n",
      "Epoch 4/20\n",
      " 81/133 [=================>............] - ETA: 32s - loss: 0.8739 - categorical_accuracy: 0.6593"
     ]
    }
   ],
   "source": [
    "print(\"Total Params:\", rnn_cnn_tl_model.count_params())\n",
    "history_model18=rnn_cnn_tl.train_model(rnn_cnn_tl_model,augment_data=True)"
   ]
  },
  {
   "cell_type": "code",
   "execution_count": null,
   "metadata": {},
   "outputs": [],
   "source": [
    "plot(history_model18)"
   ]
  },
  {
   "cell_type": "markdown",
   "metadata": {
    "collapsed": true
   },
   "source": [
    "##### We are not training the mobilenet weights and we see validation accuracy is very poor. Let's train them as well and observe if there is performance improvement"
   ]
  },
  {
   "cell_type": "markdown",
   "metadata": {},
   "source": [
    "# Model 19 - Transfer Learning with GRU and training all weights"
   ]
  },
  {
   "cell_type": "code",
   "execution_count": 18,
   "metadata": {},
   "outputs": [
    {
     "name": "stdout",
     "output_type": "stream",
     "text": [
      "Downloading data from https://github.com/fchollet/deep-learning-models/releases/download/v0.6/mobilenet_1_0_224_tf_no_top.h5\n",
      "17227776/17225924 [==============================] - 2s 0us/step\n"
     ]
    }
   ],
   "source": [
    "from keras.applications import mobilenet\n",
    "\n",
    "mobilenet_transfer = mobilenet.MobileNet(weights='imagenet', include_top=False)\n",
    "\n",
    "class RNNCNN_TL2(ModelBuilderMoreAugmentation):\n",
    "    \n",
    "    def define_model(self,gru_cells=64,dense_neurons=64,dropout=0.25):\n",
    "        \n",
    "        model = Sequential()\n",
    "        model.add(TimeDistributed(mobilenet_transfer,input_shape=(self.frames_to_sample,self.image_height,self.image_width,self.channels)))\n",
    " \n",
    "        \n",
    "        model.add(TimeDistributed(BatchNormalization()))\n",
    "        model.add(TimeDistributed(MaxPooling2D((2, 2))))\n",
    "        model.add(TimeDistributed(Flatten()))\n",
    "\n",
    "        model.add(GRU(gru_cells))\n",
    "        model.add(Dropout(dropout))\n",
    "        \n",
    "        model.add(Dense(dense_neurons,activation='relu'))\n",
    "        model.add(Dropout(dropout))\n",
    "        \n",
    "        model.add(Dense(self.num_classes, activation='softmax'))\n",
    "        \n",
    "        \n",
    "        optimiser = optimizers.Adam()\n",
    "        model.compile(optimizer=optimiser, loss='categorical_crossentropy', metrics=['categorical_accuracy'])\n",
    "        return model"
   ]
  },
  {
   "cell_type": "code",
   "execution_count": 19,
   "metadata": {},
   "outputs": [
    {
     "name": "stdout",
     "output_type": "stream",
     "text": [
      "_________________________________________________________________\n",
      "Layer (type)                 Output Shape              Param #   \n",
      "=================================================================\n",
      "time_distributed_1 (TimeDist (None, 16, 3, 3, 1024)    3228864   \n",
      "_________________________________________________________________\n",
      "time_distributed_2 (TimeDist (None, 16, 3, 3, 1024)    4096      \n",
      "_________________________________________________________________\n",
      "time_distributed_3 (TimeDist (None, 16, 1, 1, 1024)    0         \n",
      "_________________________________________________________________\n",
      "time_distributed_4 (TimeDist (None, 16, 1024)          0         \n",
      "_________________________________________________________________\n",
      "gru_1 (GRU)                  (None, 128)               442752    \n",
      "_________________________________________________________________\n",
      "dropout_5 (Dropout)          (None, 128)               0         \n",
      "_________________________________________________________________\n",
      "dense_7 (Dense)              (None, 128)               16512     \n",
      "_________________________________________________________________\n",
      "dropout_6 (Dropout)          (None, 128)               0         \n",
      "_________________________________________________________________\n",
      "dense_8 (Dense)              (None, 5)                 645       \n",
      "=================================================================\n",
      "Total params: 3,692,869\n",
      "Trainable params: 3,668,933\n",
      "Non-trainable params: 23,936\n",
      "_________________________________________________________________\n"
     ]
    }
   ],
   "source": [
    "rnn_cnn_tl2=RNNCNN_TL2()\n",
    "rnn_cnn_tl2.initialize_path(project_folder)\n",
    "rnn_cnn_tl2.initialize_image_properties(image_height=120,image_width=120)\n",
    "rnn_cnn_tl2.initialize_hyperparams(frames_to_sample=16,batch_size=5,num_epochs=20)\n",
    "rnn_cnn_tl2_model=rnn_cnn_tl2.define_model(gru_cells=128,dense_neurons=128,dropout=0.25)\n",
    "rnn_cnn_tl2_model.summary()"
   ]
  },
  {
   "cell_type": "code",
   "execution_count": 20,
   "metadata": {},
   "outputs": [
    {
     "name": "stdout",
     "output_type": "stream",
     "text": [
      "Total Params: 3692869\n",
      "Epoch 1/20\n",
      "133/133 [==============================] - 106s 797ms/step - loss: 1.2125 - categorical_accuracy: 0.5010 - val_loss: 0.9702 - val_categorical_accuracy: 0.6300\n",
      "\n",
      "Epoch 00001: saving model to model_init_2020-06-2914_42_55.698276/model-00001-1.21062-0.50151-0.97022-0.63000.h5\n",
      "Epoch 2/20\n",
      "133/133 [==============================] - 94s 704ms/step - loss: 0.6821 - categorical_accuracy: 0.7404 - val_loss: 0.5230 - val_categorical_accuracy: 0.8100\n",
      "\n",
      "Epoch 00002: saving model to model_init_2020-06-2914_42_55.698276/model-00002-0.68245-0.74057-0.52304-0.81000.h5\n",
      "Epoch 3/20\n",
      "133/133 [==============================] - 96s 721ms/step - loss: 0.5240 - categorical_accuracy: 0.8050 - val_loss: 0.6678 - val_categorical_accuracy: 0.7300\n",
      "\n",
      "Epoch 00003: saving model to model_init_2020-06-2914_42_55.698276/model-00003-0.51880-0.80694-0.66783-0.73000.h5\n",
      "Epoch 4/20\n",
      "133/133 [==============================] - 94s 707ms/step - loss: 0.4615 - categorical_accuracy: 0.8419 - val_loss: 0.7734 - val_categorical_accuracy: 0.7400\n",
      "\n",
      "Epoch 00004: saving model to model_init_2020-06-2914_42_55.698276/model-00004-0.45960-0.84238-0.77345-0.74000.h5\n",
      "Epoch 5/20\n",
      "133/133 [==============================] - 97s 728ms/step - loss: 0.3280 - categorical_accuracy: 0.8865 - val_loss: 0.6402 - val_categorical_accuracy: 0.7800\n",
      "\n",
      "Epoch 00005: saving model to model_init_2020-06-2914_42_55.698276/model-00005-0.32872-0.88612-0.64020-0.78000.h5\n",
      "Epoch 6/20\n",
      "133/133 [==============================] - 94s 709ms/step - loss: 0.2865 - categorical_accuracy: 0.8987 - val_loss: 0.2689 - val_categorical_accuracy: 0.9100\n",
      "\n",
      "Epoch 00006: saving model to model_init_2020-06-2914_42_55.698276/model-00006-0.28575-0.89894-0.26889-0.91000.h5\n",
      "Epoch 7/20\n",
      "133/133 [==============================] - 97s 726ms/step - loss: 0.2389 - categorical_accuracy: 0.9256 - val_loss: 0.4406 - val_categorical_accuracy: 0.8300\n",
      "\n",
      "Epoch 00007: saving model to model_init_2020-06-2914_42_55.698276/model-00007-0.23966-0.92534-0.44059-0.83000.h5\n",
      "Epoch 8/20\n",
      "133/133 [==============================] - 94s 707ms/step - loss: 0.2616 - categorical_accuracy: 0.9160 - val_loss: 0.4179 - val_categorical_accuracy: 0.8400\n",
      "\n",
      "Epoch 00008: saving model to model_init_2020-06-2914_42_55.698276/model-00008-0.26077-0.91629-0.41792-0.84000.h5\n",
      "Epoch 9/20\n",
      "133/133 [==============================] - 94s 705ms/step - loss: 0.1938 - categorical_accuracy: 0.9333 - val_loss: 0.1806 - val_categorical_accuracy: 0.9100\n",
      "\n",
      "Epoch 00009: saving model to model_init_2020-06-2914_42_55.698276/model-00009-0.19068-0.93363-0.18064-0.91000.h5\n",
      "Epoch 10/20\n",
      "133/133 [==============================] - 96s 719ms/step - loss: 0.1664 - categorical_accuracy: 0.9398 - val_loss: 0.3400 - val_categorical_accuracy: 0.8800\n",
      "\n",
      "Epoch 00010: saving model to model_init_2020-06-2914_42_55.698276/model-00010-0.16678-0.93967-0.34000-0.88000.h5\n",
      "Epoch 11/20\n",
      "133/133 [==============================] - 93s 701ms/step - loss: 0.2836 - categorical_accuracy: 0.9033 - val_loss: 0.7720 - val_categorical_accuracy: 0.6900\n",
      "\n",
      "Epoch 00011: saving model to model_init_2020-06-2914_42_55.698276/model-00011-0.28284-0.90347-0.77202-0.69000.h5\n",
      "Epoch 12/20\n",
      "133/133 [==============================] - 96s 723ms/step - loss: 0.2270 - categorical_accuracy: 0.9221 - val_loss: 0.2909 - val_categorical_accuracy: 0.9000\n",
      "\n",
      "Epoch 00012: saving model to model_init_2020-06-2914_42_55.698276/model-00012-0.22668-0.92232-0.29089-0.90000.h5\n",
      "Epoch 13/20\n",
      "133/133 [==============================] - 93s 700ms/step - loss: 0.2492 - categorical_accuracy: 0.9173 - val_loss: 0.4552 - val_categorical_accuracy: 0.8300\n",
      "\n",
      "Epoch 00013: saving model to model_init_2020-06-2914_42_55.698276/model-00013-0.24953-0.91704-0.45524-0.83000.h5\n",
      "\n",
      "Epoch 00013: ReduceLROnPlateau reducing learning rate to 0.00020000000949949026.\n",
      "Epoch 14/20\n",
      "133/133 [==============================] - 95s 711ms/step - loss: 0.1167 - categorical_accuracy: 0.9541 - val_loss: 0.1901 - val_categorical_accuracy: 0.9200\n",
      "\n",
      "Epoch 00014: saving model to model_init_2020-06-2914_42_55.698276/model-00014-0.11698-0.95400-0.19012-0.92000.h5\n",
      "Epoch 15/20\n",
      "133/133 [==============================] - 96s 720ms/step - loss: 0.0672 - categorical_accuracy: 0.9774 - val_loss: 0.1787 - val_categorical_accuracy: 0.9200\n",
      "\n",
      "Epoch 00015: saving model to model_init_2020-06-2914_42_55.698276/model-00015-0.06734-0.97738-0.17866-0.92000.h5\n",
      "Epoch 16/20\n",
      "133/133 [==============================] - 96s 724ms/step - loss: 0.0566 - categorical_accuracy: 0.9797 - val_loss: 0.1509 - val_categorical_accuracy: 0.9300\n",
      "\n",
      "Epoch 00016: saving model to model_init_2020-06-2914_42_55.698276/model-00016-0.05676-0.97964-0.15094-0.93000.h5\n",
      "Epoch 17/20\n",
      "133/133 [==============================] - 97s 726ms/step - loss: 0.0387 - categorical_accuracy: 0.9895 - val_loss: 0.1770 - val_categorical_accuracy: 0.9400\n",
      "\n",
      "Epoch 00017: saving model to model_init_2020-06-2914_42_55.698276/model-00017-0.03880-0.98944-0.17704-0.94000.h5\n",
      "Epoch 18/20\n",
      "133/133 [==============================] - 96s 720ms/step - loss: 0.0418 - categorical_accuracy: 0.9857 - val_loss: 0.1423 - val_categorical_accuracy: 0.9500\n",
      "\n",
      "Epoch 00018: saving model to model_init_2020-06-2914_42_55.698276/model-00018-0.04192-0.98567-0.14228-0.95000.h5\n",
      "Epoch 19/20\n",
      "133/133 [==============================] - 95s 717ms/step - loss: 0.0317 - categorical_accuracy: 0.9872 - val_loss: 0.1328 - val_categorical_accuracy: 0.9300\n",
      "\n",
      "Epoch 00019: saving model to model_init_2020-06-2914_42_55.698276/model-00019-0.03183-0.98718-0.13277-0.93000.h5\n",
      "Epoch 20/20\n",
      "133/133 [==============================] - 96s 725ms/step - loss: 0.0274 - categorical_accuracy: 0.9932 - val_loss: 0.1533 - val_categorical_accuracy: 0.9400\n",
      "\n",
      "Epoch 00020: saving model to model_init_2020-06-2914_42_55.698276/model-00020-0.02743-0.99321-0.15325-0.94000.h5\n"
     ]
    }
   ],
   "source": [
    "print(\"Total Params:\", rnn_cnn_tl2_model.count_params())\n",
    "history_model19=rnn_cnn_tl2.train_model(rnn_cnn_tl2_model,augment_data=True)"
   ]
  },
  {
   "cell_type": "code",
   "execution_count": 21,
   "metadata": {},
   "outputs": [
    {
     "data": {
      "image/png": "[encoded data removed]",
      "text/plain": [
       "<Figure size 1080x288 with 2 Axes>"
      ]
     },
     "metadata": {},
     "output_type": "display_data"
    }
   ],
   "source": [
    "plot(history_model19)"
   ]
  },
  {
   "cell_type": "markdown",
   "metadata": {},
   "source": [
    "# Consolidated Final Models"
   ]
  },
  {
   "cell_type": "markdown",
   "metadata": {},
   "source": [
    "| Model Name | Model Type | No. of Param | Augment Data | Model Size(MB) | Highet val Acc. | Highet train Acc. | Remark |\n",
    "| --- | --- | --- | --- | --- | --- | --- | --- |\n",
    "| Model8-conv_3d8_model | conv3D | 230453 | Yes | 2.87 | 78% | 79% | Low Memory footprint |\n",
    "| Model10-conv_3d10_model | conv3D | 3637477 | Yes | 43.8 | 78% | 82% | -  |\n",
    "| Model17-rnn_cnn2_model | CNN + LSTM with GRU| 2573061 | Yes | 38.4 | 78% | 96% | there is not much improvement on accuracy and model is overfitting |\n",
    "| Model19-rnn_cnn_tl2_model | CNN+RNN Transfer Learning Used on CNN | 3668933 | Yes | 44.4 | 95% | 98% | Best model in terms of accuracy |\n"
   ]
  },
  {
   "cell_type": "code",
   "execution_count": null,
   "metadata": {},
   "outputs": [],
   "source": []
  }
 ],
 "metadata": {
  "kernelspec": {
   "display_name": "Python 3",
   "language": "python",
   "name": "python3"
  },
  "language_info": {
   "codemirror_mode": {
    "name": "ipython",
    "version": 3
   },
   "file_extension": ".py",
   "mimetype": "text/x-python",
   "name": "python",
   "nbconvert_exporter": "python",
   "pygments_lexer": "ipython3",
   "version": "3.6.8"
  }
 },
 "nbformat": 4,
 "nbformat_minor": 2
}
